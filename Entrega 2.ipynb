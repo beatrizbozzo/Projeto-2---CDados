{
 "cells": [
  {
   "cell_type": "markdown",
   "metadata": {},
   "source": [
    "# Projeto 2 - Ciência dos Dados\n"
   ]
  },
  {
   "cell_type": "markdown",
   "metadata": {},
   "source": [
    "Nome: Beatriz Bobrow Bozzo\n",
    "    \n",
    "Nome: Mariana Cézar\n",
    "\n",
    "Nome: Rodrigo Nigri Griner\n",
    "\n",
    "Nome: Thais Sztamfater Groberman"
   ]
  },
  {
   "cell_type": "markdown",
   "metadata": {},
   "source": [
    "___\n",
    "## Contextualização\n",
    "\n"
   ]
  },
  {
   "cell_type": "markdown",
   "metadata": {},
   "source": [
    "Doenças cardiovasculares são distúrbios do coração e de vasos sanguíneos. Esses incluem ateques cardíacos, derrames e insuficiência cardíaca, entre outras. Dessa forma, ao todo, doenças cardiovasculares representam cerca de 17 milhões de morte no mundo anualmente.\n",
    "\n",
    "Nesse estudo, será considerado pacientes que possuem insuficiência cardíaca, ou seja, quando o coração não possui força suficiente para bombear todo sangue necessário para o corpo. Essa doença está geralmente atrelada à condições como anemia, dibetes, hipertensão, entre outras.\n",
    "\n",
    "O dataset utilizado no projeto contém o prontuário de 299 pacientes e apresenta as seguintes informações:\n",
    "- age: Idade do paciente (anos)\n",
    "- anaemia: Ausência de glóbulos vermelhos ou hemoglobina\n",
    "- high blood pressure: Paciente tem hipertensão\n",
    "- creatinine phosphokinase (CPK): quantidade de enzima CPK no sangue (mcg/L)\n",
    "- diabetes: Paciente tem diabetes\n",
    "- ejection fraction: Porcentagem de sangue saindo do coração a cada sístole\n",
    "- platelets: Quantidade de plaquetas no sangue (kiloplatelets/mL)\n",
    "- sex: Mulher ou homem\n",
    "- serum creatinine:  Quantidade de creatinina no sangue (mg/dL)\n",
    "- serum sodium: Quantidade de sodio no sangue (mEq/L)\n",
    "- smoking: Paciente fuma\n",
    "- time: Tempo em que o paciente foi estudado (dias)\n",
    "- death event: Paciente morreu durante o tempo em que participou do estudo\n",
    "\n",
    "Analisando essas informações seria possível observar padrões e auxiliar os médicos a preverem se o paciente irá a óbito durante o tempo de estudo do paciente. Dessa forma, os features serão as informações do prontuário enquanto que o target será se o paciente faleceu.\n",
    "\n",
    "Como o target do nosso projeto é uma variável qualitativa, será utilizado o método de **Classificadores**.\n",
    "\n"
   ]
  },
  {
   "cell_type": "markdown",
   "metadata": {},
   "source": [
    "___\n",
    "## Lendo o Dataset"
   ]
  },
  {
   "cell_type": "markdown",
   "metadata": {},
   "source": [
    "#### Importando as bibliotecas necessárias"
   ]
  },
  {
   "cell_type": "code",
   "execution_count": 1,
   "metadata": {},
   "outputs": [],
   "source": [
    "%matplotlib inline\n",
    "import pandas as pd\n",
    "from sklearn.model_selection import train_test_split\n",
    "import matplotlib.pyplot as plt\n",
    "from matplotlib import rc\n",
    "import seaborn as sns\n",
    "import numpy as np\n",
    "import os\n",
    "from IPython.display import display"
   ]
  },
  {
   "cell_type": "markdown",
   "metadata": {},
   "source": [
    "##### Verificando o diretório em que o arquivo está"
   ]
  },
  {
   "cell_type": "code",
   "execution_count": 2,
   "metadata": {},
   "outputs": [
    {
     "name": "stdout",
     "output_type": "stream",
     "text": [
      "Encontrei o arquivo heart_failure_clinical_records_dataset.xlsx!\n"
     ]
    }
   ],
   "source": [
    "filename = 'heart_failure_clinical_records_dataset.xlsx'\n",
    "if filename in os.listdir():\n",
    "    print(f'Encontrei o arquivo {filename}!')\n",
    "else:\n",
    "    print(f'Não encontrei o arquivo {filename} aqui no diretório {os.getcwd()}, será que você não baixou o arquivo?')"
   ]
  },
  {
   "cell_type": "markdown",
   "metadata": {},
   "source": [
    "##### Lendo o dataset"
   ]
  },
  {
   "cell_type": "code",
   "execution_count": 3,
   "metadata": {},
   "outputs": [
    {
     "data": {
      "text/html": [
       "<div>\n",
       "<style scoped>\n",
       "    .dataframe tbody tr th:only-of-type {\n",
       "        vertical-align: middle;\n",
       "    }\n",
       "\n",
       "    .dataframe tbody tr th {\n",
       "        vertical-align: top;\n",
       "    }\n",
       "\n",
       "    .dataframe thead th {\n",
       "        text-align: right;\n",
       "    }\n",
       "</style>\n",
       "<table border=\"1\" class=\"dataframe\">\n",
       "  <thead>\n",
       "    <tr style=\"text-align: right;\">\n",
       "      <th></th>\n",
       "      <th>age</th>\n",
       "      <th>anaemia</th>\n",
       "      <th>creatinine_phosphokinase</th>\n",
       "      <th>diabetes</th>\n",
       "      <th>ejection_fraction</th>\n",
       "      <th>high_blood_pressure</th>\n",
       "      <th>platelets</th>\n",
       "      <th>serum_creatinine</th>\n",
       "      <th>serum_sodium</th>\n",
       "      <th>sex</th>\n",
       "      <th>smoking</th>\n",
       "      <th>time</th>\n",
       "      <th>DEATH_EVENT</th>\n",
       "    </tr>\n",
       "  </thead>\n",
       "  <tbody>\n",
       "    <tr>\n",
       "      <td>0</td>\n",
       "      <td>75</td>\n",
       "      <td>0</td>\n",
       "      <td>582</td>\n",
       "      <td>0</td>\n",
       "      <td>20</td>\n",
       "      <td>1</td>\n",
       "      <td>265000.00</td>\n",
       "      <td>1.9</td>\n",
       "      <td>130</td>\n",
       "      <td>1</td>\n",
       "      <td>0</td>\n",
       "      <td>4</td>\n",
       "      <td>1</td>\n",
       "    </tr>\n",
       "    <tr>\n",
       "      <td>1</td>\n",
       "      <td>55</td>\n",
       "      <td>0</td>\n",
       "      <td>7861</td>\n",
       "      <td>0</td>\n",
       "      <td>38</td>\n",
       "      <td>0</td>\n",
       "      <td>263358.03</td>\n",
       "      <td>1.1</td>\n",
       "      <td>136</td>\n",
       "      <td>1</td>\n",
       "      <td>0</td>\n",
       "      <td>6</td>\n",
       "      <td>1</td>\n",
       "    </tr>\n",
       "    <tr>\n",
       "      <td>2</td>\n",
       "      <td>65</td>\n",
       "      <td>0</td>\n",
       "      <td>146</td>\n",
       "      <td>0</td>\n",
       "      <td>20</td>\n",
       "      <td>0</td>\n",
       "      <td>162000.00</td>\n",
       "      <td>1.3</td>\n",
       "      <td>129</td>\n",
       "      <td>1</td>\n",
       "      <td>1</td>\n",
       "      <td>7</td>\n",
       "      <td>1</td>\n",
       "    </tr>\n",
       "    <tr>\n",
       "      <td>3</td>\n",
       "      <td>50</td>\n",
       "      <td>1</td>\n",
       "      <td>111</td>\n",
       "      <td>0</td>\n",
       "      <td>20</td>\n",
       "      <td>0</td>\n",
       "      <td>210000.00</td>\n",
       "      <td>1.9</td>\n",
       "      <td>137</td>\n",
       "      <td>1</td>\n",
       "      <td>0</td>\n",
       "      <td>7</td>\n",
       "      <td>1</td>\n",
       "    </tr>\n",
       "    <tr>\n",
       "      <td>4</td>\n",
       "      <td>65</td>\n",
       "      <td>1</td>\n",
       "      <td>160</td>\n",
       "      <td>1</td>\n",
       "      <td>20</td>\n",
       "      <td>0</td>\n",
       "      <td>327000.00</td>\n",
       "      <td>2.7</td>\n",
       "      <td>116</td>\n",
       "      <td>0</td>\n",
       "      <td>0</td>\n",
       "      <td>8</td>\n",
       "      <td>1</td>\n",
       "    </tr>\n",
       "    <tr>\n",
       "      <td>...</td>\n",
       "      <td>...</td>\n",
       "      <td>...</td>\n",
       "      <td>...</td>\n",
       "      <td>...</td>\n",
       "      <td>...</td>\n",
       "      <td>...</td>\n",
       "      <td>...</td>\n",
       "      <td>...</td>\n",
       "      <td>...</td>\n",
       "      <td>...</td>\n",
       "      <td>...</td>\n",
       "      <td>...</td>\n",
       "      <td>...</td>\n",
       "    </tr>\n",
       "    <tr>\n",
       "      <td>294</td>\n",
       "      <td>62</td>\n",
       "      <td>0</td>\n",
       "      <td>61</td>\n",
       "      <td>1</td>\n",
       "      <td>38</td>\n",
       "      <td>1</td>\n",
       "      <td>155000.00</td>\n",
       "      <td>1.1</td>\n",
       "      <td>143</td>\n",
       "      <td>1</td>\n",
       "      <td>1</td>\n",
       "      <td>270</td>\n",
       "      <td>0</td>\n",
       "    </tr>\n",
       "    <tr>\n",
       "      <td>295</td>\n",
       "      <td>55</td>\n",
       "      <td>0</td>\n",
       "      <td>1820</td>\n",
       "      <td>0</td>\n",
       "      <td>38</td>\n",
       "      <td>0</td>\n",
       "      <td>270000.00</td>\n",
       "      <td>1.2</td>\n",
       "      <td>139</td>\n",
       "      <td>0</td>\n",
       "      <td>0</td>\n",
       "      <td>271</td>\n",
       "      <td>0</td>\n",
       "    </tr>\n",
       "    <tr>\n",
       "      <td>296</td>\n",
       "      <td>45</td>\n",
       "      <td>0</td>\n",
       "      <td>2060</td>\n",
       "      <td>1</td>\n",
       "      <td>60</td>\n",
       "      <td>0</td>\n",
       "      <td>742000.00</td>\n",
       "      <td>0.8</td>\n",
       "      <td>138</td>\n",
       "      <td>0</td>\n",
       "      <td>0</td>\n",
       "      <td>278</td>\n",
       "      <td>0</td>\n",
       "    </tr>\n",
       "    <tr>\n",
       "      <td>297</td>\n",
       "      <td>45</td>\n",
       "      <td>0</td>\n",
       "      <td>2413</td>\n",
       "      <td>0</td>\n",
       "      <td>38</td>\n",
       "      <td>0</td>\n",
       "      <td>140000.00</td>\n",
       "      <td>1.4</td>\n",
       "      <td>140</td>\n",
       "      <td>1</td>\n",
       "      <td>1</td>\n",
       "      <td>280</td>\n",
       "      <td>0</td>\n",
       "    </tr>\n",
       "    <tr>\n",
       "      <td>298</td>\n",
       "      <td>50</td>\n",
       "      <td>0</td>\n",
       "      <td>196</td>\n",
       "      <td>0</td>\n",
       "      <td>45</td>\n",
       "      <td>0</td>\n",
       "      <td>395000.00</td>\n",
       "      <td>1.6</td>\n",
       "      <td>136</td>\n",
       "      <td>1</td>\n",
       "      <td>1</td>\n",
       "      <td>285</td>\n",
       "      <td>0</td>\n",
       "    </tr>\n",
       "  </tbody>\n",
       "</table>\n",
       "<p>299 rows × 13 columns</p>\n",
       "</div>"
      ],
      "text/plain": [
       "     age  anaemia  creatinine_phosphokinase  diabetes  ejection_fraction  \\\n",
       "0     75        0                       582         0                 20   \n",
       "1     55        0                      7861         0                 38   \n",
       "2     65        0                       146         0                 20   \n",
       "3     50        1                       111         0                 20   \n",
       "4     65        1                       160         1                 20   \n",
       "..   ...      ...                       ...       ...                ...   \n",
       "294   62        0                        61         1                 38   \n",
       "295   55        0                      1820         0                 38   \n",
       "296   45        0                      2060         1                 60   \n",
       "297   45        0                      2413         0                 38   \n",
       "298   50        0                       196         0                 45   \n",
       "\n",
       "     high_blood_pressure  platelets  serum_creatinine  serum_sodium  sex  \\\n",
       "0                      1  265000.00               1.9           130    1   \n",
       "1                      0  263358.03               1.1           136    1   \n",
       "2                      0  162000.00               1.3           129    1   \n",
       "3                      0  210000.00               1.9           137    1   \n",
       "4                      0  327000.00               2.7           116    0   \n",
       "..                   ...        ...               ...           ...  ...   \n",
       "294                    1  155000.00               1.1           143    1   \n",
       "295                    0  270000.00               1.2           139    0   \n",
       "296                    0  742000.00               0.8           138    0   \n",
       "297                    0  140000.00               1.4           140    1   \n",
       "298                    0  395000.00               1.6           136    1   \n",
       "\n",
       "     smoking  time  DEATH_EVENT  \n",
       "0          0     4            1  \n",
       "1          0     6            1  \n",
       "2          1     7            1  \n",
       "3          0     7            1  \n",
       "4          0     8            1  \n",
       "..       ...   ...          ...  \n",
       "294        1   270            0  \n",
       "295        0   271            0  \n",
       "296        0   278            0  \n",
       "297        1   280            0  \n",
       "298        1   285            0  \n",
       "\n",
       "[299 rows x 13 columns]"
      ]
     },
     "execution_count": 3,
     "metadata": {},
     "output_type": "execute_result"
    }
   ],
   "source": [
    "dados = pd.read_excel(filename)\n",
    "dados"
   ]
  },
  {
   "cell_type": "markdown",
   "metadata": {},
   "source": [
    "Sendo:\n",
    "- age: Idade do paciente (anos)\n",
    "- anaemia: Ausência de glóbulos vermelhos ou hemoglobina (0 = Não; 1 = Sim)\n",
    "- high blood pressure: Paciente tem hipertensão (0 = Não; 1 = Sim)\n",
    "- creatinine phosphokinase (CPK): quantidade de enzima CPK no sangue (mcg/L)\n",
    "- diabetes: Paciente tem diabetes (0 = Não; 1 = Sim)\n",
    "- ejection fraction: Porcentagem de sangue saindo do coração a cada sístole\n",
    "- platelets: Quantidade de plaquetas no sangue (kiloplatelets/mL)\n",
    "- sex: Mulher ou homem (0 = Mulher; 1 = Homem)\n",
    "- serum creatinine:  Quantidade de creatinina no sangue (mg/dL)\n",
    "- serum sodium: Quantidade de sodio no sangue (mEq/L)\n",
    "- smoking: Paciente fuma (0 = Não; 1 = Sim)\n",
    "- time: Tempo em que o paciente foi estudado (dias)\n",
    "- death event: Paciente morreu durante o tempo em que participou do estudo (0 = Não; 1 = Sim)"
   ]
  },
  {
   "cell_type": "code",
   "execution_count": 4,
   "metadata": {
    "scrolled": true
   },
   "outputs": [
    {
     "data": {
      "text/html": [
       "<div>\n",
       "<style scoped>\n",
       "    .dataframe tbody tr th:only-of-type {\n",
       "        vertical-align: middle;\n",
       "    }\n",
       "\n",
       "    .dataframe tbody tr th {\n",
       "        vertical-align: top;\n",
       "    }\n",
       "\n",
       "    .dataframe thead th {\n",
       "        text-align: right;\n",
       "    }\n",
       "</style>\n",
       "<table border=\"1\" class=\"dataframe\">\n",
       "  <thead>\n",
       "    <tr style=\"text-align: right;\">\n",
       "      <th></th>\n",
       "      <th>age</th>\n",
       "      <th>anaemia</th>\n",
       "      <th>creatinine_phosphokinase</th>\n",
       "      <th>diabetes</th>\n",
       "      <th>ejection_fraction</th>\n",
       "      <th>high_blood_pressure</th>\n",
       "      <th>platelets</th>\n",
       "      <th>serum_creatinine</th>\n",
       "      <th>serum_sodium</th>\n",
       "      <th>sex</th>\n",
       "      <th>smoking</th>\n",
       "      <th>time</th>\n",
       "      <th>DEATH_EVENT</th>\n",
       "    </tr>\n",
       "  </thead>\n",
       "  <tbody>\n",
       "    <tr>\n",
       "      <td>294</td>\n",
       "      <td>62</td>\n",
       "      <td>Não</td>\n",
       "      <td>61</td>\n",
       "      <td>Sim</td>\n",
       "      <td>38</td>\n",
       "      <td>Sim</td>\n",
       "      <td>155000.0</td>\n",
       "      <td>1.1</td>\n",
       "      <td>143</td>\n",
       "      <td>Homem</td>\n",
       "      <td>Sim</td>\n",
       "      <td>270</td>\n",
       "      <td>Não</td>\n",
       "    </tr>\n",
       "    <tr>\n",
       "      <td>295</td>\n",
       "      <td>55</td>\n",
       "      <td>Não</td>\n",
       "      <td>1820</td>\n",
       "      <td>Não</td>\n",
       "      <td>38</td>\n",
       "      <td>Não</td>\n",
       "      <td>270000.0</td>\n",
       "      <td>1.2</td>\n",
       "      <td>139</td>\n",
       "      <td>Mulher</td>\n",
       "      <td>Não</td>\n",
       "      <td>271</td>\n",
       "      <td>Não</td>\n",
       "    </tr>\n",
       "    <tr>\n",
       "      <td>296</td>\n",
       "      <td>45</td>\n",
       "      <td>Não</td>\n",
       "      <td>2060</td>\n",
       "      <td>Sim</td>\n",
       "      <td>60</td>\n",
       "      <td>Não</td>\n",
       "      <td>742000.0</td>\n",
       "      <td>0.8</td>\n",
       "      <td>138</td>\n",
       "      <td>Mulher</td>\n",
       "      <td>Não</td>\n",
       "      <td>278</td>\n",
       "      <td>Não</td>\n",
       "    </tr>\n",
       "    <tr>\n",
       "      <td>297</td>\n",
       "      <td>45</td>\n",
       "      <td>Não</td>\n",
       "      <td>2413</td>\n",
       "      <td>Não</td>\n",
       "      <td>38</td>\n",
       "      <td>Não</td>\n",
       "      <td>140000.0</td>\n",
       "      <td>1.4</td>\n",
       "      <td>140</td>\n",
       "      <td>Homem</td>\n",
       "      <td>Sim</td>\n",
       "      <td>280</td>\n",
       "      <td>Não</td>\n",
       "    </tr>\n",
       "    <tr>\n",
       "      <td>298</td>\n",
       "      <td>50</td>\n",
       "      <td>Não</td>\n",
       "      <td>196</td>\n",
       "      <td>Não</td>\n",
       "      <td>45</td>\n",
       "      <td>Não</td>\n",
       "      <td>395000.0</td>\n",
       "      <td>1.6</td>\n",
       "      <td>136</td>\n",
       "      <td>Homem</td>\n",
       "      <td>Sim</td>\n",
       "      <td>285</td>\n",
       "      <td>Não</td>\n",
       "    </tr>\n",
       "  </tbody>\n",
       "</table>\n",
       "</div>"
      ],
      "text/plain": [
       "     age anaemia  creatinine_phosphokinase diabetes  ejection_fraction  \\\n",
       "294   62     Não                        61      Sim                 38   \n",
       "295   55     Não                      1820      Não                 38   \n",
       "296   45     Não                      2060      Sim                 60   \n",
       "297   45     Não                      2413      Não                 38   \n",
       "298   50     Não                       196      Não                 45   \n",
       "\n",
       "    high_blood_pressure  platelets  serum_creatinine  serum_sodium     sex  \\\n",
       "294                 Sim   155000.0               1.1           143   Homem   \n",
       "295                 Não   270000.0               1.2           139  Mulher   \n",
       "296                 Não   742000.0               0.8           138  Mulher   \n",
       "297                 Não   140000.0               1.4           140   Homem   \n",
       "298                 Não   395000.0               1.6           136   Homem   \n",
       "\n",
       "    smoking  time DEATH_EVENT  \n",
       "294     Sim   270         Não  \n",
       "295     Não   271         Não  \n",
       "296     Não   278         Não  \n",
       "297     Sim   280         Não  \n",
       "298     Sim   285         Não  "
      ]
     },
     "execution_count": 4,
     "metadata": {},
     "output_type": "execute_result"
    }
   ],
   "source": [
    "#Definindo os tipos das variáveis de cada coluna\n",
    "dados.age = dados.age.astype('int')\n",
    "dados.anaemia = dados.anaemia.astype('category')\n",
    "dados.creatinine_phosphokinase = dados.creatinine_phosphokinase.astype('int')\n",
    "dados.diabetes = dados.diabetes.astype('category')\n",
    "dados.ejection_fraction = dados.ejection_fraction.astype('int')\n",
    "dados.high_blood_pressure = dados.high_blood_pressure.astype('category')\n",
    "dados.platelets = dados.platelets.astype('float')\n",
    "dados.serum_creatinine = dados.serum_creatinine.astype('float')\n",
    "dados.serum_sodium = dados.serum_sodium.astype('int')\n",
    "dados.sex = dados.sex.astype('category')\n",
    "dados.smoking = dados.smoking.astype('category')\n",
    "dados.time = dados.time.astype('int')\n",
    "dados.DEATH_EVENT = dados.DEATH_EVENT.astype('category')\n",
    "\n",
    "#Substrituindo os códigos numéricos por seus significados\n",
    "dados.anaemia.cat.categories = (['Não', 'Sim'])\n",
    "dados.diabetes.cat.categories  = (['Não', 'Sim'])\n",
    "dados.high_blood_pressure.cat.categories  = (['Não', 'Sim'])\n",
    "dados.sex.cat.categories  = (['Mulher', 'Homem'])\n",
    "dados.smoking.cat.categories  = (['Não', 'Sim'])\n",
    "dados.DEATH_EVENT.cat.categories  = (['Não', 'Sim'])\n",
    "\n",
    "dados.tail()"
   ]
  },
  {
   "cell_type": "code",
   "execution_count": 5,
   "metadata": {
    "scrolled": true
   },
   "outputs": [
    {
     "name": "stdout",
     "output_type": "stream",
     "text": [
      "<class 'pandas.core.frame.DataFrame'>\n",
      "RangeIndex: 299 entries, 0 to 298\n",
      "Data columns (total 13 columns):\n",
      "age                         299 non-null int32\n",
      "anaemia                     299 non-null category\n",
      "creatinine_phosphokinase    299 non-null int32\n",
      "diabetes                    299 non-null category\n",
      "ejection_fraction           299 non-null int32\n",
      "high_blood_pressure         299 non-null category\n",
      "platelets                   299 non-null float64\n",
      "serum_creatinine            299 non-null float64\n",
      "serum_sodium                299 non-null int32\n",
      "sex                         299 non-null category\n",
      "smoking                     299 non-null category\n",
      "time                        299 non-null int32\n",
      "DEATH_EVENT                 299 non-null category\n",
      "dtypes: category(6), float64(2), int32(5)\n",
      "memory usage: 13.0 KB\n"
     ]
    }
   ],
   "source": [
    "# Verificando se há colunas sem dados\n",
    "dados.info()"
   ]
  },
  {
   "cell_type": "markdown",
   "metadata": {},
   "source": [
    "##### Separando os dados em Treinamento e Teste"
   ]
  },
  {
   "cell_type": "code",
   "execution_count": 6,
   "metadata": {},
   "outputs": [
    {
     "data": {
      "text/html": [
       "<div>\n",
       "<style scoped>\n",
       "    .dataframe tbody tr th:only-of-type {\n",
       "        vertical-align: middle;\n",
       "    }\n",
       "\n",
       "    .dataframe tbody tr th {\n",
       "        vertical-align: top;\n",
       "    }\n",
       "\n",
       "    .dataframe thead th {\n",
       "        text-align: right;\n",
       "    }\n",
       "</style>\n",
       "<table border=\"1\" class=\"dataframe\">\n",
       "  <thead>\n",
       "    <tr style=\"text-align: right;\">\n",
       "      <th></th>\n",
       "      <th>age</th>\n",
       "      <th>anaemia</th>\n",
       "      <th>creatinine_phosphokinase</th>\n",
       "      <th>diabetes</th>\n",
       "      <th>ejection_fraction</th>\n",
       "      <th>high_blood_pressure</th>\n",
       "      <th>platelets</th>\n",
       "      <th>serum_creatinine</th>\n",
       "      <th>serum_sodium</th>\n",
       "      <th>sex</th>\n",
       "      <th>smoking</th>\n",
       "      <th>time</th>\n",
       "    </tr>\n",
       "  </thead>\n",
       "  <tbody>\n",
       "    <tr>\n",
       "      <td>0</td>\n",
       "      <td>75</td>\n",
       "      <td>Não</td>\n",
       "      <td>582</td>\n",
       "      <td>Não</td>\n",
       "      <td>20</td>\n",
       "      <td>Sim</td>\n",
       "      <td>265000.00</td>\n",
       "      <td>1.9</td>\n",
       "      <td>130</td>\n",
       "      <td>Homem</td>\n",
       "      <td>Não</td>\n",
       "      <td>4</td>\n",
       "    </tr>\n",
       "    <tr>\n",
       "      <td>1</td>\n",
       "      <td>55</td>\n",
       "      <td>Não</td>\n",
       "      <td>7861</td>\n",
       "      <td>Não</td>\n",
       "      <td>38</td>\n",
       "      <td>Não</td>\n",
       "      <td>263358.03</td>\n",
       "      <td>1.1</td>\n",
       "      <td>136</td>\n",
       "      <td>Homem</td>\n",
       "      <td>Não</td>\n",
       "      <td>6</td>\n",
       "    </tr>\n",
       "    <tr>\n",
       "      <td>2</td>\n",
       "      <td>65</td>\n",
       "      <td>Não</td>\n",
       "      <td>146</td>\n",
       "      <td>Não</td>\n",
       "      <td>20</td>\n",
       "      <td>Não</td>\n",
       "      <td>162000.00</td>\n",
       "      <td>1.3</td>\n",
       "      <td>129</td>\n",
       "      <td>Homem</td>\n",
       "      <td>Sim</td>\n",
       "      <td>7</td>\n",
       "    </tr>\n",
       "    <tr>\n",
       "      <td>3</td>\n",
       "      <td>50</td>\n",
       "      <td>Sim</td>\n",
       "      <td>111</td>\n",
       "      <td>Não</td>\n",
       "      <td>20</td>\n",
       "      <td>Não</td>\n",
       "      <td>210000.00</td>\n",
       "      <td>1.9</td>\n",
       "      <td>137</td>\n",
       "      <td>Homem</td>\n",
       "      <td>Não</td>\n",
       "      <td>7</td>\n",
       "    </tr>\n",
       "    <tr>\n",
       "      <td>4</td>\n",
       "      <td>65</td>\n",
       "      <td>Sim</td>\n",
       "      <td>160</td>\n",
       "      <td>Sim</td>\n",
       "      <td>20</td>\n",
       "      <td>Não</td>\n",
       "      <td>327000.00</td>\n",
       "      <td>2.7</td>\n",
       "      <td>116</td>\n",
       "      <td>Mulher</td>\n",
       "      <td>Não</td>\n",
       "      <td>8</td>\n",
       "    </tr>\n",
       "  </tbody>\n",
       "</table>\n",
       "</div>"
      ],
      "text/plain": [
       "   age anaemia  creatinine_phosphokinase diabetes  ejection_fraction  \\\n",
       "0   75     Não                       582      Não                 20   \n",
       "1   55     Não                      7861      Não                 38   \n",
       "2   65     Não                       146      Não                 20   \n",
       "3   50     Sim                       111      Não                 20   \n",
       "4   65     Sim                       160      Sim                 20   \n",
       "\n",
       "  high_blood_pressure  platelets  serum_creatinine  serum_sodium     sex  \\\n",
       "0                 Sim  265000.00               1.9           130   Homem   \n",
       "1                 Não  263358.03               1.1           136   Homem   \n",
       "2                 Não  162000.00               1.3           129   Homem   \n",
       "3                 Não  210000.00               1.9           137   Homem   \n",
       "4                 Não  327000.00               2.7           116  Mulher   \n",
       "\n",
       "  smoking  time  \n",
       "0     Não     4  \n",
       "1     Não     6  \n",
       "2     Sim     7  \n",
       "3     Não     7  \n",
       "4     Não     8  "
      ]
     },
     "execution_count": 6,
     "metadata": {},
     "output_type": "execute_result"
    }
   ],
   "source": [
    "# Criando uma variável que contém as features\n",
    "lista_colunas = list(dados.columns)\n",
    "lista_colunas.remove('DEATH_EVENT')\n",
    "\n",
    "X = dados.loc[:, lista_colunas]\n",
    "X.head()"
   ]
  },
  {
   "cell_type": "code",
   "execution_count": 7,
   "metadata": {},
   "outputs": [
    {
     "data": {
      "text/plain": [
       "0    Sim\n",
       "1    Sim\n",
       "2    Sim\n",
       "3    Sim\n",
       "4    Sim\n",
       "Name: DEATH_EVENT, dtype: category\n",
       "Categories (2, object): [Não, Sim]"
      ]
     },
     "execution_count": 7,
     "metadata": {},
     "output_type": "execute_result"
    }
   ],
   "source": [
    "# Criando uma variável que contém o target\n",
    "y = dados['DEATH_EVENT']\n",
    "y.head()"
   ]
  },
  {
   "cell_type": "code",
   "execution_count": 8,
   "metadata": {},
   "outputs": [],
   "source": [
    "# Separando aleatoriamente os dados do dataset\n",
    "X_train, X_test, y_train, y_test = train_test_split(X, y, test_size=0.33, random_state=42)"
   ]
  },
  {
   "cell_type": "markdown",
   "metadata": {},
   "source": [
    "*Treinamento*"
   ]
  },
  {
   "cell_type": "code",
   "execution_count": 9,
   "metadata": {
    "scrolled": true
   },
   "outputs": [
    {
     "data": {
      "text/html": [
       "<div>\n",
       "<style scoped>\n",
       "    .dataframe tbody tr th:only-of-type {\n",
       "        vertical-align: middle;\n",
       "    }\n",
       "\n",
       "    .dataframe tbody tr th {\n",
       "        vertical-align: top;\n",
       "    }\n",
       "\n",
       "    .dataframe thead th {\n",
       "        text-align: right;\n",
       "    }\n",
       "</style>\n",
       "<table border=\"1\" class=\"dataframe\">\n",
       "  <thead>\n",
       "    <tr style=\"text-align: right;\">\n",
       "      <th></th>\n",
       "      <th>age</th>\n",
       "      <th>anaemia</th>\n",
       "      <th>creatinine_phosphokinase</th>\n",
       "      <th>diabetes</th>\n",
       "      <th>ejection_fraction</th>\n",
       "      <th>high_blood_pressure</th>\n",
       "      <th>platelets</th>\n",
       "      <th>serum_creatinine</th>\n",
       "      <th>serum_sodium</th>\n",
       "      <th>sex</th>\n",
       "      <th>smoking</th>\n",
       "      <th>time</th>\n",
       "    </tr>\n",
       "  </thead>\n",
       "  <tbody>\n",
       "    <tr>\n",
       "      <td>101</td>\n",
       "      <td>75</td>\n",
       "      <td>Não</td>\n",
       "      <td>582</td>\n",
       "      <td>Não</td>\n",
       "      <td>45</td>\n",
       "      <td>Sim</td>\n",
       "      <td>263358.03</td>\n",
       "      <td>1.18</td>\n",
       "      <td>137</td>\n",
       "      <td>Homem</td>\n",
       "      <td>Não</td>\n",
       "      <td>87</td>\n",
       "    </tr>\n",
       "    <tr>\n",
       "      <td>69</td>\n",
       "      <td>65</td>\n",
       "      <td>Não</td>\n",
       "      <td>113</td>\n",
       "      <td>Sim</td>\n",
       "      <td>25</td>\n",
       "      <td>Não</td>\n",
       "      <td>497000.00</td>\n",
       "      <td>1.83</td>\n",
       "      <td>135</td>\n",
       "      <td>Homem</td>\n",
       "      <td>Não</td>\n",
       "      <td>67</td>\n",
       "    </tr>\n",
       "    <tr>\n",
       "      <td>31</td>\n",
       "      <td>85</td>\n",
       "      <td>Não</td>\n",
       "      <td>23</td>\n",
       "      <td>Não</td>\n",
       "      <td>45</td>\n",
       "      <td>Não</td>\n",
       "      <td>360000.00</td>\n",
       "      <td>3.00</td>\n",
       "      <td>132</td>\n",
       "      <td>Homem</td>\n",
       "      <td>Não</td>\n",
       "      <td>28</td>\n",
       "    </tr>\n",
       "    <tr>\n",
       "      <td>172</td>\n",
       "      <td>70</td>\n",
       "      <td>Sim</td>\n",
       "      <td>171</td>\n",
       "      <td>Não</td>\n",
       "      <td>60</td>\n",
       "      <td>Sim</td>\n",
       "      <td>176000.00</td>\n",
       "      <td>1.10</td>\n",
       "      <td>145</td>\n",
       "      <td>Homem</td>\n",
       "      <td>Sim</td>\n",
       "      <td>146</td>\n",
       "    </tr>\n",
       "    <tr>\n",
       "      <td>148</td>\n",
       "      <td>75</td>\n",
       "      <td>Sim</td>\n",
       "      <td>582</td>\n",
       "      <td>Não</td>\n",
       "      <td>30</td>\n",
       "      <td>Não</td>\n",
       "      <td>225000.00</td>\n",
       "      <td>1.83</td>\n",
       "      <td>134</td>\n",
       "      <td>Homem</td>\n",
       "      <td>Não</td>\n",
       "      <td>113</td>\n",
       "    </tr>\n",
       "  </tbody>\n",
       "</table>\n",
       "</div>"
      ],
      "text/plain": [
       "     age anaemia  creatinine_phosphokinase diabetes  ejection_fraction  \\\n",
       "101   75     Não                       582      Não                 45   \n",
       "69    65     Não                       113      Sim                 25   \n",
       "31    85     Não                        23      Não                 45   \n",
       "172   70     Sim                       171      Não                 60   \n",
       "148   75     Sim                       582      Não                 30   \n",
       "\n",
       "    high_blood_pressure  platelets  serum_creatinine  serum_sodium    sex  \\\n",
       "101                 Sim  263358.03              1.18           137  Homem   \n",
       "69                  Não  497000.00              1.83           135  Homem   \n",
       "31                  Não  360000.00              3.00           132  Homem   \n",
       "172                 Sim  176000.00              1.10           145  Homem   \n",
       "148                 Não  225000.00              1.83           134  Homem   \n",
       "\n",
       "    smoking  time  \n",
       "101     Não    87  \n",
       "69      Não    67  \n",
       "31      Não    28  \n",
       "172     Sim   146  \n",
       "148     Não   113  "
      ]
     },
     "execution_count": 9,
     "metadata": {},
     "output_type": "execute_result"
    }
   ],
   "source": [
    "X_train.head()"
   ]
  },
  {
   "cell_type": "code",
   "execution_count": 10,
   "metadata": {},
   "outputs": [
    {
     "data": {
      "text/plain": [
       "101    Não\n",
       "69     Sim\n",
       "31     Sim\n",
       "172    Não\n",
       "148    Sim\n",
       "Name: DEATH_EVENT, dtype: category\n",
       "Categories (2, object): [Não, Sim]"
      ]
     },
     "execution_count": 10,
     "metadata": {},
     "output_type": "execute_result"
    }
   ],
   "source": [
    "y_train.head()"
   ]
  },
  {
   "cell_type": "code",
   "execution_count": 11,
   "metadata": {
    "scrolled": false
   },
   "outputs": [
    {
     "data": {
      "text/html": [
       "<div>\n",
       "<style scoped>\n",
       "    .dataframe tbody tr th:only-of-type {\n",
       "        vertical-align: middle;\n",
       "    }\n",
       "\n",
       "    .dataframe tbody tr th {\n",
       "        vertical-align: top;\n",
       "    }\n",
       "\n",
       "    .dataframe thead th {\n",
       "        text-align: right;\n",
       "    }\n",
       "</style>\n",
       "<table border=\"1\" class=\"dataframe\">\n",
       "  <thead>\n",
       "    <tr style=\"text-align: right;\">\n",
       "      <th></th>\n",
       "      <th>age</th>\n",
       "      <th>anaemia</th>\n",
       "      <th>creatinine_phosphokinase</th>\n",
       "      <th>diabetes</th>\n",
       "      <th>ejection_fraction</th>\n",
       "      <th>high_blood_pressure</th>\n",
       "      <th>platelets</th>\n",
       "      <th>serum_creatinine</th>\n",
       "      <th>serum_sodium</th>\n",
       "      <th>sex</th>\n",
       "      <th>smoking</th>\n",
       "      <th>time</th>\n",
       "      <th>DEATH_EVENT</th>\n",
       "    </tr>\n",
       "  </thead>\n",
       "  <tbody>\n",
       "    <tr>\n",
       "      <td>101</td>\n",
       "      <td>75</td>\n",
       "      <td>Não</td>\n",
       "      <td>582</td>\n",
       "      <td>Não</td>\n",
       "      <td>45</td>\n",
       "      <td>Sim</td>\n",
       "      <td>263358.03</td>\n",
       "      <td>1.18</td>\n",
       "      <td>137</td>\n",
       "      <td>Homem</td>\n",
       "      <td>Não</td>\n",
       "      <td>87</td>\n",
       "      <td>Não</td>\n",
       "    </tr>\n",
       "    <tr>\n",
       "      <td>69</td>\n",
       "      <td>65</td>\n",
       "      <td>Não</td>\n",
       "      <td>113</td>\n",
       "      <td>Sim</td>\n",
       "      <td>25</td>\n",
       "      <td>Não</td>\n",
       "      <td>497000.00</td>\n",
       "      <td>1.83</td>\n",
       "      <td>135</td>\n",
       "      <td>Homem</td>\n",
       "      <td>Não</td>\n",
       "      <td>67</td>\n",
       "      <td>Sim</td>\n",
       "    </tr>\n",
       "    <tr>\n",
       "      <td>31</td>\n",
       "      <td>85</td>\n",
       "      <td>Não</td>\n",
       "      <td>23</td>\n",
       "      <td>Não</td>\n",
       "      <td>45</td>\n",
       "      <td>Não</td>\n",
       "      <td>360000.00</td>\n",
       "      <td>3.00</td>\n",
       "      <td>132</td>\n",
       "      <td>Homem</td>\n",
       "      <td>Não</td>\n",
       "      <td>28</td>\n",
       "      <td>Sim</td>\n",
       "    </tr>\n",
       "    <tr>\n",
       "      <td>172</td>\n",
       "      <td>70</td>\n",
       "      <td>Sim</td>\n",
       "      <td>171</td>\n",
       "      <td>Não</td>\n",
       "      <td>60</td>\n",
       "      <td>Sim</td>\n",
       "      <td>176000.00</td>\n",
       "      <td>1.10</td>\n",
       "      <td>145</td>\n",
       "      <td>Homem</td>\n",
       "      <td>Sim</td>\n",
       "      <td>146</td>\n",
       "      <td>Não</td>\n",
       "    </tr>\n",
       "    <tr>\n",
       "      <td>148</td>\n",
       "      <td>75</td>\n",
       "      <td>Sim</td>\n",
       "      <td>582</td>\n",
       "      <td>Não</td>\n",
       "      <td>30</td>\n",
       "      <td>Não</td>\n",
       "      <td>225000.00</td>\n",
       "      <td>1.83</td>\n",
       "      <td>134</td>\n",
       "      <td>Homem</td>\n",
       "      <td>Não</td>\n",
       "      <td>113</td>\n",
       "      <td>Sim</td>\n",
       "    </tr>\n",
       "  </tbody>\n",
       "</table>\n",
       "</div>"
      ],
      "text/plain": [
       "     age anaemia  creatinine_phosphokinase diabetes  ejection_fraction  \\\n",
       "101   75     Não                       582      Não                 45   \n",
       "69    65     Não                       113      Sim                 25   \n",
       "31    85     Não                        23      Não                 45   \n",
       "172   70     Sim                       171      Não                 60   \n",
       "148   75     Sim                       582      Não                 30   \n",
       "\n",
       "    high_blood_pressure  platelets  serum_creatinine  serum_sodium    sex  \\\n",
       "101                 Sim  263358.03              1.18           137  Homem   \n",
       "69                  Não  497000.00              1.83           135  Homem   \n",
       "31                  Não  360000.00              3.00           132  Homem   \n",
       "172                 Sim  176000.00              1.10           145  Homem   \n",
       "148                 Não  225000.00              1.83           134  Homem   \n",
       "\n",
       "    smoking  time DEATH_EVENT  \n",
       "101     Não    87         Não  \n",
       "69      Não    67         Sim  \n",
       "31      Não    28         Sim  \n",
       "172     Sim   146         Não  \n",
       "148     Não   113         Sim  "
      ]
     },
     "execution_count": 11,
     "metadata": {},
     "output_type": "execute_result"
    }
   ],
   "source": [
    "# Juntando a tabela dos features e target para o Treinamento\n",
    "train = X_train.join(y_train, how = 'inner')\n",
    "train.head()"
   ]
  },
  {
   "cell_type": "markdown",
   "metadata": {},
   "source": [
    "*Teste*"
   ]
  },
  {
   "cell_type": "code",
   "execution_count": 12,
   "metadata": {},
   "outputs": [
    {
     "data": {
      "text/html": [
       "<div>\n",
       "<style scoped>\n",
       "    .dataframe tbody tr th:only-of-type {\n",
       "        vertical-align: middle;\n",
       "    }\n",
       "\n",
       "    .dataframe tbody tr th {\n",
       "        vertical-align: top;\n",
       "    }\n",
       "\n",
       "    .dataframe thead th {\n",
       "        text-align: right;\n",
       "    }\n",
       "</style>\n",
       "<table border=\"1\" class=\"dataframe\">\n",
       "  <thead>\n",
       "    <tr style=\"text-align: right;\">\n",
       "      <th></th>\n",
       "      <th>age</th>\n",
       "      <th>anaemia</th>\n",
       "      <th>creatinine_phosphokinase</th>\n",
       "      <th>diabetes</th>\n",
       "      <th>ejection_fraction</th>\n",
       "      <th>high_blood_pressure</th>\n",
       "      <th>platelets</th>\n",
       "      <th>serum_creatinine</th>\n",
       "      <th>serum_sodium</th>\n",
       "      <th>sex</th>\n",
       "      <th>smoking</th>\n",
       "      <th>time</th>\n",
       "    </tr>\n",
       "  </thead>\n",
       "  <tbody>\n",
       "    <tr>\n",
       "      <td>281</td>\n",
       "      <td>70</td>\n",
       "      <td>Não</td>\n",
       "      <td>582</td>\n",
       "      <td>Não</td>\n",
       "      <td>40</td>\n",
       "      <td>Não</td>\n",
       "      <td>51000.0</td>\n",
       "      <td>2.7</td>\n",
       "      <td>136</td>\n",
       "      <td>Homem</td>\n",
       "      <td>Sim</td>\n",
       "      <td>250</td>\n",
       "    </tr>\n",
       "    <tr>\n",
       "      <td>265</td>\n",
       "      <td>50</td>\n",
       "      <td>Sim</td>\n",
       "      <td>298</td>\n",
       "      <td>Não</td>\n",
       "      <td>35</td>\n",
       "      <td>Não</td>\n",
       "      <td>362000.0</td>\n",
       "      <td>0.9</td>\n",
       "      <td>140</td>\n",
       "      <td>Homem</td>\n",
       "      <td>Sim</td>\n",
       "      <td>240</td>\n",
       "    </tr>\n",
       "    <tr>\n",
       "      <td>164</td>\n",
       "      <td>45</td>\n",
       "      <td>Não</td>\n",
       "      <td>2442</td>\n",
       "      <td>Sim</td>\n",
       "      <td>30</td>\n",
       "      <td>Não</td>\n",
       "      <td>334000.0</td>\n",
       "      <td>1.1</td>\n",
       "      <td>139</td>\n",
       "      <td>Homem</td>\n",
       "      <td>Não</td>\n",
       "      <td>129</td>\n",
       "    </tr>\n",
       "    <tr>\n",
       "      <td>9</td>\n",
       "      <td>80</td>\n",
       "      <td>Sim</td>\n",
       "      <td>123</td>\n",
       "      <td>Não</td>\n",
       "      <td>35</td>\n",
       "      <td>Sim</td>\n",
       "      <td>388000.0</td>\n",
       "      <td>9.4</td>\n",
       "      <td>133</td>\n",
       "      <td>Homem</td>\n",
       "      <td>Sim</td>\n",
       "      <td>10</td>\n",
       "    </tr>\n",
       "    <tr>\n",
       "      <td>77</td>\n",
       "      <td>42</td>\n",
       "      <td>Não</td>\n",
       "      <td>102</td>\n",
       "      <td>Sim</td>\n",
       "      <td>40</td>\n",
       "      <td>Não</td>\n",
       "      <td>237000.0</td>\n",
       "      <td>1.2</td>\n",
       "      <td>140</td>\n",
       "      <td>Homem</td>\n",
       "      <td>Não</td>\n",
       "      <td>74</td>\n",
       "    </tr>\n",
       "  </tbody>\n",
       "</table>\n",
       "</div>"
      ],
      "text/plain": [
       "     age anaemia  creatinine_phosphokinase diabetes  ejection_fraction  \\\n",
       "281   70     Não                       582      Não                 40   \n",
       "265   50     Sim                       298      Não                 35   \n",
       "164   45     Não                      2442      Sim                 30   \n",
       "9     80     Sim                       123      Não                 35   \n",
       "77    42     Não                       102      Sim                 40   \n",
       "\n",
       "    high_blood_pressure  platelets  serum_creatinine  serum_sodium    sex  \\\n",
       "281                 Não    51000.0               2.7           136  Homem   \n",
       "265                 Não   362000.0               0.9           140  Homem   \n",
       "164                 Não   334000.0               1.1           139  Homem   \n",
       "9                   Sim   388000.0               9.4           133  Homem   \n",
       "77                  Não   237000.0               1.2           140  Homem   \n",
       "\n",
       "    smoking  time  \n",
       "281     Sim   250  \n",
       "265     Sim   240  \n",
       "164     Não   129  \n",
       "9       Sim    10  \n",
       "77      Não    74  "
      ]
     },
     "execution_count": 12,
     "metadata": {},
     "output_type": "execute_result"
    }
   ],
   "source": [
    "X_test.head()"
   ]
  },
  {
   "cell_type": "code",
   "execution_count": 13,
   "metadata": {},
   "outputs": [
    {
     "data": {
      "text/plain": [
       "281    Não\n",
       "265    Não\n",
       "164    Sim\n",
       "9      Sim\n",
       "77     Não\n",
       "Name: DEATH_EVENT, dtype: category\n",
       "Categories (2, object): [Não, Sim]"
      ]
     },
     "execution_count": 13,
     "metadata": {},
     "output_type": "execute_result"
    }
   ],
   "source": [
    "y_test.head()"
   ]
  },
  {
   "cell_type": "code",
   "execution_count": 14,
   "metadata": {},
   "outputs": [
    {
     "data": {
      "text/html": [
       "<div>\n",
       "<style scoped>\n",
       "    .dataframe tbody tr th:only-of-type {\n",
       "        vertical-align: middle;\n",
       "    }\n",
       "\n",
       "    .dataframe tbody tr th {\n",
       "        vertical-align: top;\n",
       "    }\n",
       "\n",
       "    .dataframe thead th {\n",
       "        text-align: right;\n",
       "    }\n",
       "</style>\n",
       "<table border=\"1\" class=\"dataframe\">\n",
       "  <thead>\n",
       "    <tr style=\"text-align: right;\">\n",
       "      <th></th>\n",
       "      <th>age</th>\n",
       "      <th>anaemia</th>\n",
       "      <th>creatinine_phosphokinase</th>\n",
       "      <th>diabetes</th>\n",
       "      <th>ejection_fraction</th>\n",
       "      <th>high_blood_pressure</th>\n",
       "      <th>platelets</th>\n",
       "      <th>serum_creatinine</th>\n",
       "      <th>serum_sodium</th>\n",
       "      <th>sex</th>\n",
       "      <th>smoking</th>\n",
       "      <th>time</th>\n",
       "      <th>DEATH_EVENT</th>\n",
       "    </tr>\n",
       "  </thead>\n",
       "  <tbody>\n",
       "    <tr>\n",
       "      <td>281</td>\n",
       "      <td>70</td>\n",
       "      <td>Não</td>\n",
       "      <td>582</td>\n",
       "      <td>Não</td>\n",
       "      <td>40</td>\n",
       "      <td>Não</td>\n",
       "      <td>51000.0</td>\n",
       "      <td>2.7</td>\n",
       "      <td>136</td>\n",
       "      <td>Homem</td>\n",
       "      <td>Sim</td>\n",
       "      <td>250</td>\n",
       "      <td>Não</td>\n",
       "    </tr>\n",
       "    <tr>\n",
       "      <td>265</td>\n",
       "      <td>50</td>\n",
       "      <td>Sim</td>\n",
       "      <td>298</td>\n",
       "      <td>Não</td>\n",
       "      <td>35</td>\n",
       "      <td>Não</td>\n",
       "      <td>362000.0</td>\n",
       "      <td>0.9</td>\n",
       "      <td>140</td>\n",
       "      <td>Homem</td>\n",
       "      <td>Sim</td>\n",
       "      <td>240</td>\n",
       "      <td>Não</td>\n",
       "    </tr>\n",
       "    <tr>\n",
       "      <td>164</td>\n",
       "      <td>45</td>\n",
       "      <td>Não</td>\n",
       "      <td>2442</td>\n",
       "      <td>Sim</td>\n",
       "      <td>30</td>\n",
       "      <td>Não</td>\n",
       "      <td>334000.0</td>\n",
       "      <td>1.1</td>\n",
       "      <td>139</td>\n",
       "      <td>Homem</td>\n",
       "      <td>Não</td>\n",
       "      <td>129</td>\n",
       "      <td>Sim</td>\n",
       "    </tr>\n",
       "    <tr>\n",
       "      <td>9</td>\n",
       "      <td>80</td>\n",
       "      <td>Sim</td>\n",
       "      <td>123</td>\n",
       "      <td>Não</td>\n",
       "      <td>35</td>\n",
       "      <td>Sim</td>\n",
       "      <td>388000.0</td>\n",
       "      <td>9.4</td>\n",
       "      <td>133</td>\n",
       "      <td>Homem</td>\n",
       "      <td>Sim</td>\n",
       "      <td>10</td>\n",
       "      <td>Sim</td>\n",
       "    </tr>\n",
       "    <tr>\n",
       "      <td>77</td>\n",
       "      <td>42</td>\n",
       "      <td>Não</td>\n",
       "      <td>102</td>\n",
       "      <td>Sim</td>\n",
       "      <td>40</td>\n",
       "      <td>Não</td>\n",
       "      <td>237000.0</td>\n",
       "      <td>1.2</td>\n",
       "      <td>140</td>\n",
       "      <td>Homem</td>\n",
       "      <td>Não</td>\n",
       "      <td>74</td>\n",
       "      <td>Não</td>\n",
       "    </tr>\n",
       "  </tbody>\n",
       "</table>\n",
       "</div>"
      ],
      "text/plain": [
       "     age anaemia  creatinine_phosphokinase diabetes  ejection_fraction  \\\n",
       "281   70     Não                       582      Não                 40   \n",
       "265   50     Sim                       298      Não                 35   \n",
       "164   45     Não                      2442      Sim                 30   \n",
       "9     80     Sim                       123      Não                 35   \n",
       "77    42     Não                       102      Sim                 40   \n",
       "\n",
       "    high_blood_pressure  platelets  serum_creatinine  serum_sodium    sex  \\\n",
       "281                 Não    51000.0               2.7           136  Homem   \n",
       "265                 Não   362000.0               0.9           140  Homem   \n",
       "164                 Não   334000.0               1.1           139  Homem   \n",
       "9                   Sim   388000.0               9.4           133  Homem   \n",
       "77                  Não   237000.0               1.2           140  Homem   \n",
       "\n",
       "    smoking  time DEATH_EVENT  \n",
       "281     Sim   250         Não  \n",
       "265     Sim   240         Não  \n",
       "164     Não   129         Sim  \n",
       "9       Sim    10         Sim  \n",
       "77      Não    74         Não  "
      ]
     },
     "execution_count": 14,
     "metadata": {},
     "output_type": "execute_result"
    }
   ],
   "source": [
    "# Juntando a tabela dos features e target para o Teste\n",
    "test = X_test.join(y_test, how = 'inner')\n",
    "test.head()"
   ]
  },
  {
   "cell_type": "markdown",
   "metadata": {},
   "source": [
    "___\n",
    "## Análise exploratória"
   ]
  },
  {
   "cell_type": "markdown",
   "metadata": {},
   "source": [
    "Como as variáveis são tanto numéricas quanto categóricas, é necessário analisá-las separadamente."
   ]
  },
  {
   "cell_type": "markdown",
   "metadata": {},
   "source": [
    "### Análise numérica"
   ]
  },
  {
   "cell_type": "code",
   "execution_count": 15,
   "metadata": {},
   "outputs": [
    {
     "data": {
      "text/html": [
       "<div>\n",
       "<style scoped>\n",
       "    .dataframe tbody tr th:only-of-type {\n",
       "        vertical-align: middle;\n",
       "    }\n",
       "\n",
       "    .dataframe tbody tr th {\n",
       "        vertical-align: top;\n",
       "    }\n",
       "\n",
       "    .dataframe thead th {\n",
       "        text-align: right;\n",
       "    }\n",
       "</style>\n",
       "<table border=\"1\" class=\"dataframe\">\n",
       "  <thead>\n",
       "    <tr style=\"text-align: right;\">\n",
       "      <th></th>\n",
       "      <th>age</th>\n",
       "      <th>creatinine_phosphokinase</th>\n",
       "      <th>ejection_fraction</th>\n",
       "      <th>platelets</th>\n",
       "      <th>serum_creatinine</th>\n",
       "      <th>serum_sodium</th>\n",
       "      <th>time</th>\n",
       "    </tr>\n",
       "  </thead>\n",
       "  <tbody>\n",
       "    <tr>\n",
       "      <td>count</td>\n",
       "      <td>299.000000</td>\n",
       "      <td>299.000000</td>\n",
       "      <td>299.000000</td>\n",
       "      <td>299.000000</td>\n",
       "      <td>299.00000</td>\n",
       "      <td>299.000000</td>\n",
       "      <td>299.000000</td>\n",
       "    </tr>\n",
       "    <tr>\n",
       "      <td>mean</td>\n",
       "      <td>60.782609</td>\n",
       "      <td>581.839465</td>\n",
       "      <td>38.083612</td>\n",
       "      <td>263358.029264</td>\n",
       "      <td>1.39388</td>\n",
       "      <td>136.625418</td>\n",
       "      <td>130.260870</td>\n",
       "    </tr>\n",
       "    <tr>\n",
       "      <td>std</td>\n",
       "      <td>11.913963</td>\n",
       "      <td>970.287881</td>\n",
       "      <td>11.834841</td>\n",
       "      <td>97804.236869</td>\n",
       "      <td>1.03451</td>\n",
       "      <td>4.412477</td>\n",
       "      <td>77.614208</td>\n",
       "    </tr>\n",
       "    <tr>\n",
       "      <td>min</td>\n",
       "      <td>40.000000</td>\n",
       "      <td>23.000000</td>\n",
       "      <td>14.000000</td>\n",
       "      <td>25100.000000</td>\n",
       "      <td>0.50000</td>\n",
       "      <td>113.000000</td>\n",
       "      <td>4.000000</td>\n",
       "    </tr>\n",
       "    <tr>\n",
       "      <td>25%</td>\n",
       "      <td>50.500000</td>\n",
       "      <td>116.500000</td>\n",
       "      <td>30.000000</td>\n",
       "      <td>212500.000000</td>\n",
       "      <td>0.90000</td>\n",
       "      <td>134.000000</td>\n",
       "      <td>73.000000</td>\n",
       "    </tr>\n",
       "    <tr>\n",
       "      <td>50%</td>\n",
       "      <td>60.000000</td>\n",
       "      <td>250.000000</td>\n",
       "      <td>38.000000</td>\n",
       "      <td>262000.000000</td>\n",
       "      <td>1.10000</td>\n",
       "      <td>137.000000</td>\n",
       "      <td>115.000000</td>\n",
       "    </tr>\n",
       "    <tr>\n",
       "      <td>75%</td>\n",
       "      <td>70.000000</td>\n",
       "      <td>582.000000</td>\n",
       "      <td>45.000000</td>\n",
       "      <td>303500.000000</td>\n",
       "      <td>1.40000</td>\n",
       "      <td>140.000000</td>\n",
       "      <td>203.000000</td>\n",
       "    </tr>\n",
       "    <tr>\n",
       "      <td>max</td>\n",
       "      <td>95.000000</td>\n",
       "      <td>7861.000000</td>\n",
       "      <td>80.000000</td>\n",
       "      <td>850000.000000</td>\n",
       "      <td>9.40000</td>\n",
       "      <td>148.000000</td>\n",
       "      <td>285.000000</td>\n",
       "    </tr>\n",
       "  </tbody>\n",
       "</table>\n",
       "</div>"
      ],
      "text/plain": [
       "              age  creatinine_phosphokinase  ejection_fraction      platelets  \\\n",
       "count  299.000000                299.000000         299.000000     299.000000   \n",
       "mean    60.782609                581.839465          38.083612  263358.029264   \n",
       "std     11.913963                970.287881          11.834841   97804.236869   \n",
       "min     40.000000                 23.000000          14.000000   25100.000000   \n",
       "25%     50.500000                116.500000          30.000000  212500.000000   \n",
       "50%     60.000000                250.000000          38.000000  262000.000000   \n",
       "75%     70.000000                582.000000          45.000000  303500.000000   \n",
       "max     95.000000               7861.000000          80.000000  850000.000000   \n",
       "\n",
       "       serum_creatinine  serum_sodium        time  \n",
       "count         299.00000    299.000000  299.000000  \n",
       "mean            1.39388    136.625418  130.260870  \n",
       "std             1.03451      4.412477   77.614208  \n",
       "min             0.50000    113.000000    4.000000  \n",
       "25%             0.90000    134.000000   73.000000  \n",
       "50%             1.10000    137.000000  115.000000  \n",
       "75%             1.40000    140.000000  203.000000  \n",
       "max             9.40000    148.000000  285.000000  "
      ]
     },
     "execution_count": 15,
     "metadata": {},
     "output_type": "execute_result"
    }
   ],
   "source": [
    "# medidas resumo\n",
    "medidas_resumo = dados.describe()\n",
    "medidas_resumo"
   ]
  },
  {
   "cell_type": "code",
   "execution_count": 16,
   "metadata": {},
   "outputs": [],
   "source": [
    "sobrevivente = dados['DEATH_EVENT'] == 'Não'\n",
    "nao_sobrevivente = dados['DEATH_EVENT'] == 'Sim'"
   ]
  },
  {
   "cell_type": "code",
   "execution_count": 17,
   "metadata": {},
   "outputs": [],
   "source": [
    "# AGE\n",
    "age_sobrevivente = dados.loc[sobrevivente, ['age']]\n",
    "age_nao_sobrevivente = dados.loc[nao_sobrevivente, ['age']]"
   ]
  },
  {
   "cell_type": "code",
   "execution_count": 18,
   "metadata": {},
   "outputs": [
    {
     "data": {
      "text/plain": [
       "count    299.000000\n",
       "mean      60.782609\n",
       "std       11.913963\n",
       "min       40.000000\n",
       "25%       50.500000\n",
       "50%       60.000000\n",
       "75%       70.000000\n",
       "max       95.000000\n",
       "Name: age, dtype: float64"
      ]
     },
     "execution_count": 18,
     "metadata": {},
     "output_type": "execute_result"
    }
   ],
   "source": [
    "dados.age.describe()"
   ]
  },
  {
   "cell_type": "code",
   "execution_count": 19,
   "metadata": {
    "scrolled": false
   },
   "outputs": [
    {
     "data": {
      "image/png": "[encoded data removed]",
      "text/plain": [
       "<Figure size 1008x360 with 2 Axes>"
      ]
     },
     "metadata": {
      "needs_background": "light"
     },
     "output_type": "display_data"
    }
   ],
   "source": [
    "faixa_age = np.arange(40, 96, 5)\n",
    "\n",
    "plt.figure(figsize=(14, 5))\n",
    "plt.subplot(121)\n",
    "plt.hist(age_sobrevivente['age'], bins = faixa_age, edgecolor = 'k', density = True, color = 'darkcyan')\n",
    "plt.title('age sobreviventes')\n",
    "plt.ylabel('densidade')\n",
    "plt.ylim(0, 0.040)\n",
    "plt.xlabel('idade [anos]')\n",
    "\n",
    "plt.subplot(122)\n",
    "plt.hist(age_nao_sobrevivente['age'], bins = faixa_age, edgecolor = 'k', density = True, color = 'darkcyan')\n",
    "plt.title('age não sobreviventes')\n",
    "plt.ylabel('densidade')\n",
    "plt.xlabel('idade [anos]')\n",
    "plt.ylim(0, 0.040)\n",
    "plt.show()"
   ]
  },
  {
   "cell_type": "markdown",
   "metadata": {},
   "source": [
    "Observando os gráficos, percebe-se que pacientes entre 40 e 70 anos, possuem uma taxa de sobrevivencia próxima ou superior à taxa de não sobrevivencia. E a partir de 70, observa-se uma queda na taxa de sobrevivência, e dessa forma, a taxa de não sobrevivência se torna maior."
   ]
  },
  {
   "cell_type": "code",
   "execution_count": 20,
   "metadata": {},
   "outputs": [],
   "source": [
    "# CREATININE_PHOSPHOKINASE\n",
    "cpk_sobrevivente = dados.loc[sobrevivente, ['creatinine_phosphokinase']]\n",
    "cpk_nao_sobrevivente = dados.loc[nao_sobrevivente, ['creatinine_phosphokinase']]"
   ]
  },
  {
   "cell_type": "code",
   "execution_count": 21,
   "metadata": {},
   "outputs": [
    {
     "data": {
      "text/plain": [
       "count     299.000000\n",
       "mean      581.839465\n",
       "std       970.287881\n",
       "min        23.000000\n",
       "25%       116.500000\n",
       "50%       250.000000\n",
       "75%       582.000000\n",
       "max      7861.000000\n",
       "Name: creatinine_phosphokinase, dtype: float64"
      ]
     },
     "execution_count": 21,
     "metadata": {},
     "output_type": "execute_result"
    }
   ],
   "source": [
    "dados.creatinine_phosphokinase.describe()"
   ]
  },
  {
   "cell_type": "code",
   "execution_count": 22,
   "metadata": {},
   "outputs": [
    {
     "data": {
      "image/png": "[encoded data removed]",
      "text/plain": [
       "<Figure size 1008x360 with 2 Axes>"
      ]
     },
     "metadata": {
      "needs_background": "light"
     },
     "output_type": "display_data"
    }
   ],
   "source": [
    "faixa_cpk = np.arange(23, 7861, 200)\n",
    "\n",
    "plt.figure(figsize=(14, 5))\n",
    "plt.subplot(121)\n",
    "plt.hist(cpk_sobrevivente['creatinine_phosphokinase'], bins = faixa_cpk, edgecolor = 'k', density = True, color = 'darkcyan')\n",
    "plt.title('cpk sobreviventes')\n",
    "plt.ylabel('densidade')\n",
    "plt.xlabel('nível de cpk [mcg/L]')\n",
    "plt.ylim(0, 0.0025)\n",
    "\n",
    "plt.subplot(122)\n",
    "plt.hist(cpk_nao_sobrevivente['creatinine_phosphokinase'], bins = faixa_cpk, edgecolor = 'k', density = True, color = 'darkcyan')\n",
    "plt.title('cpk não sobreviventes')\n",
    "plt.ylabel('densidade')\n",
    "plt.ylim(0, 0.0025)\n",
    "plt.xlabel('nível de cpk [mcg/L]')\n",
    "\n",
    "plt.show()"
   ]
  },
  {
   "cell_type": "markdown",
   "metadata": {},
   "source": [
    "Observando o gráfico, percebe-se que o cpk possuí níveis próximos tanto nos pacieentes que sobreviveram e que não sobreviveram. Assim concluímos, que o nível da enzima cpk no sangue dos paciêntes, não afeta diretamente a taxa de sobrevivência."
   ]
  },
  {
   "cell_type": "code",
   "execution_count": 23,
   "metadata": {},
   "outputs": [],
   "source": [
    "# EJECTION FRACTION\n",
    "ef_sobrevivente = dados.loc[sobrevivente, ['ejection_fraction']]\n",
    "ef_nao_sobrevivente = dados.loc[nao_sobrevivente, ['ejection_fraction']]"
   ]
  },
  {
   "cell_type": "code",
   "execution_count": 24,
   "metadata": {},
   "outputs": [
    {
     "data": {
      "text/plain": [
       "count    299.000000\n",
       "mean      38.083612\n",
       "std       11.834841\n",
       "min       14.000000\n",
       "25%       30.000000\n",
       "50%       38.000000\n",
       "75%       45.000000\n",
       "max       80.000000\n",
       "Name: ejection_fraction, dtype: float64"
      ]
     },
     "execution_count": 24,
     "metadata": {},
     "output_type": "execute_result"
    }
   ],
   "source": [
    "dados.ejection_fraction.describe()"
   ]
  },
  {
   "cell_type": "code",
   "execution_count": 25,
   "metadata": {},
   "outputs": [
    {
     "data": {
      "image/png": "[encoded data removed]",
      "text/plain": [
       "<Figure size 1008x360 with 2 Axes>"
      ]
     },
     "metadata": {
      "needs_background": "light"
     },
     "output_type": "display_data"
    }
   ],
   "source": [
    "faixa_ef = np.arange(14, 81, 5)\n",
    "\n",
    "plt.figure(figsize=(14, 5))\n",
    "plt.subplot(121)\n",
    "plt.hist(ef_sobrevivente['ejection_fraction'], bins = faixa_ef, edgecolor = 'k', density = True, color = 'darkcyan')\n",
    "plt.title('ef sobreviventes')\n",
    "plt.ylabel('densidade')\n",
    "plt.xlabel('ejection fraction [%]')\n",
    "plt.ylim(0, 0.07)\n",
    "\n",
    "plt.subplot(122)\n",
    "plt.hist(ef_nao_sobrevivente['ejection_fraction'], bins = faixa_ef, edgecolor = 'k', density = True, color = 'darkcyan')\n",
    "plt.title('ef não sobreviventes')\n",
    "plt.ylabel('densidade')\n",
    "plt.xlabel('ejection fraction [%]')\n",
    "plt.ylim(0, 0.07)\n",
    "\n",
    "plt.show()"
   ]
  },
  {
   "cell_type": "markdown",
   "metadata": {},
   "source": [
    "Pelo gáfico, infere-se que a porcentagem de sangue saindo do coração a cada sístole (ejection fraction) no intervalo de 0 a 30%, a taxa de sobrevivência é inferior à taxa de não sobreviência. Quando os valores são maiores do que 30%, a taxa de sobrevivência e não sobrevivência são mais próximas."
   ]
  },
  {
   "cell_type": "code",
   "execution_count": 26,
   "metadata": {},
   "outputs": [],
   "source": [
    "# PLATELETS\n",
    "platelets_sobrevivente = dados.loc[sobrevivente, ['platelets']]\n",
    "platelets_nao_sobrevivente = dados.loc[nao_sobrevivente, ['platelets']]"
   ]
  },
  {
   "cell_type": "code",
   "execution_count": 27,
   "metadata": {},
   "outputs": [
    {
     "data": {
      "text/plain": [
       "count       299.000000\n",
       "mean     263358.029264\n",
       "std       97804.236869\n",
       "min       25100.000000\n",
       "25%      212500.000000\n",
       "50%      262000.000000\n",
       "75%      303500.000000\n",
       "max      850000.000000\n",
       "Name: platelets, dtype: float64"
      ]
     },
     "execution_count": 27,
     "metadata": {},
     "output_type": "execute_result"
    }
   ],
   "source": [
    "dados.platelets.describe()"
   ]
  },
  {
   "cell_type": "code",
   "execution_count": 28,
   "metadata": {
    "scrolled": true
   },
   "outputs": [
    {
     "data": {
      "image/png": "[encoded data removed]",
      "text/plain": [
       "<Figure size 1008x360 with 2 Axes>"
      ]
     },
     "metadata": {
      "needs_background": "light"
     },
     "output_type": "display_data"
    }
   ],
   "source": [
    "faixa_platelets = np.arange(25100, 850001, 20000)\n",
    "\n",
    "plt.figure(figsize=(14, 5))\n",
    "plt.subplot(121)\n",
    "plt.hist(platelets_sobrevivente['platelets'], bins = faixa_platelets, edgecolor = 'k', density = True, color = 'darkcyan')\n",
    "plt.title('platelets sobreviventes')\n",
    "plt.ylabel('densidade')\n",
    "plt.ylim(0, 0.000009)\n",
    "plt.xlabel('platelets [kg/ml]')\n",
    "\n",
    "plt.subplot(122)\n",
    "plt.hist(platelets_nao_sobrevivente['platelets'], bins = faixa_platelets, edgecolor = 'k', density = True, color = 'darkcyan')\n",
    "plt.title('platelets não sobreviventes')\n",
    "plt.ylabel('densidade')\n",
    "plt.ylim(0, 0.000009)\n",
    "plt.xlabel('platelets [kg/ml]')\n",
    "\n",
    "plt.show()"
   ]
  },
  {
   "cell_type": "markdown",
   "metadata": {},
   "source": [
    "Observando  o gráfico, percebe-se que nas extremidades do gráfico, ou seja, nos níveis mais baixos e altos de plaquetas, as taxas de sobrevivência e de não sobrevivência são similares. Já nos valores intermediários, existe uma diferença maior.\n"
   ]
  },
  {
   "cell_type": "code",
   "execution_count": 29,
   "metadata": {},
   "outputs": [],
   "source": [
    "# SERUM CREATININE\n",
    "sc_sobrevivente = dados.loc[sobrevivente, ['serum_creatinine']]\n",
    "sc_nao_sobrevivente = dados.loc[nao_sobrevivente, ['serum_creatinine']]"
   ]
  },
  {
   "cell_type": "code",
   "execution_count": 30,
   "metadata": {},
   "outputs": [
    {
     "data": {
      "text/plain": [
       "count    299.00000\n",
       "mean       1.39388\n",
       "std        1.03451\n",
       "min        0.50000\n",
       "25%        0.90000\n",
       "50%        1.10000\n",
       "75%        1.40000\n",
       "max        9.40000\n",
       "Name: serum_creatinine, dtype: float64"
      ]
     },
     "execution_count": 30,
     "metadata": {},
     "output_type": "execute_result"
    }
   ],
   "source": [
    "dados.serum_creatinine.describe()"
   ]
  },
  {
   "cell_type": "code",
   "execution_count": 42,
   "metadata": {},
   "outputs": [
    {
     "data": {
      "image/png": "[encoded data removed]",
      "text/plain": [
       "<Figure size 1008x360 with 2 Axes>"
      ]
     },
     "metadata": {
      "needs_background": "light"
     },
     "output_type": "display_data"
    }
   ],
   "source": [
    "faixa_sc = np.arange(0.5, 9.5, 0.5)\n",
    "\n",
    "plt.figure(figsize=(14, 5))\n",
    "plt.subplot(121)\n",
    "plt.hist(sc_sobrevivente['serum_creatinine'], bins = faixa_sc, edgecolor = 'k', density = True,  color = 'darkcyan')\n",
    "plt.title('sc sobreviventes')\n",
    "plt.ylabel('densidade')\n",
    "plt.ylim(0, 1.1)\n",
    "plt.xlabel('serum creatine [mg/dL]')\n",
    "\n",
    "plt.subplot(122)\n",
    "plt.hist(sc_nao_sobrevivente['serum_creatinine'], bins = faixa_sc, edgecolor = 'k' , density = True, color = 'darkcyan')\n",
    "plt.title('sc não sobreviventes')\n",
    "plt.ylabel('densidade')\n",
    "plt.ylim(0, 1.1)\n",
    "plt.xlabel('serum creatine [mg/dL]')\n",
    "\n",
    "plt.show()"
   ]
  },
  {
   "cell_type": "markdown",
   "metadata": {},
   "source": [
    "Do gráfico, observa-se que quanto menos serum creatine no sangue, maior é a taxa de sobrevivência."
   ]
  },
  {
   "cell_type": "code",
   "execution_count": 32,
   "metadata": {},
   "outputs": [],
   "source": [
    "# TIME\n",
    "time_sobrevivente = dados.loc[sobrevivente, ['time']]\n",
    "time_nao_sobrevivente = dados.loc[nao_sobrevivente, ['time']]"
   ]
  },
  {
   "cell_type": "code",
   "execution_count": 33,
   "metadata": {},
   "outputs": [
    {
     "data": {
      "text/plain": [
       "count    299.000000\n",
       "mean     130.260870\n",
       "std       77.614208\n",
       "min        4.000000\n",
       "25%       73.000000\n",
       "50%      115.000000\n",
       "75%      203.000000\n",
       "max      285.000000\n",
       "Name: time, dtype: float64"
      ]
     },
     "execution_count": 33,
     "metadata": {},
     "output_type": "execute_result"
    }
   ],
   "source": [
    "dados.time.describe()"
   ]
  },
  {
   "cell_type": "code",
   "execution_count": 34,
   "metadata": {},
   "outputs": [
    {
     "data": {
      "image/png": "[encoded data removed]",
      "text/plain": [
       "<Figure size 1008x360 with 2 Axes>"
      ]
     },
     "metadata": {
      "needs_background": "light"
     },
     "output_type": "display_data"
    }
   ],
   "source": [
    "faixa_sc = np.arange(4, 286, 20)\n",
    "\n",
    "plt.figure(figsize=(14, 5))\n",
    "plt.subplot(121)\n",
    "plt.hist(time_sobrevivente['time'], bins = faixa_sc, edgecolor = 'k', density = True, color = 'darkcyan')\n",
    "plt.title('time sobreviventes')\n",
    "plt.ylabel('densidade')\n",
    "plt.xlabel('time [dias]')\n",
    "plt.ylim(0, 0.013)\n",
    "\n",
    "plt.subplot(122)\n",
    "plt.hist(time_nao_sobrevivente['time'], bins = faixa_sc, edgecolor = 'k', density = True, color = 'darkcyan')\n",
    "plt.title('time não sobreviventes')\n",
    "plt.ylabel('densidade')\n",
    "plt.xlabel('time [dias]')\n",
    "plt.ylim(0, 0.013)\n",
    "\n",
    "plt.show()"
   ]
  },
  {
   "cell_type": "markdown",
   "metadata": {},
   "source": [
    "Pelo gráfico, observa-se que os pacientes que foram observado por menos tempo possuem uma taxa de não sobrevivência superior a taxa de sobrevivência. Quando o tempo de observação foi maior, as taxas de sobrevivência são maiores também."
   ]
  },
  {
   "cell_type": "markdown",
   "metadata": {},
   "source": [
    "### Análise categórica"
   ]
  },
  {
   "cell_type": "markdown",
   "metadata": {},
   "source": [
    "Visualizando as frequências relativas das variáveis categóricas:"
   ]
  },
  {
   "cell_type": "code",
   "execution_count": 35,
   "metadata": {},
   "outputs": [
    {
     "data": {
      "image/png": "[encoded data removed]",
      "text/plain": [
       "<Figure size 1440x720 with 6 Axes>"
      ]
     },
     "metadata": {
      "needs_background": "light"
     },
     "output_type": "display_data"
    }
   ],
   "source": [
    "plt.figure(figsize=(20, 10))\n",
    "plt.subplot(2,3,1)\n",
    "sns.barplot(dados.sex.value_counts(True).index, dados.sex.value_counts(True)).set_title('sex')\n",
    "\n",
    "plt.subplot(2,3,2)\n",
    "sns.barplot(dados.anaemia.value_counts(True).index, dados.anaemia.value_counts(True)).set_title('anaemia')\n",
    "\n",
    "plt.subplot(2,3,3)\n",
    "sns.barplot(dados.diabetes.value_counts(True).index, dados.diabetes.value_counts(True)).set_title('diabetes')\n",
    "\n",
    "plt.subplot(2,3,4)\n",
    "sns.barplot(dados.high_blood_pressure.value_counts(True).index, dados.high_blood_pressure.value_counts(True)).set_title('high_blood_pressure')\n",
    "\n",
    "plt.subplot(2,3,5)\n",
    "sns.barplot(dados.smoking.value_counts(True).index, dados.smoking.value_counts(True)).set_title('smoking')\n",
    "\n",
    "plt.subplot(2,3,6)\n",
    "sns.barplot(dados.DEATH_EVENT.value_counts(True).index, dados.DEATH_EVENT.value_counts(True)).set_title('DEATH_EVENT')\n",
    "\n",
    "plt.show()"
   ]
  },
  {
   "cell_type": "code",
   "execution_count": 36,
   "metadata": {},
   "outputs": [],
   "source": [
    "# ANAEMIA\n",
    "anaemia_sobrevivente = dados.loc[sobrevivente, ['anaemia']]\n",
    "anaemia_nao_sobrevivente = dados.loc[nao_sobrevivente, ['anaemia']]\n",
    "\n",
    "# DIABETES\n",
    "diabetes_sobrevivente = dados.loc[sobrevivente, ['diabetes']]\n",
    "diabetes_nao_sobrevivente = dados.loc[nao_sobrevivente, ['diabetes']]\n",
    "\n",
    "# HIGH BLOOD PRESSURE\n",
    "hbp_sobrevivente = dados.loc[sobrevivente, ['high_blood_pressure']]\n",
    "hbp_nao_sobrevivente = dados.loc[nao_sobrevivente, ['high_blood_pressure']]\n",
    "\n",
    "# SMOKING\n",
    "smoking_sobrevivente = dados.loc[sobrevivente, ['smoking']]\n",
    "smoking_nao_sobrevivente = dados.loc[nao_sobrevivente, ['smoking']]\n",
    "\n",
    "# SEX\n",
    "sex_sobrevivente = dados.loc[sobrevivente, ['sex']]\n",
    "sex_nao_sobrevivente = dados.loc[nao_sobrevivente, ['sex']]"
   ]
  },
  {
   "cell_type": "code",
   "execution_count": 37,
   "metadata": {},
   "outputs": [
    {
     "data": {
      "image/png": "[encoded data removed]",
      "text/plain": [
       "<Figure size 864x360 with 2 Axes>"
      ]
     },
     "metadata": {},
     "output_type": "display_data"
    }
   ],
   "source": [
    "plt.figure(figsize=(12, 5))\n",
    "\n",
    "\n",
    "#SOBREVIVENTE\n",
    "labels = ['Tem anemia', 'Não Tem anemia']\n",
    "titulos = [anaemia_sobrevivente['anaemia'].value_counts(True)[1]*100, anaemia_sobrevivente['anaemia'].value_counts(True)[0]*100]\n",
    "cores = ['springgreen', 'salmon']\n",
    "explode = (0.1, 0.1)  \n",
    "total = sum(titulos)\n",
    "\n",
    "plt.subplot(131)\n",
    "plt.pie(titulos, explode = explode, labels = labels, colors = cores, autopct = '%1.1f%%', shadow = True, startangle=90)\n",
    "\n",
    "plt.axis('equal') \n",
    "plt.title('Sobrevivente')\n",
    "\n",
    "#NÃO SOBREVIVENTE\n",
    "labels = ['Tem anemia', 'Não Tem anemia']\n",
    "titulos = [anaemia_nao_sobrevivente['anaemia'].value_counts(True)[1]*100, anaemia_nao_sobrevivente['anaemia'].value_counts(True)[0]*100]\n",
    "cores = ['springgreen', 'salmon']\n",
    "explode = (0.1, 0.1)  \n",
    "total = sum(titulos)\n",
    "\n",
    "plt.subplot(133)\n",
    "plt.pie(titulos, explode = explode, labels = labels, colors = cores, autopct = '%1.1f%%', shadow = True, startangle=90)\n",
    "\n",
    "plt.axis('equal') \n",
    "plt.title('Não Sobrevivente')\n",
    "\n",
    "\n",
    "plt.show()"
   ]
  },
  {
   "cell_type": "markdown",
   "metadata": {},
   "source": [
    "Observando o gráfico, percebe-se que entre os pacientes que não sobreviveram, o índice de anêmicos é em torno de 7% maior do que nos pacientes que sobreviveram.\n",
    "Entretanto, ser anêmico ou não, parece não influenciar diretamente a morte do paciente."
   ]
  },
  {
   "cell_type": "code",
   "execution_count": 38,
   "metadata": {},
   "outputs": [
    {
     "data": {
      "image/png": "[encoded data removed]",
      "text/plain": [
       "<Figure size 864x360 with 2 Axes>"
      ]
     },
     "metadata": {},
     "output_type": "display_data"
    }
   ],
   "source": [
    "plt.figure(figsize=(12, 5))\n",
    "\n",
    "\n",
    "#SOBREVIVENTE\n",
    "labels = ['Tem diabetes', 'Não Tem diabetes']\n",
    "titulos = [diabetes_sobrevivente['diabetes'].value_counts(True)[1]*100, diabetes_sobrevivente['diabetes'].value_counts(True)[0]*100]\n",
    "cores = ['springgreen', 'salmon']\n",
    "explode = (0.1, 0.1)  \n",
    "total = sum(titulos)\n",
    "\n",
    "plt.subplot(131)\n",
    "plt.pie(titulos, explode = explode, labels = labels, colors = cores, autopct = '%1.1f%%', shadow = True, startangle=90)\n",
    "\n",
    "plt.axis('equal') \n",
    "plt.title('Sobrevivente')\n",
    "\n",
    "#NÃO SOBREVIVENTE\n",
    "labels = ['Tem diabetes', 'Não Tem diabetes']\n",
    "titulos = [diabetes_nao_sobrevivente['diabetes'].value_counts(True)[1]*100, diabetes_nao_sobrevivente['diabetes'].value_counts(True)[0]*100]\n",
    "cores = ['springgreen', 'salmon']\n",
    "explode = (0.1, 0.1)  \n",
    "total = sum(titulos)\n",
    "\n",
    "plt.subplot(133)\n",
    "plt.pie(titulos, explode = explode, labels = labels, colors = cores, autopct = '%1.1f%%', shadow = True, startangle=90)\n",
    "\n",
    "plt.axis('equal') \n",
    "plt.title('Não Sobrevivente')\n",
    "\n",
    "\n",
    "plt.show()"
   ]
  },
  {
   "cell_type": "markdown",
   "metadata": {},
   "source": [
    "Pelo gráfico, observa-se que entre os pacientes que não sobreviveram, o índice de diabéticos é ligeiramente maior do que nos pacientes que sobreviveram.\n",
    "Logo, ser diabético ou não, parece não influenciar diretamente a morte do paciente."
   ]
  },
  {
   "cell_type": "code",
   "execution_count": 39,
   "metadata": {},
   "outputs": [
    {
     "data": {
      "image/png": "[encoded data removed]",
      "text/plain": [
       "<Figure size 864x360 with 2 Axes>"
      ]
     },
     "metadata": {},
     "output_type": "display_data"
    }
   ],
   "source": [
    "plt.figure(figsize=(12, 5))\n",
    "\n",
    "\n",
    "#SOBREVIVENTE\n",
    "labels = ['Tem hipertensão', 'Não Tem hipertensão']\n",
    "titulos = [hbp_sobrevivente['high_blood_pressure'].value_counts(True)[1]*100, hbp_sobrevivente['high_blood_pressure'].value_counts(True)[0]*100]\n",
    "cores = ['springgreen', 'salmon']\n",
    "explode = (0.1, 0.1)  \n",
    "total = sum(titulos)\n",
    "\n",
    "plt.subplot(131)\n",
    "plt.pie(titulos, explode = explode, labels = labels, colors = cores, autopct = '%1.1f%%', shadow = True, startangle=90)\n",
    "\n",
    "plt.axis('equal') \n",
    "plt.title('Sobrevivente')\n",
    "\n",
    "#NÃO SOBREVIVENTE\n",
    "labels = ['Tem hipertensão', 'Não Tem hipertensão']\n",
    "titulos = [hbp_nao_sobrevivente['high_blood_pressure'].value_counts(True)[1]*100, hbp_nao_sobrevivente['high_blood_pressure'].value_counts(True)[0]*100]\n",
    "cores = ['springgreen', 'salmon']\n",
    "explode = (0.1, 0.1)  \n",
    "total = sum(titulos)\n",
    "\n",
    "plt.subplot(133)\n",
    "plt.pie(titulos, explode = explode, labels = labels, colors = cores, autopct = '%1.1f%%', shadow = True, startangle=90)\n",
    "\n",
    "plt.axis('equal') \n",
    "plt.title('Não Sobrevivente')\n",
    "\n",
    "\n",
    "plt.show()"
   ]
  },
  {
   "cell_type": "markdown",
   "metadata": {},
   "source": [
    "Observando o gráfico, é possível inferir que entre os pacientes que não sobreviveram, o índice de hipertensos é 8% maior do que nos pacientes que sobreviveram.\n",
    "Logo, ser hipertenso ou não, já parece influenciar um pouco mais na morte do paciente."
   ]
  },
  {
   "cell_type": "code",
   "execution_count": 40,
   "metadata": {},
   "outputs": [
    {
     "data": {
      "image/png": "[encoded data removed]",
      "text/plain": [
       "<Figure size 864x360 with 2 Axes>"
      ]
     },
     "metadata": {},
     "output_type": "display_data"
    }
   ],
   "source": [
    "plt.figure(figsize=(12, 5))\n",
    "\n",
    "\n",
    "#SOBREVIVENTE\n",
    "labels = ['É fumante', 'Não é fumante']\n",
    "titulos = [smoking_sobrevivente['smoking'].value_counts(True)[1]*100, smoking_sobrevivente['smoking'].value_counts(True)[0]*100]\n",
    "cores = ['springgreen', 'salmon']\n",
    "explode = (0.1, 0.1)  \n",
    "total = sum(titulos)\n",
    "\n",
    "plt.subplot(131)\n",
    "plt.pie(titulos, explode = explode, labels = labels, colors = cores, autopct = '%1.1f%%', shadow = True, startangle=90)\n",
    "\n",
    "plt.axis('equal') \n",
    "plt.title('Sobrevivente')\n",
    "\n",
    "#NÃO SOBREVIVENTE\n",
    "labels = ['É fumante', 'Não é fumante']\n",
    "titulos = [smoking_nao_sobrevivente['smoking'].value_counts(True)[1]*100, smoking_nao_sobrevivente['smoking'].value_counts(True)[0]*100]\n",
    "cores = ['springgreen', 'salmon']\n",
    "explode = (0.1, 0.1)  \n",
    "total = sum(titulos)\n",
    "\n",
    "plt.subplot(133)\n",
    "plt.pie(titulos, explode = explode, labels = labels, colors = cores, autopct = '%1.1f%%', shadow = True, startangle=90)\n",
    "\n",
    "plt.axis('equal') \n",
    "plt.title('Não Sobrevivente')\n",
    "\n",
    "\n",
    "plt.show()"
   ]
  },
  {
   "cell_type": "markdown",
   "metadata": {},
   "source": [
    "Assim como diabetes, a diferença é muito baixa."
   ]
  },
  {
   "cell_type": "code",
   "execution_count": 41,
   "metadata": {},
   "outputs": [
    {
     "data": {
      "image/png": "[encoded data removed]",
      "text/plain": [
       "<Figure size 864x360 with 2 Axes>"
      ]
     },
     "metadata": {},
     "output_type": "display_data"
    }
   ],
   "source": [
    "plt.figure(figsize=(12, 5))\n",
    "\n",
    "\n",
    "#SOBREVIVENTE\n",
    "labels = ['Homem', 'Mulher']\n",
    "titulos = [sex_sobrevivente['sex'].value_counts(True)[1]*100, sex_sobrevivente['sex'].value_counts(True)[0]*100]\n",
    "cores = ['springgreen', 'salmon']\n",
    "explode = (0.1, 0.1)  \n",
    "total = sum(titulos)\n",
    "\n",
    "plt.subplot(131)\n",
    "plt.pie(titulos, explode = explode, labels = labels, colors = cores, autopct = '%1.1f%%', shadow = True, startangle=90)\n",
    "\n",
    "plt.axis('equal') \n",
    "plt.title('Sobrevivente')\n",
    "\n",
    "#NÃO SOBREVIVENTE\n",
    "labels = ['Homem', 'Mulher']\n",
    "titulos = [sex_nao_sobrevivente['sex'].value_counts(True)[1]*100, sex_nao_sobrevivente['sex'].value_counts(True)[0]*100]\n",
    "cores = ['springgreen', 'salmon']\n",
    "explode = (0.1, 0.1)  \n",
    "total = sum(titulos)\n",
    "\n",
    "plt.subplot(133)\n",
    "plt.pie(titulos, explode = explode, labels = labels, colors = cores, autopct = '%1.1f%%', shadow = True, startangle=90)\n",
    "\n",
    "plt.axis('equal') \n",
    "plt.title('Não Sobrevivente')\n",
    "\n",
    "\n",
    "plt.show()"
   ]
  },
  {
   "cell_type": "markdown",
   "metadata": {},
   "source": [
    "Assim como ser fumante e diabético, o gênero parece não influenciar diretamente."
   ]
  },
  {
   "cell_type": "code",
   "execution_count": null,
   "metadata": {},
   "outputs": [],
   "source": []
  }
 ],
 "metadata": {
  "kernelspec": {
   "display_name": "Python 3",
   "language": "python",
   "name": "python3"
  },
  "language_info": {
   "codemirror_mode": {
    "name": "ipython",
    "version": 3
   },
   "file_extension": ".py",
   "mimetype": "text/x-python",
   "name": "python",
   "nbconvert_exporter": "python",
   "pygments_lexer": "ipython3",
   "version": "3.7.4"
  }
 },
 "nbformat": 4,
 "nbformat_minor": 2
}
