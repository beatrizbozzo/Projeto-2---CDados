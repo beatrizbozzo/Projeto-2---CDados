{
 "cells": [
  {
   "cell_type": "markdown",
   "metadata": {},
   "source": [
    "# Projeto 2 - Ciência dos Dados\n"
   ]
  },
  {
   "cell_type": "markdown",
   "metadata": {},
   "source": [
    "Nome: Beatriz Bobrow Bozzo\n",
    "    \n",
    "Nome: Mariana Cézar\n",
    "\n",
    "Nome: Rodrigo Nigri Griner\n",
    "\n",
    "Nome: Thais Sztamfater Groberman"
   ]
  },
  {
   "cell_type": "markdown",
   "metadata": {},
   "source": [
    "___\n",
    "## Contextualização\n",
    "\n"
   ]
  },
  {
   "cell_type": "markdown",
   "metadata": {},
   "source": [
    "Doenças cardiovasculares são distúrbios do coração e de vasos sanguíneos. Esses incluem ateques cardíacos, derrames e insuficiência cardíaca, entre outras. Dessa forma, ao todo, doenças cardiovasculares representam cerca de 17 milhões de morte no mundo anualmente.\n",
    "\n",
    "Nesse estudo, será considerado pacientes que possuem insuficiência cardíaca, ou seja, quando o coração não possui força suficiente para bombear todo sangue necessário para o corpo. Essa doença está geralmente atrelada à condições como anemia, dibetes, hipertensão, entre outras.\n",
    "\n",
    "O dataset utilizado no projeto contém o prontuário de 299 pacientes e apresenta as seguintes informações:\n",
    "- age: Idade do paciente (anos)\n",
    "- anaemia: Ausência de glóbulos vermelhos ou hemoglobina\n",
    "- high blood pressure: Paciente tem hipertensão\n",
    "- creatinine phosphokinase (CPK): quantidade de enzima CPK no sangue (mcg/L)\n",
    "- diabetes: Paciente tem diabetes\n",
    "- ejection fraction: Porcentagem de sangue saindo do coração a cada sístole\n",
    "- platelets: Quantidade de plaquetas no sangue (kiloplatelets/mL)\n",
    "- sex: Mulher ou homem\n",
    "- serum creatinine:  Quantidade de creatinina no sangue (mg/dL)\n",
    "- serum sodium: Quantidade de sodio no sangue (mEq/L)\n",
    "- smoking: Paciente fuma\n",
    "- time: Tempo em que o paciente foi estudado (dias)\n",
    "- death event: Paciente morreu durante o tempo em que participou do estudo\n",
    "\n",
    "Analisando essas informações, seria possível observar padrões e auxiliar os médicos a preverem se o **paciente irá a óbito durante o tempo de estudo?** \n",
    "\n",
    "Dessa forma, os features serão as informações do prontuário enquanto que o target será se o paciente faleceu.\n",
    "\n",
    "Como o target do nosso projeto é uma variável qualitativa, será utilizado o método de **Classificadores**.\n",
    "\n"
   ]
  },
  {
   "cell_type": "markdown",
   "metadata": {},
   "source": [
    "___\n",
    "## Lendo o Dataset"
   ]
  },
  {
   "cell_type": "markdown",
   "metadata": {},
   "source": [
    "#### Importando as bibliotecas necessárias"
   ]
  },
  {
   "cell_type": "code",
   "execution_count": 1,
   "metadata": {},
   "outputs": [],
   "source": [
    "%matplotlib inline\n",
    "import pandas as pd\n",
    "from sklearn.model_selection import train_test_split\n",
    "import matplotlib.pyplot as plt\n",
    "from matplotlib import rc\n",
    "import seaborn as sns\n",
    "import numpy as np\n",
    "import os\n",
    "from IPython.display import display"
   ]
  },
  {
   "cell_type": "markdown",
   "metadata": {},
   "source": [
    "##### Verificando o diretório em que o arquivo está"
   ]
  },
  {
   "cell_type": "code",
   "execution_count": 2,
   "metadata": {},
   "outputs": [
    {
     "name": "stdout",
     "output_type": "stream",
     "text": [
      "Encontrei o arquivo heart_failure_clinical_records_dataset.xlsx!\n"
     ]
    }
   ],
   "source": [
    "filename = 'heart_failure_clinical_records_dataset.xlsx'\n",
    "if filename in os.listdir():\n",
    "    print(f'Encontrei o arquivo {filename}!')\n",
    "else:\n",
    "    print(f'Não encontrei o arquivo {filename} aqui no diretório {os.getcwd()}, será que você não baixou o arquivo?')"
   ]
  },
  {
   "cell_type": "markdown",
   "metadata": {},
   "source": [
    "##### Lendo o dataset"
   ]
  },
  {
   "cell_type": "code",
   "execution_count": 3,
   "metadata": {},
   "outputs": [
    {
     "data": {
      "text/html": [
       "<div>\n",
       "<style scoped>\n",
       "    .dataframe tbody tr th:only-of-type {\n",
       "        vertical-align: middle;\n",
       "    }\n",
       "\n",
       "    .dataframe tbody tr th {\n",
       "        vertical-align: top;\n",
       "    }\n",
       "\n",
       "    .dataframe thead th {\n",
       "        text-align: right;\n",
       "    }\n",
       "</style>\n",
       "<table border=\"1\" class=\"dataframe\">\n",
       "  <thead>\n",
       "    <tr style=\"text-align: right;\">\n",
       "      <th></th>\n",
       "      <th>age</th>\n",
       "      <th>anaemia</th>\n",
       "      <th>creatinine_phosphokinase</th>\n",
       "      <th>diabetes</th>\n",
       "      <th>ejection_fraction</th>\n",
       "      <th>high_blood_pressure</th>\n",
       "      <th>platelets</th>\n",
       "      <th>serum_creatinine</th>\n",
       "      <th>serum_sodium</th>\n",
       "      <th>sex</th>\n",
       "      <th>smoking</th>\n",
       "      <th>time</th>\n",
       "      <th>DEATH_EVENT</th>\n",
       "    </tr>\n",
       "  </thead>\n",
       "  <tbody>\n",
       "    <tr>\n",
       "      <td>0</td>\n",
       "      <td>75</td>\n",
       "      <td>0</td>\n",
       "      <td>582</td>\n",
       "      <td>0</td>\n",
       "      <td>20</td>\n",
       "      <td>1</td>\n",
       "      <td>265000.00</td>\n",
       "      <td>1.9</td>\n",
       "      <td>130</td>\n",
       "      <td>1</td>\n",
       "      <td>0</td>\n",
       "      <td>4</td>\n",
       "      <td>1</td>\n",
       "    </tr>\n",
       "    <tr>\n",
       "      <td>1</td>\n",
       "      <td>55</td>\n",
       "      <td>0</td>\n",
       "      <td>7861</td>\n",
       "      <td>0</td>\n",
       "      <td>38</td>\n",
       "      <td>0</td>\n",
       "      <td>263358.03</td>\n",
       "      <td>1.1</td>\n",
       "      <td>136</td>\n",
       "      <td>1</td>\n",
       "      <td>0</td>\n",
       "      <td>6</td>\n",
       "      <td>1</td>\n",
       "    </tr>\n",
       "    <tr>\n",
       "      <td>2</td>\n",
       "      <td>65</td>\n",
       "      <td>0</td>\n",
       "      <td>146</td>\n",
       "      <td>0</td>\n",
       "      <td>20</td>\n",
       "      <td>0</td>\n",
       "      <td>162000.00</td>\n",
       "      <td>1.3</td>\n",
       "      <td>129</td>\n",
       "      <td>1</td>\n",
       "      <td>1</td>\n",
       "      <td>7</td>\n",
       "      <td>1</td>\n",
       "    </tr>\n",
       "    <tr>\n",
       "      <td>3</td>\n",
       "      <td>50</td>\n",
       "      <td>1</td>\n",
       "      <td>111</td>\n",
       "      <td>0</td>\n",
       "      <td>20</td>\n",
       "      <td>0</td>\n",
       "      <td>210000.00</td>\n",
       "      <td>1.9</td>\n",
       "      <td>137</td>\n",
       "      <td>1</td>\n",
       "      <td>0</td>\n",
       "      <td>7</td>\n",
       "      <td>1</td>\n",
       "    </tr>\n",
       "    <tr>\n",
       "      <td>4</td>\n",
       "      <td>65</td>\n",
       "      <td>1</td>\n",
       "      <td>160</td>\n",
       "      <td>1</td>\n",
       "      <td>20</td>\n",
       "      <td>0</td>\n",
       "      <td>327000.00</td>\n",
       "      <td>2.7</td>\n",
       "      <td>116</td>\n",
       "      <td>0</td>\n",
       "      <td>0</td>\n",
       "      <td>8</td>\n",
       "      <td>1</td>\n",
       "    </tr>\n",
       "    <tr>\n",
       "      <td>...</td>\n",
       "      <td>...</td>\n",
       "      <td>...</td>\n",
       "      <td>...</td>\n",
       "      <td>...</td>\n",
       "      <td>...</td>\n",
       "      <td>...</td>\n",
       "      <td>...</td>\n",
       "      <td>...</td>\n",
       "      <td>...</td>\n",
       "      <td>...</td>\n",
       "      <td>...</td>\n",
       "      <td>...</td>\n",
       "      <td>...</td>\n",
       "    </tr>\n",
       "    <tr>\n",
       "      <td>294</td>\n",
       "      <td>62</td>\n",
       "      <td>0</td>\n",
       "      <td>61</td>\n",
       "      <td>1</td>\n",
       "      <td>38</td>\n",
       "      <td>1</td>\n",
       "      <td>155000.00</td>\n",
       "      <td>1.1</td>\n",
       "      <td>143</td>\n",
       "      <td>1</td>\n",
       "      <td>1</td>\n",
       "      <td>270</td>\n",
       "      <td>0</td>\n",
       "    </tr>\n",
       "    <tr>\n",
       "      <td>295</td>\n",
       "      <td>55</td>\n",
       "      <td>0</td>\n",
       "      <td>1820</td>\n",
       "      <td>0</td>\n",
       "      <td>38</td>\n",
       "      <td>0</td>\n",
       "      <td>270000.00</td>\n",
       "      <td>1.2</td>\n",
       "      <td>139</td>\n",
       "      <td>0</td>\n",
       "      <td>0</td>\n",
       "      <td>271</td>\n",
       "      <td>0</td>\n",
       "    </tr>\n",
       "    <tr>\n",
       "      <td>296</td>\n",
       "      <td>45</td>\n",
       "      <td>0</td>\n",
       "      <td>2060</td>\n",
       "      <td>1</td>\n",
       "      <td>60</td>\n",
       "      <td>0</td>\n",
       "      <td>742000.00</td>\n",
       "      <td>0.8</td>\n",
       "      <td>138</td>\n",
       "      <td>0</td>\n",
       "      <td>0</td>\n",
       "      <td>278</td>\n",
       "      <td>0</td>\n",
       "    </tr>\n",
       "    <tr>\n",
       "      <td>297</td>\n",
       "      <td>45</td>\n",
       "      <td>0</td>\n",
       "      <td>2413</td>\n",
       "      <td>0</td>\n",
       "      <td>38</td>\n",
       "      <td>0</td>\n",
       "      <td>140000.00</td>\n",
       "      <td>1.4</td>\n",
       "      <td>140</td>\n",
       "      <td>1</td>\n",
       "      <td>1</td>\n",
       "      <td>280</td>\n",
       "      <td>0</td>\n",
       "    </tr>\n",
       "    <tr>\n",
       "      <td>298</td>\n",
       "      <td>50</td>\n",
       "      <td>0</td>\n",
       "      <td>196</td>\n",
       "      <td>0</td>\n",
       "      <td>45</td>\n",
       "      <td>0</td>\n",
       "      <td>395000.00</td>\n",
       "      <td>1.6</td>\n",
       "      <td>136</td>\n",
       "      <td>1</td>\n",
       "      <td>1</td>\n",
       "      <td>285</td>\n",
       "      <td>0</td>\n",
       "    </tr>\n",
       "  </tbody>\n",
       "</table>\n",
       "<p>299 rows × 13 columns</p>\n",
       "</div>"
      ],
      "text/plain": [
       "     age  anaemia  creatinine_phosphokinase  diabetes  ejection_fraction  \\\n",
       "0     75        0                       582         0                 20   \n",
       "1     55        0                      7861         0                 38   \n",
       "2     65        0                       146         0                 20   \n",
       "3     50        1                       111         0                 20   \n",
       "4     65        1                       160         1                 20   \n",
       "..   ...      ...                       ...       ...                ...   \n",
       "294   62        0                        61         1                 38   \n",
       "295   55        0                      1820         0                 38   \n",
       "296   45        0                      2060         1                 60   \n",
       "297   45        0                      2413         0                 38   \n",
       "298   50        0                       196         0                 45   \n",
       "\n",
       "     high_blood_pressure  platelets  serum_creatinine  serum_sodium  sex  \\\n",
       "0                      1  265000.00               1.9           130    1   \n",
       "1                      0  263358.03               1.1           136    1   \n",
       "2                      0  162000.00               1.3           129    1   \n",
       "3                      0  210000.00               1.9           137    1   \n",
       "4                      0  327000.00               2.7           116    0   \n",
       "..                   ...        ...               ...           ...  ...   \n",
       "294                    1  155000.00               1.1           143    1   \n",
       "295                    0  270000.00               1.2           139    0   \n",
       "296                    0  742000.00               0.8           138    0   \n",
       "297                    0  140000.00               1.4           140    1   \n",
       "298                    0  395000.00               1.6           136    1   \n",
       "\n",
       "     smoking  time  DEATH_EVENT  \n",
       "0          0     4            1  \n",
       "1          0     6            1  \n",
       "2          1     7            1  \n",
       "3          0     7            1  \n",
       "4          0     8            1  \n",
       "..       ...   ...          ...  \n",
       "294        1   270            0  \n",
       "295        0   271            0  \n",
       "296        0   278            0  \n",
       "297        1   280            0  \n",
       "298        1   285            0  \n",
       "\n",
       "[299 rows x 13 columns]"
      ]
     },
     "execution_count": 3,
     "metadata": {},
     "output_type": "execute_result"
    }
   ],
   "source": [
    "dados = pd.read_excel(filename)\n",
    "dados"
   ]
  },
  {
   "cell_type": "markdown",
   "metadata": {},
   "source": [
    "Sendo:\n",
    "- age: Idade do paciente (anos)\n",
    "- anaemia: Ausência de glóbulos vermelhos ou hemoglobina (0 = Não; 1 = Sim)\n",
    "- high blood pressure: Paciente tem hipertensão (0 = Não; 1 = Sim)\n",
    "- creatinine phosphokinase (CPK): quantidade de enzima CPK no sangue (mcg/L)\n",
    "- diabetes: Paciente tem diabetes (0 = Não; 1 = Sim)\n",
    "- ejection fraction: Porcentagem de sangue saindo do coração a cada sístole\n",
    "- platelets: Quantidade de plaquetas no sangue (kiloplatelets/mL)\n",
    "- sex: Mulher ou homem (0 = Mulher; 1 = Homem)\n",
    "- serum creatinine:  Quantidade de creatinina no sangue (mg/dL)\n",
    "- serum sodium: Quantidade de sodio no sangue (mEq/L)\n",
    "- smoking: Paciente fuma (0 = Não; 1 = Sim)\n",
    "- time: Tempo em que o paciente foi estudado (dias)\n",
    "- death event: Paciente morreu durante o tempo em que participou do estudo (0 = Não; 1 = Sim)"
   ]
  },
  {
   "cell_type": "code",
   "execution_count": 4,
   "metadata": {
    "scrolled": true
   },
   "outputs": [
    {
     "data": {
      "text/html": [
       "<div>\n",
       "<style scoped>\n",
       "    .dataframe tbody tr th:only-of-type {\n",
       "        vertical-align: middle;\n",
       "    }\n",
       "\n",
       "    .dataframe tbody tr th {\n",
       "        vertical-align: top;\n",
       "    }\n",
       "\n",
       "    .dataframe thead th {\n",
       "        text-align: right;\n",
       "    }\n",
       "</style>\n",
       "<table border=\"1\" class=\"dataframe\">\n",
       "  <thead>\n",
       "    <tr style=\"text-align: right;\">\n",
       "      <th></th>\n",
       "      <th>age</th>\n",
       "      <th>anaemia</th>\n",
       "      <th>creatinine_phosphokinase</th>\n",
       "      <th>diabetes</th>\n",
       "      <th>ejection_fraction</th>\n",
       "      <th>high_blood_pressure</th>\n",
       "      <th>platelets</th>\n",
       "      <th>serum_creatinine</th>\n",
       "      <th>serum_sodium</th>\n",
       "      <th>sex</th>\n",
       "      <th>smoking</th>\n",
       "      <th>time</th>\n",
       "      <th>DEATH_EVENT</th>\n",
       "    </tr>\n",
       "  </thead>\n",
       "  <tbody>\n",
       "    <tr>\n",
       "      <td>294</td>\n",
       "      <td>62</td>\n",
       "      <td>Não</td>\n",
       "      <td>61</td>\n",
       "      <td>Sim</td>\n",
       "      <td>38</td>\n",
       "      <td>Sim</td>\n",
       "      <td>155000.0</td>\n",
       "      <td>1.1</td>\n",
       "      <td>143</td>\n",
       "      <td>Homem</td>\n",
       "      <td>Sim</td>\n",
       "      <td>270</td>\n",
       "      <td>Não</td>\n",
       "    </tr>\n",
       "    <tr>\n",
       "      <td>295</td>\n",
       "      <td>55</td>\n",
       "      <td>Não</td>\n",
       "      <td>1820</td>\n",
       "      <td>Não</td>\n",
       "      <td>38</td>\n",
       "      <td>Não</td>\n",
       "      <td>270000.0</td>\n",
       "      <td>1.2</td>\n",
       "      <td>139</td>\n",
       "      <td>Mulher</td>\n",
       "      <td>Não</td>\n",
       "      <td>271</td>\n",
       "      <td>Não</td>\n",
       "    </tr>\n",
       "    <tr>\n",
       "      <td>296</td>\n",
       "      <td>45</td>\n",
       "      <td>Não</td>\n",
       "      <td>2060</td>\n",
       "      <td>Sim</td>\n",
       "      <td>60</td>\n",
       "      <td>Não</td>\n",
       "      <td>742000.0</td>\n",
       "      <td>0.8</td>\n",
       "      <td>138</td>\n",
       "      <td>Mulher</td>\n",
       "      <td>Não</td>\n",
       "      <td>278</td>\n",
       "      <td>Não</td>\n",
       "    </tr>\n",
       "    <tr>\n",
       "      <td>297</td>\n",
       "      <td>45</td>\n",
       "      <td>Não</td>\n",
       "      <td>2413</td>\n",
       "      <td>Não</td>\n",
       "      <td>38</td>\n",
       "      <td>Não</td>\n",
       "      <td>140000.0</td>\n",
       "      <td>1.4</td>\n",
       "      <td>140</td>\n",
       "      <td>Homem</td>\n",
       "      <td>Sim</td>\n",
       "      <td>280</td>\n",
       "      <td>Não</td>\n",
       "    </tr>\n",
       "    <tr>\n",
       "      <td>298</td>\n",
       "      <td>50</td>\n",
       "      <td>Não</td>\n",
       "      <td>196</td>\n",
       "      <td>Não</td>\n",
       "      <td>45</td>\n",
       "      <td>Não</td>\n",
       "      <td>395000.0</td>\n",
       "      <td>1.6</td>\n",
       "      <td>136</td>\n",
       "      <td>Homem</td>\n",
       "      <td>Sim</td>\n",
       "      <td>285</td>\n",
       "      <td>Não</td>\n",
       "    </tr>\n",
       "  </tbody>\n",
       "</table>\n",
       "</div>"
      ],
      "text/plain": [
       "     age anaemia  creatinine_phosphokinase diabetes  ejection_fraction  \\\n",
       "294   62     Não                        61      Sim                 38   \n",
       "295   55     Não                      1820      Não                 38   \n",
       "296   45     Não                      2060      Sim                 60   \n",
       "297   45     Não                      2413      Não                 38   \n",
       "298   50     Não                       196      Não                 45   \n",
       "\n",
       "    high_blood_pressure  platelets  serum_creatinine  serum_sodium     sex  \\\n",
       "294                 Sim   155000.0               1.1           143   Homem   \n",
       "295                 Não   270000.0               1.2           139  Mulher   \n",
       "296                 Não   742000.0               0.8           138  Mulher   \n",
       "297                 Não   140000.0               1.4           140   Homem   \n",
       "298                 Não   395000.0               1.6           136   Homem   \n",
       "\n",
       "    smoking  time DEATH_EVENT  \n",
       "294     Sim   270         Não  \n",
       "295     Não   271         Não  \n",
       "296     Não   278         Não  \n",
       "297     Sim   280         Não  \n",
       "298     Sim   285         Não  "
      ]
     },
     "execution_count": 4,
     "metadata": {},
     "output_type": "execute_result"
    }
   ],
   "source": [
    "# Definindo os tipos das variáveis de cada coluna\n",
    "dados.age = dados.age.astype('int')\n",
    "dados.anaemia = dados.anaemia.astype('category')\n",
    "dados.creatinine_phosphokinase = dados.creatinine_phosphokinase.astype('int')\n",
    "dados.diabetes = dados.diabetes.astype('category')\n",
    "dados.ejection_fraction = dados.ejection_fraction.astype('int')\n",
    "dados.high_blood_pressure = dados.high_blood_pressure.astype('category')\n",
    "dados.platelets = dados.platelets.astype('float')\n",
    "dados.serum_creatinine = dados.serum_creatinine.astype('float')\n",
    "dados.serum_sodium = dados.serum_sodium.astype('int')\n",
    "dados.sex = dados.sex.astype('category')\n",
    "dados.smoking = dados.smoking.astype('category')\n",
    "dados.time = dados.time.astype('int')\n",
    "dados.DEATH_EVENT = dados.DEATH_EVENT.astype('category')\n",
    "\n",
    "# Substrituindo os códigos numéricos por seus significados\n",
    "dados.anaemia.cat.categories = (['Não', 'Sim'])\n",
    "dados.diabetes.cat.categories  = (['Não', 'Sim'])\n",
    "dados.high_blood_pressure.cat.categories  = (['Não', 'Sim'])\n",
    "dados.sex.cat.categories  = (['Mulher', 'Homem'])\n",
    "dados.smoking.cat.categories  = (['Não', 'Sim'])\n",
    "dados.DEATH_EVENT.cat.categories  = (['Não', 'Sim'])\n",
    "\n",
    "dados.tail()"
   ]
  },
  {
   "cell_type": "code",
   "execution_count": 5,
   "metadata": {
    "scrolled": true
   },
   "outputs": [
    {
     "name": "stdout",
     "output_type": "stream",
     "text": [
      "<class 'pandas.core.frame.DataFrame'>\n",
      "RangeIndex: 299 entries, 0 to 298\n",
      "Data columns (total 13 columns):\n",
      "age                         299 non-null int32\n",
      "anaemia                     299 non-null category\n",
      "creatinine_phosphokinase    299 non-null int32\n",
      "diabetes                    299 non-null category\n",
      "ejection_fraction           299 non-null int32\n",
      "high_blood_pressure         299 non-null category\n",
      "platelets                   299 non-null float64\n",
      "serum_creatinine            299 non-null float64\n",
      "serum_sodium                299 non-null int32\n",
      "sex                         299 non-null category\n",
      "smoking                     299 non-null category\n",
      "time                        299 non-null int32\n",
      "DEATH_EVENT                 299 non-null category\n",
      "dtypes: category(6), float64(2), int32(5)\n",
      "memory usage: 13.0 KB\n"
     ]
    }
   ],
   "source": [
    "# Verificando se há colunas sem dados\n",
    "dados.info()"
   ]
  },
  {
   "cell_type": "markdown",
   "metadata": {},
   "source": [
    "___\n",
    "## Análise exploratória"
   ]
  },
  {
   "cell_type": "markdown",
   "metadata": {},
   "source": [
    "Como as variáveis são tanto numéricas quanto categóricas, é necessário analisá-las separadamente."
   ]
  },
  {
   "cell_type": "markdown",
   "metadata": {},
   "source": [
    "Para analisarmos as variáveis, é preciso inicialmente separar o dataframe entre os pacientes que sobreviveram e os que não sobreviveram. Fazendo essa separação, é possível observar características comuns entre os sobreviventes e os não sobreviventes."
   ]
  },
  {
   "cell_type": "code",
   "execution_count": 6,
   "metadata": {},
   "outputs": [],
   "source": [
    "sobrevivente = dados['DEATH_EVENT'] == 'Não'\n",
    "nao_sobrevivente = dados['DEATH_EVENT'] == 'Sim'"
   ]
  },
  {
   "cell_type": "markdown",
   "metadata": {},
   "source": [
    "### Análise numérica"
   ]
  },
  {
   "cell_type": "markdown",
   "metadata": {},
   "source": [
    "Para fazer a análise numérica, iremos plotar histogramas que nos permitam tiram conclusões sobre a diferença de característica entre os pacientes que sobreviveram e os que morreram. Para isso, será necessário criar faixas que contenham o máximo e o mínimo de cada variável. Esses dois pontos podem ser observados quando utilizamos a função `describe()`."
   ]
  },
  {
   "cell_type": "code",
   "execution_count": 7,
   "metadata": {},
   "outputs": [
    {
     "data": {
      "text/html": [
       "<div>\n",
       "<style scoped>\n",
       "    .dataframe tbody tr th:only-of-type {\n",
       "        vertical-align: middle;\n",
       "    }\n",
       "\n",
       "    .dataframe tbody tr th {\n",
       "        vertical-align: top;\n",
       "    }\n",
       "\n",
       "    .dataframe thead th {\n",
       "        text-align: right;\n",
       "    }\n",
       "</style>\n",
       "<table border=\"1\" class=\"dataframe\">\n",
       "  <thead>\n",
       "    <tr style=\"text-align: right;\">\n",
       "      <th></th>\n",
       "      <th>age</th>\n",
       "      <th>creatinine_phosphokinase</th>\n",
       "      <th>ejection_fraction</th>\n",
       "      <th>platelets</th>\n",
       "      <th>serum_creatinine</th>\n",
       "      <th>serum_sodium</th>\n",
       "      <th>time</th>\n",
       "    </tr>\n",
       "  </thead>\n",
       "  <tbody>\n",
       "    <tr>\n",
       "      <td>count</td>\n",
       "      <td>299.000000</td>\n",
       "      <td>299.000000</td>\n",
       "      <td>299.000000</td>\n",
       "      <td>299.000000</td>\n",
       "      <td>299.00000</td>\n",
       "      <td>299.000000</td>\n",
       "      <td>299.000000</td>\n",
       "    </tr>\n",
       "    <tr>\n",
       "      <td>mean</td>\n",
       "      <td>60.782609</td>\n",
       "      <td>581.839465</td>\n",
       "      <td>38.083612</td>\n",
       "      <td>263358.029264</td>\n",
       "      <td>1.39388</td>\n",
       "      <td>136.625418</td>\n",
       "      <td>130.260870</td>\n",
       "    </tr>\n",
       "    <tr>\n",
       "      <td>std</td>\n",
       "      <td>11.913963</td>\n",
       "      <td>970.287881</td>\n",
       "      <td>11.834841</td>\n",
       "      <td>97804.236869</td>\n",
       "      <td>1.03451</td>\n",
       "      <td>4.412477</td>\n",
       "      <td>77.614208</td>\n",
       "    </tr>\n",
       "    <tr>\n",
       "      <td>min</td>\n",
       "      <td>40.000000</td>\n",
       "      <td>23.000000</td>\n",
       "      <td>14.000000</td>\n",
       "      <td>25100.000000</td>\n",
       "      <td>0.50000</td>\n",
       "      <td>113.000000</td>\n",
       "      <td>4.000000</td>\n",
       "    </tr>\n",
       "    <tr>\n",
       "      <td>25%</td>\n",
       "      <td>50.500000</td>\n",
       "      <td>116.500000</td>\n",
       "      <td>30.000000</td>\n",
       "      <td>212500.000000</td>\n",
       "      <td>0.90000</td>\n",
       "      <td>134.000000</td>\n",
       "      <td>73.000000</td>\n",
       "    </tr>\n",
       "    <tr>\n",
       "      <td>50%</td>\n",
       "      <td>60.000000</td>\n",
       "      <td>250.000000</td>\n",
       "      <td>38.000000</td>\n",
       "      <td>262000.000000</td>\n",
       "      <td>1.10000</td>\n",
       "      <td>137.000000</td>\n",
       "      <td>115.000000</td>\n",
       "    </tr>\n",
       "    <tr>\n",
       "      <td>75%</td>\n",
       "      <td>70.000000</td>\n",
       "      <td>582.000000</td>\n",
       "      <td>45.000000</td>\n",
       "      <td>303500.000000</td>\n",
       "      <td>1.40000</td>\n",
       "      <td>140.000000</td>\n",
       "      <td>203.000000</td>\n",
       "    </tr>\n",
       "    <tr>\n",
       "      <td>max</td>\n",
       "      <td>95.000000</td>\n",
       "      <td>7861.000000</td>\n",
       "      <td>80.000000</td>\n",
       "      <td>850000.000000</td>\n",
       "      <td>9.40000</td>\n",
       "      <td>148.000000</td>\n",
       "      <td>285.000000</td>\n",
       "    </tr>\n",
       "  </tbody>\n",
       "</table>\n",
       "</div>"
      ],
      "text/plain": [
       "              age  creatinine_phosphokinase  ejection_fraction      platelets  \\\n",
       "count  299.000000                299.000000         299.000000     299.000000   \n",
       "mean    60.782609                581.839465          38.083612  263358.029264   \n",
       "std     11.913963                970.287881          11.834841   97804.236869   \n",
       "min     40.000000                 23.000000          14.000000   25100.000000   \n",
       "25%     50.500000                116.500000          30.000000  212500.000000   \n",
       "50%     60.000000                250.000000          38.000000  262000.000000   \n",
       "75%     70.000000                582.000000          45.000000  303500.000000   \n",
       "max     95.000000               7861.000000          80.000000  850000.000000   \n",
       "\n",
       "       serum_creatinine  serum_sodium        time  \n",
       "count         299.00000    299.000000  299.000000  \n",
       "mean            1.39388    136.625418  130.260870  \n",
       "std             1.03451      4.412477   77.614208  \n",
       "min             0.50000    113.000000    4.000000  \n",
       "25%             0.90000    134.000000   73.000000  \n",
       "50%             1.10000    137.000000  115.000000  \n",
       "75%             1.40000    140.000000  203.000000  \n",
       "max             9.40000    148.000000  285.000000  "
      ]
     },
     "execution_count": 7,
     "metadata": {},
     "output_type": "execute_result"
    }
   ],
   "source": [
    "# medidas resumo\n",
    "medidas_resumo = dados.describe()\n",
    "medidas_resumo"
   ]
  },
  {
   "cell_type": "markdown",
   "metadata": {},
   "source": [
    "Para plotar os histogramas, criamos a seguinte função:"
   ]
  },
  {
   "cell_type": "code",
   "execution_count": 8,
   "metadata": {},
   "outputs": [],
   "source": [
    "# ex: plota_grafico(age_sobrevivente['age'], age_nao_sobrevivente['age'], 'histograma age', 'idade[anos]', np.linspace(50,96,15))\n",
    "def plota_grafico(sobrev, n_sobrev, titulo, legenda, faixa):\n",
    "    plt.hist(sobrev, bins = faixa, edgecolor = 'k', density = True, color = 'darkcyan', alpha = 0.4, label = 'Sobreviventes')\n",
    "    plt.hist(n_sobrev, bins = faixa, edgecolor = 'k', density = True, color = 'pink', alpha = 0.5, label = 'Não Sobrevivente')\n",
    "    plt.axvline(x = sobrev.median(), color = \"darkcyan\", linewidth = 4, linestyle = '--', label = \"Mediana Sobreviventes\")\n",
    "    plt.axvline(x = n_sobrev.median(), color = \"pink\", linewidth = 4, linestyle = '--', label = \"Mediana Não Sobreviventes\")\n",
    "    plt.title(titulo)\n",
    "    plt.ylabel('densidade')\n",
    "    plt.xlabel(legenda)\n",
    "    plt.legend(loc = 'upper left', bbox_to_anchor = (0, -0.15), shadow = True, ncol = 2)\n",
    "    plt.grid()\n",
    "    plt.show()"
   ]
  },
  {
   "cell_type": "code",
   "execution_count": 9,
   "metadata": {},
   "outputs": [
    {
     "data": {
      "image/png": "[encoded data removed]",
      "text/plain": [
       "<Figure size 432x288 with 1 Axes>"
      ]
     },
     "metadata": {
      "needs_background": "light"
     },
     "output_type": "display_data"
    }
   ],
   "source": [
    "# AGE\n",
    "age_sobrevivente = dados.loc[sobrevivente, ['age']]\n",
    "age_nao_sobrevivente = dados.loc[nao_sobrevivente, ['age']]\n",
    "\n",
    "plota_grafico(age_sobrevivente['age'], age_nao_sobrevivente['age'], 'histograma age', 'idade[anos]', np.linspace(50,96,15))"
   ]
  },
  {
   "cell_type": "markdown",
   "metadata": {},
   "source": [
    "Observando os gráficos, percebe-se que pacientes até aproximadamente 70 anos, possuem uma taxa de sobrevivencia próxima ou superior à taxa de não sobrevivencia. E a partir de 70, observa-se uma queda na taxa de sobrevivência, e dessa forma, a taxa de não sobrevivência se torna maior."
   ]
  },
  {
   "cell_type": "code",
   "execution_count": 10,
   "metadata": {},
   "outputs": [
    {
     "data": {
      "image/png": "[encoded data removed]",
      "text/plain": [
       "<Figure size 432x288 with 1 Axes>"
      ]
     },
     "metadata": {
      "needs_background": "light"
     },
     "output_type": "display_data"
    }
   ],
   "source": [
    "# CREATININE_PHOSPHOKINASE\n",
    "cpk_sobrevivente = dados.loc[sobrevivente, ['creatinine_phosphokinase']]\n",
    "cpk_nao_sobrevivente = dados.loc[nao_sobrevivente, ['creatinine_phosphokinase']]\n",
    "\n",
    "plota_grafico(cpk_sobrevivente['creatinine_phosphokinase'], cpk_nao_sobrevivente['creatinine_phosphokinase'], 'histograma cpk', 'nível de cpk [mcg/L]', np.linspace(20, 7900, 20))"
   ]
  },
  {
   "cell_type": "markdown",
   "metadata": {},
   "source": [
    "Os resultados do gráfico acima estão próximos, o que dificuta a compreensão. Dessa forma, iremos plotar um novo gráfico com apenas os dados do 3o quartil."
   ]
  },
  {
   "cell_type": "code",
   "execution_count": 11,
   "metadata": {},
   "outputs": [
    {
     "data": {
      "image/png": "[encoded data removed]",
      "text/plain": [
       "<Figure size 432x288 with 1 Axes>"
      ]
     },
     "metadata": {
      "needs_background": "light"
     },
     "output_type": "display_data"
    }
   ],
   "source": [
    "plota_grafico(cpk_sobrevivente['creatinine_phosphokinase'], cpk_nao_sobrevivente['creatinine_phosphokinase'], 'histograma cpk', 'nível de cpk [mcg/L]', np.linspace(20, 590, 20))"
   ]
  },
  {
   "cell_type": "markdown",
   "metadata": {},
   "source": [
    "Observando o gráfico, percebe-se que o cpk possuí níveis próximos tanto nos pacieentes que sobreviveram e que não sobreviveram. Assim concluímos, que o nível da enzima cpk no sangue dos paciêntes, não afeta diretamente a taxa de sobrevivência."
   ]
  },
  {
   "cell_type": "code",
   "execution_count": 12,
   "metadata": {},
   "outputs": [
    {
     "data": {
      "image/png": "[encoded data removed]",
      "text/plain": [
       "<Figure size 432x288 with 1 Axes>"
      ]
     },
     "metadata": {
      "needs_background": "light"
     },
     "output_type": "display_data"
    }
   ],
   "source": [
    "# EJECTION FRACTION\n",
    "ef_sobrevivente = dados.loc[sobrevivente, ['ejection_fraction']]\n",
    "ef_nao_sobrevivente = dados.loc[nao_sobrevivente, ['ejection_fraction']]\n",
    "\n",
    "plota_grafico(ef_sobrevivente['ejection_fraction'], ef_nao_sobrevivente['ejection_fraction'], 'histograma ejection fraction', 'ejection fraction [%]', np.linspace(14, 81, 20))"
   ]
  },
  {
   "cell_type": "markdown",
   "metadata": {},
   "source": [
    "Pelo gáfico, infere-se que a porcentagem de sangue saindo do coração a cada sístole (ejection fraction) no intervalo de 0 a 30%, a taxa de sobrevivência é inferior à taxa de não sobreviência. Quando os valores são maiores do que 30%, a taxa de sobrevivência e não sobrevivência são mais próximas."
   ]
  },
  {
   "cell_type": "code",
   "execution_count": 13,
   "metadata": {},
   "outputs": [
    {
     "data": {
      "image/png": "[encoded data removed]",
      "text/plain": [
       "<Figure size 432x288 with 1 Axes>"
      ]
     },
     "metadata": {
      "needs_background": "light"
     },
     "output_type": "display_data"
    }
   ],
   "source": [
    "# PLATELETS\n",
    "platelets_sobrevivente = dados.loc[sobrevivente, ['platelets']]\n",
    "platelets_nao_sobrevivente = dados.loc[nao_sobrevivente, ['platelets']]\n",
    "\n",
    "plota_grafico(platelets_sobrevivente['platelets'], platelets_nao_sobrevivente['platelets'], 'histograma platelets', 'platelets [kg/ml]', np.linspace(25100, 850001, 20))"
   ]
  },
  {
   "cell_type": "markdown",
   "metadata": {},
   "source": [
    "Observando  o gráfico, percebe-se que nas extremidades do gráfico, ou seja, nos níveis mais baixos e altos de plaquetas, as taxas de sobrevivência e de não sobrevivência são similares. Já nos valores intermediários, existe uma diferença maior.\n"
   ]
  },
  {
   "cell_type": "code",
   "execution_count": 14,
   "metadata": {},
   "outputs": [
    {
     "data": {
      "image/png": "[encoded data removed]",
      "text/plain": [
       "<Figure size 432x288 with 1 Axes>"
      ]
     },
     "metadata": {
      "needs_background": "light"
     },
     "output_type": "display_data"
    }
   ],
   "source": [
    "# SERUM CREATININE\n",
    "sc_sobrevivente = dados.loc[sobrevivente, ['serum_creatinine']]\n",
    "sc_nao_sobrevivente = dados.loc[nao_sobrevivente, ['serum_creatinine']]\n",
    "\n",
    "plota_grafico(sc_sobrevivente['serum_creatinine'], sc_nao_sobrevivente['serum_creatinine'], 'histograma serum_creatinine', 'serum creatine [mg/dL]', np.linspace(0.5, 9.5, 20))"
   ]
  },
  {
   "cell_type": "markdown",
   "metadata": {},
   "source": [
    "Do gráfico, observa-se que quanto menos serum creatine no sangue, maior é a taxa de sobrevivência."
   ]
  },
  {
   "cell_type": "code",
   "execution_count": 15,
   "metadata": {},
   "outputs": [
    {
     "data": {
      "image/png": "[encoded data removed]",
      "text/plain": [
       "<Figure size 432x288 with 1 Axes>"
      ]
     },
     "metadata": {
      "needs_background": "light"
     },
     "output_type": "display_data"
    }
   ],
   "source": [
    "# TIME\n",
    "time_sobrevivente = dados.loc[sobrevivente, ['time']]\n",
    "time_nao_sobrevivente = dados.loc[nao_sobrevivente, ['time']]\n",
    "\n",
    "plota_grafico(time_sobrevivente['time'], time_nao_sobrevivente['time'], 'histograma time', 'time [dias]', np.linspace(4, 286, 20))"
   ]
  },
  {
   "cell_type": "markdown",
   "metadata": {},
   "source": [
    "Pelo gráfico, observa-se que os pacientes que foram observado por menos tempo possuem uma taxa de não sobrevivência superior a taxa de sobrevivência. Quando o tempo de observação foi maior, as taxas de sobrevivência são maiores também."
   ]
  },
  {
   "cell_type": "markdown",
   "metadata": {},
   "source": [
    "### Análise categórica"
   ]
  },
  {
   "cell_type": "markdown",
   "metadata": {},
   "source": [
    "Inicialmente, vamos visualizar as frequências relativas das variáveis categóricas."
   ]
  },
  {
   "cell_type": "code",
   "execution_count": 16,
   "metadata": {},
   "outputs": [
    {
     "data": {
      "image/png": "[encoded data removed]",
      "text/plain": [
       "<Figure size 1440x720 with 6 Axes>"
      ]
     },
     "metadata": {
      "needs_background": "light"
     },
     "output_type": "display_data"
    }
   ],
   "source": [
    "plt.figure(figsize=(20, 10))\n",
    "plt.subplot(2,3,1)\n",
    "sns.barplot(dados.sex.value_counts(True).index, dados.sex.value_counts(True)).set_title('sex')\n",
    "\n",
    "plt.subplot(2,3,2)\n",
    "sns.barplot(dados.anaemia.value_counts(True).index, dados.anaemia.value_counts(True)).set_title('anaemia')\n",
    "\n",
    "plt.subplot(2,3,3)\n",
    "sns.barplot(dados.diabetes.value_counts(True).index, dados.diabetes.value_counts(True)).set_title('diabetes')\n",
    "\n",
    "plt.subplot(2,3,4)\n",
    "sns.barplot(dados.high_blood_pressure.value_counts(True).index, dados.high_blood_pressure.value_counts(True)).set_title('high_blood_pressure')\n",
    "\n",
    "plt.subplot(2,3,5)\n",
    "sns.barplot(dados.smoking.value_counts(True).index, dados.smoking.value_counts(True)).set_title('smoking')\n",
    "\n",
    "plt.subplot(2,3,6)\n",
    "sns.barplot(dados.DEATH_EVENT.value_counts(True).index, dados.DEATH_EVENT.value_counts(True)).set_title('DEATH_EVENT')\n",
    "\n",
    "plt.show()"
   ]
  },
  {
   "cell_type": "markdown",
   "metadata": {},
   "source": [
    "Vamos separar, da mesma forma que para as variáveis numéricas, os pacientes entre aqueles que sobreviveram e os que não sobreviveram."
   ]
  },
  {
   "cell_type": "markdown",
   "metadata": {},
   "source": [
    "Para plotar os gráficos de pizza, criamos a seguinte função:"
   ]
  },
  {
   "cell_type": "code",
   "execution_count": 17,
   "metadata": {},
   "outputs": [],
   "source": [
    "#ex: plota_pizza(['Tem anemia', 'Não Tem anemia'], anaemia_sobrevivente['anaemia'], anaemia_sobrevivente['anaemia'], 'Sobrevivente', ['Tem anemia', 'Não Tem anemia'], anaemia_nao_sobrevivente['anaemia'], anaemia_nao_sobrevivente['anaemia'],'Não Sobrevivente')\n",
    "def plota_pizza(legenda_1, sobrev_tem, sobrev_n_tem, titulo_1, legenda_2, n_sobrev_tem, n_sobrev_n_tem, titulo_2):\n",
    "    plt.figure(figsize=(12, 5))\n",
    "    labels = legenda_1\n",
    "    titulos = [sobrev_tem.value_counts(True)[1]*100, sobrev_n_tem.value_counts(True)[0]*100]\n",
    "    cores = ['darkcyan', 'pink']\n",
    "    explode = (0.1, 0.1)  \n",
    "    total = sum(titulos)\n",
    "\n",
    "    plt.subplot(131)\n",
    "    plt.pie(titulos, explode = explode, labels = labels, colors = cores, autopct = '%1.1f%%', shadow = True, startangle=90)\n",
    "\n",
    "    plt.axis('equal') \n",
    "    plt.title(titulo_1)\n",
    "\n",
    "    #NÃO SOBREVIVENTE\n",
    "    labels = legenda_2\n",
    "    titulos = [n_sobrev_tem.value_counts(True)[1]*100, n_sobrev_n_tem.value_counts(True)[0]*100]\n",
    "    cores = ['darkcyan', 'pink']\n",
    "    explode = (0.1, 0.1)  \n",
    "    total = sum(titulos)\n",
    "\n",
    "    plt.subplot(133)\n",
    "    plt.pie(titulos, explode = explode, labels = labels, colors = cores, autopct = '%1.1f%%', shadow = True, startangle=90)\n",
    "\n",
    "    plt.axis('equal') \n",
    "    plt.title(titulo_2)\n",
    "\n",
    "\n",
    "    plt.show()"
   ]
  },
  {
   "cell_type": "code",
   "execution_count": 18,
   "metadata": {},
   "outputs": [
    {
     "data": {
      "image/png": "[encoded data removed]",
      "text/plain": [
       "<Figure size 864x360 with 2 Axes>"
      ]
     },
     "metadata": {},
     "output_type": "display_data"
    }
   ],
   "source": [
    "# ANAEMIA\n",
    "anaemia_sobrevivente = dados.loc[sobrevivente, ['anaemia']]\n",
    "anaemia_nao_sobrevivente = dados.loc[nao_sobrevivente, ['anaemia']]\n",
    "\n",
    "plota_pizza(['Tem anemia', 'Não Tem anemia'], anaemia_sobrevivente['anaemia'], anaemia_sobrevivente['anaemia'], 'Sobrevivente', ['Tem anemia', 'Não Tem anemia'], anaemia_nao_sobrevivente['anaemia'], anaemia_nao_sobrevivente['anaemia'],'Não Sobrevivente')"
   ]
  },
  {
   "cell_type": "markdown",
   "metadata": {},
   "source": [
    "Observando o gráfico, percebe-se que entre os pacientes que não sobreviveram, o índice de anêmicos é em torno de 7% maior do que nos pacientes que sobreviveram.\n",
    "Entretanto, ser anêmico ou não, parece não influenciar diretamente a morte do paciente."
   ]
  },
  {
   "cell_type": "code",
   "execution_count": 19,
   "metadata": {},
   "outputs": [
    {
     "data": {
      "image/png": "[encoded data removed]",
      "text/plain": [
       "<Figure size 864x360 with 2 Axes>"
      ]
     },
     "metadata": {},
     "output_type": "display_data"
    }
   ],
   "source": [
    "# DIABETES\n",
    "diabetes_sobrevivente = dados.loc[sobrevivente, ['diabetes']]\n",
    "diabetes_nao_sobrevivente = dados.loc[nao_sobrevivente, ['diabetes']]\n",
    "\n",
    "plota_pizza(['Tem diabetes', 'Não Tem diabetes'], diabetes_sobrevivente['diabetes'], diabetes_sobrevivente['diabetes'], 'Sobrevivente', ['Tem diabetes', 'Não Tem diabetes'], diabetes_nao_sobrevivente['diabetes'], diabetes_nao_sobrevivente['diabetes'],'Não Sobrevivente')"
   ]
  },
  {
   "cell_type": "markdown",
   "metadata": {},
   "source": [
    "Pelo gráfico, observa-se que entre os pacientes que não sobreviveram, o índice de diabéticos é ligeiramente maior do que nos pacientes que sobreviveram.\n",
    "Logo, ser diabético ou não, parece não influenciar diretamente a morte do paciente."
   ]
  },
  {
   "cell_type": "code",
   "execution_count": 20,
   "metadata": {},
   "outputs": [
    {
     "data": {
      "image/png": "[encoded data removed]",
      "text/plain": [
       "<Figure size 864x360 with 2 Axes>"
      ]
     },
     "metadata": {},
     "output_type": "display_data"
    }
   ],
   "source": [
    "# HIGH BLOOD PRESSURE\n",
    "hbp_sobrevivente = dados.loc[sobrevivente, ['high_blood_pressure']]\n",
    "hbp_nao_sobrevivente = dados.loc[nao_sobrevivente, ['high_blood_pressure']]\n",
    "\n",
    "plota_pizza(['Tem hipertensão', 'Não Tem hipertensão'], hbp_sobrevivente['high_blood_pressure'], hbp_sobrevivente['high_blood_pressure'], 'Sobrevivente', ['Tem hipertensão', 'Não Tem hipertensão'], hbp_nao_sobrevivente['high_blood_pressure'], hbp_nao_sobrevivente['high_blood_pressure'],'Não Sobrevivente')"
   ]
  },
  {
   "cell_type": "markdown",
   "metadata": {},
   "source": [
    "Observando o gráfico, é possível inferir que entre os pacientes que não sobreviveram, o índice de hipertensos é 8% maior do que nos pacientes que sobreviveram.\n",
    "Logo, ser hipertenso ou não, já parece influenciar um pouco mais na morte do paciente."
   ]
  },
  {
   "cell_type": "code",
   "execution_count": 21,
   "metadata": {},
   "outputs": [
    {
     "data": {
      "image/png": "[encoded data removed]",
      "text/plain": [
       "<Figure size 864x360 with 2 Axes>"
      ]
     },
     "metadata": {},
     "output_type": "display_data"
    }
   ],
   "source": [
    "# SMOKING\n",
    "smoking_sobrevivente = dados.loc[sobrevivente, ['smoking']]\n",
    "smoking_nao_sobrevivente = dados.loc[nao_sobrevivente, ['smoking']]\n",
    "\n",
    "plota_pizza(['É fumante', 'Não é fumante'], smoking_sobrevivente['smoking'], smoking_sobrevivente['smoking'], 'Sobrevivente', ['É fumante', 'Não é fumante'], smoking_nao_sobrevivente['smoking'], smoking_nao_sobrevivente['smoking'], 'Não Sobrevivente')"
   ]
  },
  {
   "cell_type": "markdown",
   "metadata": {},
   "source": [
    "Assim como diabetes, a diferença é muito baixa."
   ]
  },
  {
   "cell_type": "code",
   "execution_count": 22,
   "metadata": {},
   "outputs": [
    {
     "data": {
      "image/png": "[encoded data removed]",
      "text/plain": [
       "<Figure size 864x360 with 2 Axes>"
      ]
     },
     "metadata": {},
     "output_type": "display_data"
    }
   ],
   "source": [
    "# SEX\n",
    "sex_sobrevivente = dados.loc[sobrevivente, ['sex']]\n",
    "sex_nao_sobrevivente = dados.loc[nao_sobrevivente, ['sex']]\n",
    "\n",
    "plota_pizza(['Homem', 'Mulher'], sex_sobrevivente['sex'], sex_sobrevivente['sex'], 'Sobrevivente', ['Homem', 'Mulher'], sex_nao_sobrevivente['sex'], sex_nao_sobrevivente['sex'], 'Não Sobrevivente')"
   ]
  },
  {
   "cell_type": "markdown",
   "metadata": {},
   "source": [
    "Assim como ser fumante e diabético, o gênero parece não influenciar diretamente."
   ]
  },
  {
   "cell_type": "markdown",
   "metadata": {},
   "source": [
    "___\n",
    "## Iniciando as previsões\n"
   ]
  },
  {
   "cell_type": "markdown",
   "metadata": {},
   "source": [
    "##### Separando os dados em Treinamento e Teste\n",
    "\n",
    "Para fazer os modelos probabilísticos é necessário que as variáveis categóricas estejam representadas de forma binária. Dessa forma, iremos utilizar o dataframe original sem a alteração dos nomes das variáveis categóricas.\n",
    "\n",
    "Lembrando que:\n",
    "- anaemia: (0 = Não possui; 1 = Possui)\n",
    "- high blood pressure: (0 = Não possui; 1 = Possui)\n",
    "- diabetes: (0 = Não possui; 1 = Possui)\n",
    "- sex: (0 = Mulher; 1 = Homem)\n",
    "- smoking: (0 = Não fuma; 1 = Fuma)\n",
    "- death event: (0 = Sobrevivente; 1 = Não Sobrevivente)"
   ]
  },
  {
   "cell_type": "code",
   "execution_count": 23,
   "metadata": {
    "scrolled": false
   },
   "outputs": [
    {
     "data": {
      "text/html": [
       "<div>\n",
       "<style scoped>\n",
       "    .dataframe tbody tr th:only-of-type {\n",
       "        vertical-align: middle;\n",
       "    }\n",
       "\n",
       "    .dataframe tbody tr th {\n",
       "        vertical-align: top;\n",
       "    }\n",
       "\n",
       "    .dataframe thead th {\n",
       "        text-align: right;\n",
       "    }\n",
       "</style>\n",
       "<table border=\"1\" class=\"dataframe\">\n",
       "  <thead>\n",
       "    <tr style=\"text-align: right;\">\n",
       "      <th></th>\n",
       "      <th>age</th>\n",
       "      <th>anaemia</th>\n",
       "      <th>creatinine_phosphokinase</th>\n",
       "      <th>diabetes</th>\n",
       "      <th>ejection_fraction</th>\n",
       "      <th>high_blood_pressure</th>\n",
       "      <th>platelets</th>\n",
       "      <th>serum_creatinine</th>\n",
       "      <th>serum_sodium</th>\n",
       "      <th>sex</th>\n",
       "      <th>smoking</th>\n",
       "      <th>time</th>\n",
       "      <th>DEATH_EVENT</th>\n",
       "    </tr>\n",
       "  </thead>\n",
       "  <tbody>\n",
       "    <tr>\n",
       "      <td>0</td>\n",
       "      <td>75</td>\n",
       "      <td>0</td>\n",
       "      <td>582</td>\n",
       "      <td>0</td>\n",
       "      <td>20</td>\n",
       "      <td>1</td>\n",
       "      <td>265000.00</td>\n",
       "      <td>1.9</td>\n",
       "      <td>130</td>\n",
       "      <td>1</td>\n",
       "      <td>0</td>\n",
       "      <td>4</td>\n",
       "      <td>1</td>\n",
       "    </tr>\n",
       "    <tr>\n",
       "      <td>1</td>\n",
       "      <td>55</td>\n",
       "      <td>0</td>\n",
       "      <td>7861</td>\n",
       "      <td>0</td>\n",
       "      <td>38</td>\n",
       "      <td>0</td>\n",
       "      <td>263358.03</td>\n",
       "      <td>1.1</td>\n",
       "      <td>136</td>\n",
       "      <td>1</td>\n",
       "      <td>0</td>\n",
       "      <td>6</td>\n",
       "      <td>1</td>\n",
       "    </tr>\n",
       "    <tr>\n",
       "      <td>2</td>\n",
       "      <td>65</td>\n",
       "      <td>0</td>\n",
       "      <td>146</td>\n",
       "      <td>0</td>\n",
       "      <td>20</td>\n",
       "      <td>0</td>\n",
       "      <td>162000.00</td>\n",
       "      <td>1.3</td>\n",
       "      <td>129</td>\n",
       "      <td>1</td>\n",
       "      <td>1</td>\n",
       "      <td>7</td>\n",
       "      <td>1</td>\n",
       "    </tr>\n",
       "    <tr>\n",
       "      <td>3</td>\n",
       "      <td>50</td>\n",
       "      <td>1</td>\n",
       "      <td>111</td>\n",
       "      <td>0</td>\n",
       "      <td>20</td>\n",
       "      <td>0</td>\n",
       "      <td>210000.00</td>\n",
       "      <td>1.9</td>\n",
       "      <td>137</td>\n",
       "      <td>1</td>\n",
       "      <td>0</td>\n",
       "      <td>7</td>\n",
       "      <td>1</td>\n",
       "    </tr>\n",
       "    <tr>\n",
       "      <td>4</td>\n",
       "      <td>65</td>\n",
       "      <td>1</td>\n",
       "      <td>160</td>\n",
       "      <td>1</td>\n",
       "      <td>20</td>\n",
       "      <td>0</td>\n",
       "      <td>327000.00</td>\n",
       "      <td>2.7</td>\n",
       "      <td>116</td>\n",
       "      <td>0</td>\n",
       "      <td>0</td>\n",
       "      <td>8</td>\n",
       "      <td>1</td>\n",
       "    </tr>\n",
       "    <tr>\n",
       "      <td>...</td>\n",
       "      <td>...</td>\n",
       "      <td>...</td>\n",
       "      <td>...</td>\n",
       "      <td>...</td>\n",
       "      <td>...</td>\n",
       "      <td>...</td>\n",
       "      <td>...</td>\n",
       "      <td>...</td>\n",
       "      <td>...</td>\n",
       "      <td>...</td>\n",
       "      <td>...</td>\n",
       "      <td>...</td>\n",
       "      <td>...</td>\n",
       "    </tr>\n",
       "    <tr>\n",
       "      <td>294</td>\n",
       "      <td>62</td>\n",
       "      <td>0</td>\n",
       "      <td>61</td>\n",
       "      <td>1</td>\n",
       "      <td>38</td>\n",
       "      <td>1</td>\n",
       "      <td>155000.00</td>\n",
       "      <td>1.1</td>\n",
       "      <td>143</td>\n",
       "      <td>1</td>\n",
       "      <td>1</td>\n",
       "      <td>270</td>\n",
       "      <td>0</td>\n",
       "    </tr>\n",
       "    <tr>\n",
       "      <td>295</td>\n",
       "      <td>55</td>\n",
       "      <td>0</td>\n",
       "      <td>1820</td>\n",
       "      <td>0</td>\n",
       "      <td>38</td>\n",
       "      <td>0</td>\n",
       "      <td>270000.00</td>\n",
       "      <td>1.2</td>\n",
       "      <td>139</td>\n",
       "      <td>0</td>\n",
       "      <td>0</td>\n",
       "      <td>271</td>\n",
       "      <td>0</td>\n",
       "    </tr>\n",
       "    <tr>\n",
       "      <td>296</td>\n",
       "      <td>45</td>\n",
       "      <td>0</td>\n",
       "      <td>2060</td>\n",
       "      <td>1</td>\n",
       "      <td>60</td>\n",
       "      <td>0</td>\n",
       "      <td>742000.00</td>\n",
       "      <td>0.8</td>\n",
       "      <td>138</td>\n",
       "      <td>0</td>\n",
       "      <td>0</td>\n",
       "      <td>278</td>\n",
       "      <td>0</td>\n",
       "    </tr>\n",
       "    <tr>\n",
       "      <td>297</td>\n",
       "      <td>45</td>\n",
       "      <td>0</td>\n",
       "      <td>2413</td>\n",
       "      <td>0</td>\n",
       "      <td>38</td>\n",
       "      <td>0</td>\n",
       "      <td>140000.00</td>\n",
       "      <td>1.4</td>\n",
       "      <td>140</td>\n",
       "      <td>1</td>\n",
       "      <td>1</td>\n",
       "      <td>280</td>\n",
       "      <td>0</td>\n",
       "    </tr>\n",
       "    <tr>\n",
       "      <td>298</td>\n",
       "      <td>50</td>\n",
       "      <td>0</td>\n",
       "      <td>196</td>\n",
       "      <td>0</td>\n",
       "      <td>45</td>\n",
       "      <td>0</td>\n",
       "      <td>395000.00</td>\n",
       "      <td>1.6</td>\n",
       "      <td>136</td>\n",
       "      <td>1</td>\n",
       "      <td>1</td>\n",
       "      <td>285</td>\n",
       "      <td>0</td>\n",
       "    </tr>\n",
       "  </tbody>\n",
       "</table>\n",
       "<p>299 rows × 13 columns</p>\n",
       "</div>"
      ],
      "text/plain": [
       "     age  anaemia  creatinine_phosphokinase  diabetes  ejection_fraction  \\\n",
       "0     75        0                       582         0                 20   \n",
       "1     55        0                      7861         0                 38   \n",
       "2     65        0                       146         0                 20   \n",
       "3     50        1                       111         0                 20   \n",
       "4     65        1                       160         1                 20   \n",
       "..   ...      ...                       ...       ...                ...   \n",
       "294   62        0                        61         1                 38   \n",
       "295   55        0                      1820         0                 38   \n",
       "296   45        0                      2060         1                 60   \n",
       "297   45        0                      2413         0                 38   \n",
       "298   50        0                       196         0                 45   \n",
       "\n",
       "     high_blood_pressure  platelets  serum_creatinine  serum_sodium  sex  \\\n",
       "0                      1  265000.00               1.9           130    1   \n",
       "1                      0  263358.03               1.1           136    1   \n",
       "2                      0  162000.00               1.3           129    1   \n",
       "3                      0  210000.00               1.9           137    1   \n",
       "4                      0  327000.00               2.7           116    0   \n",
       "..                   ...        ...               ...           ...  ...   \n",
       "294                    1  155000.00               1.1           143    1   \n",
       "295                    0  270000.00               1.2           139    0   \n",
       "296                    0  742000.00               0.8           138    0   \n",
       "297                    0  140000.00               1.4           140    1   \n",
       "298                    0  395000.00               1.6           136    1   \n",
       "\n",
       "     smoking  time  DEATH_EVENT  \n",
       "0          0     4            1  \n",
       "1          0     6            1  \n",
       "2          1     7            1  \n",
       "3          0     7            1  \n",
       "4          0     8            1  \n",
       "..       ...   ...          ...  \n",
       "294        1   270            0  \n",
       "295        0   271            0  \n",
       "296        0   278            0  \n",
       "297        1   280            0  \n",
       "298        1   285            0  \n",
       "\n",
       "[299 rows x 13 columns]"
      ]
     },
     "execution_count": 23,
     "metadata": {},
     "output_type": "execute_result"
    }
   ],
   "source": [
    "dados_com_numeros = pd.read_excel(filename)\n",
    "dados_com_numeros"
   ]
  },
  {
   "cell_type": "markdown",
   "metadata": {},
   "source": [
    "Para fazer previsões utilizando modelos classificadores, é necessário, primeiramente, separar o dataframe em features, que são as variáveis como, por exemplo, idade e gênero, e em target, que é a variável DEATH_EVENT que indica que se o paciente sobreviveu."
   ]
  },
  {
   "cell_type": "code",
   "execution_count": 24,
   "metadata": {},
   "outputs": [
    {
     "data": {
      "text/html": [
       "<div>\n",
       "<style scoped>\n",
       "    .dataframe tbody tr th:only-of-type {\n",
       "        vertical-align: middle;\n",
       "    }\n",
       "\n",
       "    .dataframe tbody tr th {\n",
       "        vertical-align: top;\n",
       "    }\n",
       "\n",
       "    .dataframe thead th {\n",
       "        text-align: right;\n",
       "    }\n",
       "</style>\n",
       "<table border=\"1\" class=\"dataframe\">\n",
       "  <thead>\n",
       "    <tr style=\"text-align: right;\">\n",
       "      <th></th>\n",
       "      <th>age</th>\n",
       "      <th>anaemia</th>\n",
       "      <th>creatinine_phosphokinase</th>\n",
       "      <th>diabetes</th>\n",
       "      <th>ejection_fraction</th>\n",
       "      <th>high_blood_pressure</th>\n",
       "      <th>platelets</th>\n",
       "      <th>serum_creatinine</th>\n",
       "      <th>serum_sodium</th>\n",
       "      <th>sex</th>\n",
       "      <th>smoking</th>\n",
       "      <th>time</th>\n",
       "    </tr>\n",
       "  </thead>\n",
       "  <tbody>\n",
       "    <tr>\n",
       "      <td>0</td>\n",
       "      <td>75</td>\n",
       "      <td>0</td>\n",
       "      <td>582</td>\n",
       "      <td>0</td>\n",
       "      <td>20</td>\n",
       "      <td>1</td>\n",
       "      <td>265000.00</td>\n",
       "      <td>1.9</td>\n",
       "      <td>130</td>\n",
       "      <td>1</td>\n",
       "      <td>0</td>\n",
       "      <td>4</td>\n",
       "    </tr>\n",
       "    <tr>\n",
       "      <td>1</td>\n",
       "      <td>55</td>\n",
       "      <td>0</td>\n",
       "      <td>7861</td>\n",
       "      <td>0</td>\n",
       "      <td>38</td>\n",
       "      <td>0</td>\n",
       "      <td>263358.03</td>\n",
       "      <td>1.1</td>\n",
       "      <td>136</td>\n",
       "      <td>1</td>\n",
       "      <td>0</td>\n",
       "      <td>6</td>\n",
       "    </tr>\n",
       "    <tr>\n",
       "      <td>2</td>\n",
       "      <td>65</td>\n",
       "      <td>0</td>\n",
       "      <td>146</td>\n",
       "      <td>0</td>\n",
       "      <td>20</td>\n",
       "      <td>0</td>\n",
       "      <td>162000.00</td>\n",
       "      <td>1.3</td>\n",
       "      <td>129</td>\n",
       "      <td>1</td>\n",
       "      <td>1</td>\n",
       "      <td>7</td>\n",
       "    </tr>\n",
       "    <tr>\n",
       "      <td>3</td>\n",
       "      <td>50</td>\n",
       "      <td>1</td>\n",
       "      <td>111</td>\n",
       "      <td>0</td>\n",
       "      <td>20</td>\n",
       "      <td>0</td>\n",
       "      <td>210000.00</td>\n",
       "      <td>1.9</td>\n",
       "      <td>137</td>\n",
       "      <td>1</td>\n",
       "      <td>0</td>\n",
       "      <td>7</td>\n",
       "    </tr>\n",
       "    <tr>\n",
       "      <td>4</td>\n",
       "      <td>65</td>\n",
       "      <td>1</td>\n",
       "      <td>160</td>\n",
       "      <td>1</td>\n",
       "      <td>20</td>\n",
       "      <td>0</td>\n",
       "      <td>327000.00</td>\n",
       "      <td>2.7</td>\n",
       "      <td>116</td>\n",
       "      <td>0</td>\n",
       "      <td>0</td>\n",
       "      <td>8</td>\n",
       "    </tr>\n",
       "  </tbody>\n",
       "</table>\n",
       "</div>"
      ],
      "text/plain": [
       "   age  anaemia  creatinine_phosphokinase  diabetes  ejection_fraction  \\\n",
       "0   75        0                       582         0                 20   \n",
       "1   55        0                      7861         0                 38   \n",
       "2   65        0                       146         0                 20   \n",
       "3   50        1                       111         0                 20   \n",
       "4   65        1                       160         1                 20   \n",
       "\n",
       "   high_blood_pressure  platelets  serum_creatinine  serum_sodium  sex  \\\n",
       "0                    1  265000.00               1.9           130    1   \n",
       "1                    0  263358.03               1.1           136    1   \n",
       "2                    0  162000.00               1.3           129    1   \n",
       "3                    0  210000.00               1.9           137    1   \n",
       "4                    0  327000.00               2.7           116    0   \n",
       "\n",
       "   smoking  time  \n",
       "0        0     4  \n",
       "1        0     6  \n",
       "2        1     7  \n",
       "3        0     7  \n",
       "4        0     8  "
      ]
     },
     "execution_count": 24,
     "metadata": {},
     "output_type": "execute_result"
    }
   ],
   "source": [
    "# Criando uma variável que contém as features e remove a coluna com o target (\"DEATH_EVENT\")\n",
    "lista_features = list(dados_com_numeros.columns)\n",
    "lista_features.remove('DEATH_EVENT')\n",
    "\n",
    "X = dados_com_numeros.loc[:, lista_features]\n",
    "# Verificando se a variável contém somente as features\n",
    "X.head()"
   ]
  },
  {
   "cell_type": "code",
   "execution_count": 25,
   "metadata": {},
   "outputs": [
    {
     "data": {
      "text/plain": [
       "0    1\n",
       "1    1\n",
       "2    1\n",
       "3    1\n",
       "4    1\n",
       "Name: DEATH_EVENT, dtype: int64"
      ]
     },
     "execution_count": 25,
     "metadata": {},
     "output_type": "execute_result"
    }
   ],
   "source": [
    "# Criando uma variável que contém o target (\"DEATH_EVENT\")\n",
    "y = dados_com_numeros['DEATH_EVENT']\n",
    "\n",
    "# Verificando se a variável contém somente o target\n",
    "y.head()"
   ]
  },
  {
   "cell_type": "markdown",
   "metadata": {},
   "source": [
    "Para utilizar os modelos probabilísticos, também é necessário, em um primeiro momento treinar o nosso classificador e, mais tarde, testá-lo. Para isso, vamos separar nossa base de dados em Treinamento e Teste. Essas bases de dados também estarão divididas em features (representadas pela variável X) e em target (representada pela variável Y)."
   ]
  },
  {
   "cell_type": "code",
   "execution_count": 26,
   "metadata": {},
   "outputs": [],
   "source": [
    "# Separando aleatoriamente os dados da base de dados\n",
    "X_train, X_test, y_train, y_test = train_test_split(X, y, test_size = 0.33, random_state = 42)"
   ]
  },
  {
   "cell_type": "markdown",
   "metadata": {},
   "source": [
    "*Treinamento*"
   ]
  },
  {
   "cell_type": "code",
   "execution_count": 27,
   "metadata": {
    "scrolled": false
   },
   "outputs": [
    {
     "data": {
      "text/html": [
       "<div>\n",
       "<style scoped>\n",
       "    .dataframe tbody tr th:only-of-type {\n",
       "        vertical-align: middle;\n",
       "    }\n",
       "\n",
       "    .dataframe tbody tr th {\n",
       "        vertical-align: top;\n",
       "    }\n",
       "\n",
       "    .dataframe thead th {\n",
       "        text-align: right;\n",
       "    }\n",
       "</style>\n",
       "<table border=\"1\" class=\"dataframe\">\n",
       "  <thead>\n",
       "    <tr style=\"text-align: right;\">\n",
       "      <th></th>\n",
       "      <th>age</th>\n",
       "      <th>anaemia</th>\n",
       "      <th>creatinine_phosphokinase</th>\n",
       "      <th>diabetes</th>\n",
       "      <th>ejection_fraction</th>\n",
       "      <th>high_blood_pressure</th>\n",
       "      <th>platelets</th>\n",
       "      <th>serum_creatinine</th>\n",
       "      <th>serum_sodium</th>\n",
       "      <th>sex</th>\n",
       "      <th>smoking</th>\n",
       "      <th>time</th>\n",
       "      <th>DEATH_EVENT</th>\n",
       "    </tr>\n",
       "  </thead>\n",
       "  <tbody>\n",
       "    <tr>\n",
       "      <td>101</td>\n",
       "      <td>75</td>\n",
       "      <td>0</td>\n",
       "      <td>582</td>\n",
       "      <td>0</td>\n",
       "      <td>45</td>\n",
       "      <td>1</td>\n",
       "      <td>263358.03</td>\n",
       "      <td>1.18</td>\n",
       "      <td>137</td>\n",
       "      <td>1</td>\n",
       "      <td>0</td>\n",
       "      <td>87</td>\n",
       "      <td>0</td>\n",
       "    </tr>\n",
       "    <tr>\n",
       "      <td>69</td>\n",
       "      <td>65</td>\n",
       "      <td>0</td>\n",
       "      <td>113</td>\n",
       "      <td>1</td>\n",
       "      <td>25</td>\n",
       "      <td>0</td>\n",
       "      <td>497000.00</td>\n",
       "      <td>1.83</td>\n",
       "      <td>135</td>\n",
       "      <td>1</td>\n",
       "      <td>0</td>\n",
       "      <td>67</td>\n",
       "      <td>1</td>\n",
       "    </tr>\n",
       "    <tr>\n",
       "      <td>31</td>\n",
       "      <td>85</td>\n",
       "      <td>0</td>\n",
       "      <td>23</td>\n",
       "      <td>0</td>\n",
       "      <td>45</td>\n",
       "      <td>0</td>\n",
       "      <td>360000.00</td>\n",
       "      <td>3.00</td>\n",
       "      <td>132</td>\n",
       "      <td>1</td>\n",
       "      <td>0</td>\n",
       "      <td>28</td>\n",
       "      <td>1</td>\n",
       "    </tr>\n",
       "    <tr>\n",
       "      <td>172</td>\n",
       "      <td>70</td>\n",
       "      <td>1</td>\n",
       "      <td>171</td>\n",
       "      <td>0</td>\n",
       "      <td>60</td>\n",
       "      <td>1</td>\n",
       "      <td>176000.00</td>\n",
       "      <td>1.10</td>\n",
       "      <td>145</td>\n",
       "      <td>1</td>\n",
       "      <td>1</td>\n",
       "      <td>146</td>\n",
       "      <td>0</td>\n",
       "    </tr>\n",
       "    <tr>\n",
       "      <td>148</td>\n",
       "      <td>75</td>\n",
       "      <td>1</td>\n",
       "      <td>582</td>\n",
       "      <td>0</td>\n",
       "      <td>30</td>\n",
       "      <td>0</td>\n",
       "      <td>225000.00</td>\n",
       "      <td>1.83</td>\n",
       "      <td>134</td>\n",
       "      <td>1</td>\n",
       "      <td>0</td>\n",
       "      <td>113</td>\n",
       "      <td>1</td>\n",
       "    </tr>\n",
       "  </tbody>\n",
       "</table>\n",
       "</div>"
      ],
      "text/plain": [
       "     age  anaemia  creatinine_phosphokinase  diabetes  ejection_fraction  \\\n",
       "101   75        0                       582         0                 45   \n",
       "69    65        0                       113         1                 25   \n",
       "31    85        0                        23         0                 45   \n",
       "172   70        1                       171         0                 60   \n",
       "148   75        1                       582         0                 30   \n",
       "\n",
       "     high_blood_pressure  platelets  serum_creatinine  serum_sodium  sex  \\\n",
       "101                    1  263358.03              1.18           137    1   \n",
       "69                     0  497000.00              1.83           135    1   \n",
       "31                     0  360000.00              3.00           132    1   \n",
       "172                    1  176000.00              1.10           145    1   \n",
       "148                    0  225000.00              1.83           134    1   \n",
       "\n",
       "     smoking  time  DEATH_EVENT  \n",
       "101        0    87            0  \n",
       "69         0    67            1  \n",
       "31         0    28            1  \n",
       "172        1   146            0  \n",
       "148        0   113            1  "
      ]
     },
     "execution_count": 27,
     "metadata": {},
     "output_type": "execute_result"
    }
   ],
   "source": [
    "# Juntando a tabela dos features e target para o Treinamento\n",
    "train = X_train.join(y_train, how = 'inner')\n",
    "train.head()"
   ]
  },
  {
   "cell_type": "markdown",
   "metadata": {},
   "source": [
    "*Teste*"
   ]
  },
  {
   "cell_type": "code",
   "execution_count": 28,
   "metadata": {},
   "outputs": [
    {
     "data": {
      "text/html": [
       "<div>\n",
       "<style scoped>\n",
       "    .dataframe tbody tr th:only-of-type {\n",
       "        vertical-align: middle;\n",
       "    }\n",
       "\n",
       "    .dataframe tbody tr th {\n",
       "        vertical-align: top;\n",
       "    }\n",
       "\n",
       "    .dataframe thead th {\n",
       "        text-align: right;\n",
       "    }\n",
       "</style>\n",
       "<table border=\"1\" class=\"dataframe\">\n",
       "  <thead>\n",
       "    <tr style=\"text-align: right;\">\n",
       "      <th></th>\n",
       "      <th>age</th>\n",
       "      <th>anaemia</th>\n",
       "      <th>creatinine_phosphokinase</th>\n",
       "      <th>diabetes</th>\n",
       "      <th>ejection_fraction</th>\n",
       "      <th>high_blood_pressure</th>\n",
       "      <th>platelets</th>\n",
       "      <th>serum_creatinine</th>\n",
       "      <th>serum_sodium</th>\n",
       "      <th>sex</th>\n",
       "      <th>smoking</th>\n",
       "      <th>time</th>\n",
       "      <th>DEATH_EVENT</th>\n",
       "    </tr>\n",
       "  </thead>\n",
       "  <tbody>\n",
       "    <tr>\n",
       "      <td>281</td>\n",
       "      <td>70</td>\n",
       "      <td>0</td>\n",
       "      <td>582</td>\n",
       "      <td>0</td>\n",
       "      <td>40</td>\n",
       "      <td>0</td>\n",
       "      <td>51000.0</td>\n",
       "      <td>2.7</td>\n",
       "      <td>136</td>\n",
       "      <td>1</td>\n",
       "      <td>1</td>\n",
       "      <td>250</td>\n",
       "      <td>0</td>\n",
       "    </tr>\n",
       "    <tr>\n",
       "      <td>265</td>\n",
       "      <td>50</td>\n",
       "      <td>1</td>\n",
       "      <td>298</td>\n",
       "      <td>0</td>\n",
       "      <td>35</td>\n",
       "      <td>0</td>\n",
       "      <td>362000.0</td>\n",
       "      <td>0.9</td>\n",
       "      <td>140</td>\n",
       "      <td>1</td>\n",
       "      <td>1</td>\n",
       "      <td>240</td>\n",
       "      <td>0</td>\n",
       "    </tr>\n",
       "    <tr>\n",
       "      <td>164</td>\n",
       "      <td>45</td>\n",
       "      <td>0</td>\n",
       "      <td>2442</td>\n",
       "      <td>1</td>\n",
       "      <td>30</td>\n",
       "      <td>0</td>\n",
       "      <td>334000.0</td>\n",
       "      <td>1.1</td>\n",
       "      <td>139</td>\n",
       "      <td>1</td>\n",
       "      <td>0</td>\n",
       "      <td>129</td>\n",
       "      <td>1</td>\n",
       "    </tr>\n",
       "    <tr>\n",
       "      <td>9</td>\n",
       "      <td>80</td>\n",
       "      <td>1</td>\n",
       "      <td>123</td>\n",
       "      <td>0</td>\n",
       "      <td>35</td>\n",
       "      <td>1</td>\n",
       "      <td>388000.0</td>\n",
       "      <td>9.4</td>\n",
       "      <td>133</td>\n",
       "      <td>1</td>\n",
       "      <td>1</td>\n",
       "      <td>10</td>\n",
       "      <td>1</td>\n",
       "    </tr>\n",
       "    <tr>\n",
       "      <td>77</td>\n",
       "      <td>42</td>\n",
       "      <td>0</td>\n",
       "      <td>102</td>\n",
       "      <td>1</td>\n",
       "      <td>40</td>\n",
       "      <td>0</td>\n",
       "      <td>237000.0</td>\n",
       "      <td>1.2</td>\n",
       "      <td>140</td>\n",
       "      <td>1</td>\n",
       "      <td>0</td>\n",
       "      <td>74</td>\n",
       "      <td>0</td>\n",
       "    </tr>\n",
       "  </tbody>\n",
       "</table>\n",
       "</div>"
      ],
      "text/plain": [
       "     age  anaemia  creatinine_phosphokinase  diabetes  ejection_fraction  \\\n",
       "281   70        0                       582         0                 40   \n",
       "265   50        1                       298         0                 35   \n",
       "164   45        0                      2442         1                 30   \n",
       "9     80        1                       123         0                 35   \n",
       "77    42        0                       102         1                 40   \n",
       "\n",
       "     high_blood_pressure  platelets  serum_creatinine  serum_sodium  sex  \\\n",
       "281                    0    51000.0               2.7           136    1   \n",
       "265                    0   362000.0               0.9           140    1   \n",
       "164                    0   334000.0               1.1           139    1   \n",
       "9                      1   388000.0               9.4           133    1   \n",
       "77                     0   237000.0               1.2           140    1   \n",
       "\n",
       "     smoking  time  DEATH_EVENT  \n",
       "281        1   250            0  \n",
       "265        1   240            0  \n",
       "164        0   129            1  \n",
       "9          1    10            1  \n",
       "77         0    74            0  "
      ]
     },
     "execution_count": 28,
     "metadata": {},
     "output_type": "execute_result"
    }
   ],
   "source": [
    "# Juntando a tabela dos features e target para o Teste\n",
    "test = X_test.join(y_test, how = 'inner')\n",
    "test.head()"
   ]
  },
  {
   "cell_type": "markdown",
   "metadata": {},
   "source": [
    "### Modelando as previsões"
   ]
  },
  {
   "cell_type": "code",
   "execution_count": 29,
   "metadata": {},
   "outputs": [],
   "source": [
    "# Importando as bibliotecas necessárias para implementar os modelos\n",
    "from sklearn import svm \n",
    "from sklearn import metrics\n",
    "from sklearn.svm import SVC\n",
    "from sklearn.metrics import (confusion_matrix, accuracy_score) \n",
    "import seaborn as sn"
   ]
  },
  {
   "cell_type": "markdown",
   "metadata": {},
   "source": [
    "#### Decision Tree"
   ]
  },
  {
   "cell_type": "code",
   "execution_count": 30,
   "metadata": {},
   "outputs": [
    {
     "data": {
      "text/plain": [
       "DecisionTreeClassifier(class_weight=None, criterion='gini', max_depth=7,\n",
       "                       max_features=None, max_leaf_nodes=None,\n",
       "                       min_impurity_decrease=0.0, min_impurity_split=None,\n",
       "                       min_samples_leaf=1, min_samples_split=2,\n",
       "                       min_weight_fraction_leaf=0.0, presort=False,\n",
       "                       random_state=0, splitter='best')"
      ]
     },
     "execution_count": 30,
     "metadata": {},
     "output_type": "execute_result"
    }
   ],
   "source": [
    "# Importanto o modelo probabilístico Decision Tree\n",
    "from sklearn.tree import DecisionTreeClassifier \n",
    "from sklearn import tree\n",
    "\n",
    "# Utilizando o modelo Decision Tree\n",
    "modelo_decision_tree = DecisionTreeClassifier(max_depth = 7, random_state = 0)\n",
    "\n",
    "# Treinando o modelo\n",
    "modelo_decision_tree.fit(X_train, y_train)"
   ]
  },
  {
   "cell_type": "code",
   "execution_count": 31,
   "metadata": {},
   "outputs": [
    {
     "data": {
      "image/png": "[encoded data removed]",
      "text/plain": [
       "<Figure size 1440x720 with 1 Axes>"
      ]
     },
     "metadata": {
      "needs_background": "light"
     },
     "output_type": "display_data"
    }
   ],
   "source": [
    "plt.figure(figsize = (20, 10))\n",
    "tree.plot_tree(modelo_decision_tree, feature_names = lista_features, filled = True)\n",
    "plt.show()"
   ]
  },
  {
   "cell_type": "code",
   "execution_count": 62,
   "metadata": {},
   "outputs": [
    {
     "name": "stdout",
     "output_type": "stream",
     "text": [
      "Valores dados: [0, 0, 1, 1, 0, 0, 1, 0, 1, 0, 0, 1, 1, 0, 0, 1, 0, 0, 1, 1, 0, 0, 0, 1, 1, 0, 0, 0, 1, 0, 1, 0, 0, 1, 1, 1, 1, 1, 0, 0, 1, 1, 0, 0, 0, 0, 0, 0, 0, 0, 1, 1, 1, 0, 0, 0, 0, 1, 0, 1, 1, 1, 1, 0, 1, 1, 0, 0, 0, 0, 1, 0, 0, 0, 0, 0, 0, 1, 0, 0, 1, 1, 0, 0, 0, 0, 1, 1, 1, 0, 0, 1, 0, 1, 1, 1, 0, 0, 1]\n",
      " \n",
      "Valores previstos pelo modelo: [1, 0, 0, 1, 0, 0, 0, 1, 0, 0, 0, 0, 0, 0, 1, 1, 0, 0, 1, 1, 0, 0, 1, 1, 1, 0, 0, 0, 0, 0, 1, 0, 1, 1, 1, 1, 0, 0, 0, 0, 1, 0, 0, 0, 1, 0, 0, 0, 0, 0, 0, 0, 0, 0, 0, 0, 0, 1, 0, 1, 1, 1, 0, 0, 1, 1, 0, 1, 0, 0, 0, 0, 0, 0, 1, 0, 0, 1, 1, 0, 0, 1, 0, 0, 0, 0, 1, 1, 0, 0, 0, 1, 0, 1, 1, 0, 0, 0, 0]\n",
      " \n",
      "Matriz de Confusão: \n",
      " [[48  9]\n",
      " [18 24]]\n"
     ]
    },
    {
     "data": {
      "image/png": "[encoded data removed]",
      "text/plain": [
       "<Figure size 216x216 with 1 Axes>"
      ]
     },
     "metadata": {
      "needs_background": "light"
     },
     "output_type": "display_data"
    }
   ],
   "source": [
    "# Prevendo o modelo\n",
    "previsao_decision_tree = modelo_decision_tree.predict(X_test)\n",
    "\n",
    "# Imprimindo valores\n",
    "print('Valores dados:', list(y_test.values)) \n",
    "print(' ')\n",
    "print('Valores previstos pelo modelo:', list(previsao_decision_tree))\n",
    "\n",
    "# Matriz de confusão\n",
    "matriz_decision_tree = confusion_matrix(y_test, previsao_decision_tree)\n",
    "print(' ')\n",
    "print (\"Matriz de Confusão: \\n\", matriz_decision_tree)  \n",
    "# Para visualização:\n",
    "plt.figure(figsize = (3, 3))\n",
    "sn.heatmap(matriz_decision_tree, annot_kws = {\"size\": 10}, annot = True)\n",
    "plt.xlabel('Previsto por Random Forest')\n",
    "plt.ylabel('Dados reais')\n",
    "plt.show()"
   ]
  },
  {
   "cell_type": "code",
   "execution_count": 33,
   "metadata": {},
   "outputs": [
    {
     "data": {
      "text/html": [
       "<div>\n",
       "<style scoped>\n",
       "    .dataframe tbody tr th:only-of-type {\n",
       "        vertical-align: middle;\n",
       "    }\n",
       "\n",
       "    .dataframe tbody tr th {\n",
       "        vertical-align: top;\n",
       "    }\n",
       "\n",
       "    .dataframe thead th {\n",
       "        text-align: right;\n",
       "    }\n",
       "</style>\n",
       "<table border=\"1\" class=\"dataframe\">\n",
       "  <thead>\n",
       "    <tr style=\"text-align: right;\">\n",
       "      <th>col_0</th>\n",
       "      <th>0</th>\n",
       "      <th>1</th>\n",
       "    </tr>\n",
       "    <tr>\n",
       "      <th>DEATH_EVENT</th>\n",
       "      <th></th>\n",
       "      <th></th>\n",
       "    </tr>\n",
       "  </thead>\n",
       "  <tbody>\n",
       "    <tr>\n",
       "      <td>0</td>\n",
       "      <td>0.842105</td>\n",
       "      <td>0.157895</td>\n",
       "    </tr>\n",
       "    <tr>\n",
       "      <td>1</td>\n",
       "      <td>0.428571</td>\n",
       "      <td>0.571429</td>\n",
       "    </tr>\n",
       "    <tr>\n",
       "      <td>All</td>\n",
       "      <td>0.666667</td>\n",
       "      <td>0.333333</td>\n",
       "    </tr>\n",
       "  </tbody>\n",
       "</table>\n",
       "</div>"
      ],
      "text/plain": [
       "col_0               0         1\n",
       "DEATH_EVENT                    \n",
       "0            0.842105  0.157895\n",
       "1            0.428571  0.571429\n",
       "All          0.666667  0.333333"
      ]
     },
     "execution_count": 33,
     "metadata": {},
     "output_type": "execute_result"
    }
   ],
   "source": [
    "# Tabela que mostra a comparação entre a nossa classificação e a classificação do classificador\n",
    "tabela_comparativa = pd.crosstab(y_test, previsao_decision_tree, margins = True, normalize = 'index')\n",
    "tabela_comparativa"
   ]
  },
  {
   "cell_type": "markdown",
   "metadata": {},
   "source": [
    "Pela tabela comparativa acima, podemos perceber que o modelo de Decision Tree apresenta um número de acerto bastante considerável de 84,2% para quando o paciente sobrevive. Porém, quando analisamos os pacientes que morreram, o modelo tem apenas 57% de acerto. "
   ]
  },
  {
   "cell_type": "code",
   "execution_count": 34,
   "metadata": {},
   "outputs": [
    {
     "name": "stdout",
     "output_type": "stream",
     "text": [
      "Acurácia do modelo Decision Tree:  0.7272727272727273\n"
     ]
    }
   ],
   "source": [
    "# Acurácia do modelo\n",
    "print('Acurácia do modelo Decision Tree: ', accuracy_score(y_test, previsao_decision_tree))"
   ]
  },
  {
   "cell_type": "markdown",
   "metadata": {},
   "source": [
    "#### Random Forest"
   ]
  },
  {
   "cell_type": "code",
   "execution_count": 67,
   "metadata": {},
   "outputs": [
    {
     "name": "stdout",
     "output_type": "stream",
     "text": [
      "Valores dados: [0, 0, 1, 1, 0, 0, 1, 0, 1, 0, 0, 1, 1, 0, 0, 1, 0, 0, 1, 1, 0, 0, 0, 1, 1, 0, 0, 0, 1, 0, 1, 0, 0, 1, 1, 1, 1, 1, 0, 0, 1, 1, 0, 0, 0, 0, 0, 0, 0, 0, 1, 1, 1, 0, 0, 0, 0, 1, 0, 1, 1, 1, 1, 0, 1, 1, 0, 0, 0, 0, 1, 0, 0, 0, 0, 0, 0, 1, 0, 0, 1, 1, 0, 0, 0, 0, 1, 1, 1, 0, 0, 1, 0, 1, 1, 1, 0, 0, 1]\n",
      " \n",
      "Valores previstos: [1 0 0 1 0 0 0 0 1 0 0 0 0 0 1 1 0 0 0 0 0 0 0 1 1 0 0 0 0 0 1 0 1 1 1 1 0\n",
      " 0 0 0 0 0 0 0 0 0 0 0 0 0 0 0 0 0 0 0 0 1 0 1 1 0 0 0 1 1 0 1 0 0 1 0 0 0\n",
      " 0 0 0 1 0 0 0 1 0 0 0 0 0 1 1 0 0 0 0 1 1 1 0 0 0]\n",
      " \n",
      "Matriz de Confusão: \n",
      " [[53  4]\n",
      " [20 22]]\n",
      " \n"
     ]
    },
    {
     "data": {
      "image/png": "[encoded data removed]",
      "text/plain": [
       "<Figure size 216x216 with 2 Axes>"
      ]
     },
     "metadata": {
      "needs_background": "light"
     },
     "output_type": "display_data"
    }
   ],
   "source": [
    "# Vamos importar as bibliotecas do modelo Random Forest\n",
    "from sklearn.ensemble import RandomForestClassifier\n",
    "\n",
    "# Utilizando o modelo Random Forest\n",
    "modelo_random_forest = RandomForestClassifier(n_estimators = 100)\n",
    "modelo_random_forest.fit(X_train, y_train)\n",
    "\n",
    "# Prevendo o modelo Random Forest\n",
    "previsao_modelo_forest = modelo_random_forest.predict(X_test)\n",
    "\n",
    "# Imprimindo valores\n",
    "print('Valores dados:', list(y_test.values)) \n",
    "print(' ')\n",
    "print('Valores previstos:', previsao_modelo_forest) \n",
    "\n",
    "# Matriz de confusão\n",
    "matriz_random_forest = confusion_matrix(y_test, previsao_modelo_forest)\n",
    "print(' ')\n",
    "print (\"Matriz de Confusão: \\n\", matriz_random_forest)\n",
    "print(' ')\n",
    "# Para visualização:\n",
    "plt.figure(figsize = (3, 3))\n",
    "sn.heatmap(matriz_random_forest, annot_kws = {\"size\": 10}, annot = True)\n",
    "plt.xlabel('Previsto por Random Forest')\n",
    "plt.ylabel('Dados reais')\n",
    "plt.show()"
   ]
  },
  {
   "cell_type": "code",
   "execution_count": 68,
   "metadata": {},
   "outputs": [
    {
     "data": {
      "text/html": [
       "<div>\n",
       "<style scoped>\n",
       "    .dataframe tbody tr th:only-of-type {\n",
       "        vertical-align: middle;\n",
       "    }\n",
       "\n",
       "    .dataframe tbody tr th {\n",
       "        vertical-align: top;\n",
       "    }\n",
       "\n",
       "    .dataframe thead th {\n",
       "        text-align: right;\n",
       "    }\n",
       "</style>\n",
       "<table border=\"1\" class=\"dataframe\">\n",
       "  <thead>\n",
       "    <tr style=\"text-align: right;\">\n",
       "      <th>col_0</th>\n",
       "      <th>0</th>\n",
       "      <th>1</th>\n",
       "    </tr>\n",
       "    <tr>\n",
       "      <th>DEATH_EVENT</th>\n",
       "      <th></th>\n",
       "      <th></th>\n",
       "    </tr>\n",
       "  </thead>\n",
       "  <tbody>\n",
       "    <tr>\n",
       "      <td>0</td>\n",
       "      <td>0.929825</td>\n",
       "      <td>0.070175</td>\n",
       "    </tr>\n",
       "    <tr>\n",
       "      <td>1</td>\n",
       "      <td>0.476190</td>\n",
       "      <td>0.523810</td>\n",
       "    </tr>\n",
       "    <tr>\n",
       "      <td>All</td>\n",
       "      <td>0.737374</td>\n",
       "      <td>0.262626</td>\n",
       "    </tr>\n",
       "  </tbody>\n",
       "</table>\n",
       "</div>"
      ],
      "text/plain": [
       "col_0               0         1\n",
       "DEATH_EVENT                    \n",
       "0            0.929825  0.070175\n",
       "1            0.476190  0.523810\n",
       "All          0.737374  0.262626"
      ]
     },
     "execution_count": 68,
     "metadata": {},
     "output_type": "execute_result"
    }
   ],
   "source": [
    "# Tabela que mostra a comparação entre a nossa classificação e a classificação do classificador\n",
    "tabela_comparativa = pd.crosstab(y_test, previsao_modelo_forest, margins = True, normalize = 'index')\n",
    "tabela_comparativa"
   ]
  },
  {
   "cell_type": "markdown",
   "metadata": {},
   "source": [
    "Da mesma forma que no modelo anterior, o Random Forest tem uma alta porcentagem de acerto para classificar os pacientes que sobreviveram. Porém o modelo continua tendo resultados medianos para classificar os pacientes que não sobreviveram."
   ]
  },
  {
   "cell_type": "code",
   "execution_count": 69,
   "metadata": {},
   "outputs": [
    {
     "name": "stdout",
     "output_type": "stream",
     "text": [
      "Acurácia do modelo:  0.7575757575757576\n"
     ]
    }
   ],
   "source": [
    "# Acurácia do modelo Random Forest\n",
    "print('Acurácia do modelo: ', accuracy_score(y_test, previsao_modelo_forest))"
   ]
  },
  {
   "cell_type": "markdown",
   "metadata": {},
   "source": [
    "Podemos, a partir do modelo, descobrir quais as features que tem maior importância na hora de classificar se o paciente morreu ou não. Observe:"
   ]
  },
  {
   "cell_type": "code",
   "execution_count": 70,
   "metadata": {},
   "outputs": [
    {
     "data": {
      "text/plain": [
       "time                        0.355117\n",
       "serum_creatinine            0.141212\n",
       "ejection_fraction           0.136563\n",
       "age                         0.080198\n",
       "platelets                   0.078771\n",
       "serum_sodium                0.073803\n",
       "creatinine_phosphokinase    0.072540\n",
       "sex                         0.013947\n",
       "diabetes                    0.013229\n",
       "smoking                     0.012527\n",
       "anaemia                     0.011100\n",
       "high_blood_pressure         0.010992\n",
       "dtype: float64"
      ]
     },
     "execution_count": 70,
     "metadata": {},
     "output_type": "execute_result"
    }
   ],
   "source": [
    "# Vamos plotar as features que são as mais importantes de acordo com o modelo do Random Forest\n",
    "importancia_features = pd.Series(modelo_random_forest.feature_importances_, index = lista_features).sort_values(ascending=False)\n",
    "importancia_features"
   ]
  },
  {
   "cell_type": "markdown",
   "metadata": {},
   "source": [
    "#### Regressão Logística"
   ]
  },
  {
   "cell_type": "markdown",
   "metadata": {},
   "source": [
    "_Utilizando a biblioteca statsmodel_"
   ]
  },
  {
   "cell_type": "code",
   "execution_count": 71,
   "metadata": {},
   "outputs": [
    {
     "name": "stdout",
     "output_type": "stream",
     "text": [
      "Optimization terminated successfully.\n",
      "         Current function value: 0.320643\n",
      "         Iterations 7\n"
     ]
    }
   ],
   "source": [
    "# Vamos importar as bibliotecas do modelo Regressão Logística\n",
    "import statsmodels.api as sm \n",
    "\n",
    "# Utilizando o modelo Regressão Logística\n",
    "modelo_regressao_logistica = sm.Logit(y_train, X_train).fit() "
   ]
  },
  {
   "cell_type": "code",
   "execution_count": 72,
   "metadata": {
    "scrolled": false
   },
   "outputs": [
    {
     "data": {
      "text/html": [
       "<table class=\"simpletable\">\n",
       "<caption>Logit Regression Results</caption>\n",
       "<tr>\n",
       "  <th>Dep. Variable:</th>      <td>DEATH_EVENT</td>   <th>  No. Observations:  </th>  <td>   200</td>  \n",
       "</tr>\n",
       "<tr>\n",
       "  <th>Model:</th>                 <td>Logit</td>      <th>  Df Residuals:      </th>  <td>   188</td>  \n",
       "</tr>\n",
       "<tr>\n",
       "  <th>Method:</th>                 <td>MLE</td>       <th>  Df Model:          </th>  <td>    11</td>  \n",
       "</tr>\n",
       "<tr>\n",
       "  <th>Date:</th>            <td>Fri, 20 Nov 2020</td> <th>  Pseudo R-squ.:     </th>  <td>0.4503</td>  \n",
       "</tr>\n",
       "<tr>\n",
       "  <th>Time:</th>                <td>14:05:22</td>     <th>  Log-Likelihood:    </th> <td> -64.129</td> \n",
       "</tr>\n",
       "<tr>\n",
       "  <th>converged:</th>             <td>True</td>       <th>  LL-Null:           </th> <td> -116.65</td> \n",
       "</tr>\n",
       "<tr>\n",
       "  <th>Covariance Type:</th>     <td>nonrobust</td>    <th>  LLR p-value:       </th> <td>1.780e-17</td>\n",
       "</tr>\n",
       "</table>\n",
       "<table class=\"simpletable\">\n",
       "<tr>\n",
       "              <td></td>                <th>coef</th>     <th>std err</th>      <th>z</th>      <th>P>|z|</th>  <th>[0.025</th>    <th>0.975]</th>  \n",
       "</tr>\n",
       "<tr>\n",
       "  <th>age</th>                      <td>    0.0592</td> <td>    0.021</td> <td>    2.769</td> <td> 0.006</td> <td>    0.017</td> <td>    0.101</td>\n",
       "</tr>\n",
       "<tr>\n",
       "  <th>anaemia</th>                  <td>   -0.4807</td> <td>    0.506</td> <td>   -0.950</td> <td> 0.342</td> <td>   -1.472</td> <td>    0.511</td>\n",
       "</tr>\n",
       "<tr>\n",
       "  <th>creatinine_phosphokinase</th> <td> 7.608e-05</td> <td>    0.000</td> <td>    0.357</td> <td> 0.721</td> <td>   -0.000</td> <td>    0.000</td>\n",
       "</tr>\n",
       "<tr>\n",
       "  <th>diabetes</th>                 <td>    0.2775</td> <td>    0.465</td> <td>    0.596</td> <td> 0.551</td> <td>   -0.635</td> <td>    1.190</td>\n",
       "</tr>\n",
       "<tr>\n",
       "  <th>ejection_fraction</th>        <td>   -0.0791</td> <td>    0.022</td> <td>   -3.558</td> <td> 0.000</td> <td>   -0.123</td> <td>   -0.036</td>\n",
       "</tr>\n",
       "<tr>\n",
       "  <th>high_blood_pressure</th>      <td>   -0.1711</td> <td>    0.477</td> <td>   -0.358</td> <td> 0.720</td> <td>   -1.106</td> <td>    0.764</td>\n",
       "</tr>\n",
       "<tr>\n",
       "  <th>platelets</th>                <td>-1.838e-06</td> <td> 2.42e-06</td> <td>   -0.760</td> <td> 0.447</td> <td>-6.58e-06</td> <td>  2.9e-06</td>\n",
       "</tr>\n",
       "<tr>\n",
       "  <th>serum_creatinine</th>         <td>    0.9279</td> <td>    0.230</td> <td>    4.041</td> <td> 0.000</td> <td>    0.478</td> <td>    1.378</td>\n",
       "</tr>\n",
       "<tr>\n",
       "  <th>serum_sodium</th>             <td>    0.0028</td> <td>    0.012</td> <td>    0.234</td> <td> 0.815</td> <td>   -0.021</td> <td>    0.027</td>\n",
       "</tr>\n",
       "<tr>\n",
       "  <th>sex</th>                      <td>   -0.9521</td> <td>    0.531</td> <td>   -1.793</td> <td> 0.073</td> <td>   -1.993</td> <td>    0.089</td>\n",
       "</tr>\n",
       "<tr>\n",
       "  <th>smoking</th>                  <td>    0.3836</td> <td>    0.576</td> <td>    0.666</td> <td> 0.505</td> <td>   -0.745</td> <td>    1.512</td>\n",
       "</tr>\n",
       "<tr>\n",
       "  <th>time</th>                     <td>   -0.0224</td> <td>    0.004</td> <td>   -5.442</td> <td> 0.000</td> <td>   -0.030</td> <td>   -0.014</td>\n",
       "</tr>\n",
       "</table>"
      ],
      "text/plain": [
       "<class 'statsmodels.iolib.summary.Summary'>\n",
       "\"\"\"\n",
       "                           Logit Regression Results                           \n",
       "==============================================================================\n",
       "Dep. Variable:            DEATH_EVENT   No. Observations:                  200\n",
       "Model:                          Logit   Df Residuals:                      188\n",
       "Method:                           MLE   Df Model:                           11\n",
       "Date:                Fri, 20 Nov 2020   Pseudo R-squ.:                  0.4503\n",
       "Time:                        14:05:22   Log-Likelihood:                -64.129\n",
       "converged:                       True   LL-Null:                       -116.65\n",
       "Covariance Type:            nonrobust   LLR p-value:                 1.780e-17\n",
       "============================================================================================\n",
       "                               coef    std err          z      P>|z|      [0.025      0.975]\n",
       "--------------------------------------------------------------------------------------------\n",
       "age                          0.0592      0.021      2.769      0.006       0.017       0.101\n",
       "anaemia                     -0.4807      0.506     -0.950      0.342      -1.472       0.511\n",
       "creatinine_phosphokinase  7.608e-05      0.000      0.357      0.721      -0.000       0.000\n",
       "diabetes                     0.2775      0.465      0.596      0.551      -0.635       1.190\n",
       "ejection_fraction           -0.0791      0.022     -3.558      0.000      -0.123      -0.036\n",
       "high_blood_pressure         -0.1711      0.477     -0.358      0.720      -1.106       0.764\n",
       "platelets                -1.838e-06   2.42e-06     -0.760      0.447   -6.58e-06     2.9e-06\n",
       "serum_creatinine             0.9279      0.230      4.041      0.000       0.478       1.378\n",
       "serum_sodium                 0.0028      0.012      0.234      0.815      -0.021       0.027\n",
       "sex                         -0.9521      0.531     -1.793      0.073      -1.993       0.089\n",
       "smoking                      0.3836      0.576      0.666      0.505      -0.745       1.512\n",
       "time                        -0.0224      0.004     -5.442      0.000      -0.030      -0.014\n",
       "============================================================================================\n",
       "\"\"\""
      ]
     },
     "execution_count": 72,
     "metadata": {},
     "output_type": "execute_result"
    }
   ],
   "source": [
    "# Imprimindo um resumo da Regressão Logística \n",
    "modelo_regressao_logistica.summary()"
   ]
  },
  {
   "cell_type": "code",
   "execution_count": 80,
   "metadata": {
    "scrolled": false
   },
   "outputs": [
    {
     "name": "stdout",
     "output_type": "stream",
     "text": [
      "Valores dados: [0, 0, 1, 1, 0, 0, 1, 0, 1, 0, 0, 1, 1, 0, 0, 1, 0, 0, 1, 1, 0, 0, 0, 1, 1, 0, 0, 0, 1, 0, 1, 0, 0, 1, 1, 1, 1, 1, 0, 0, 1, 1, 0, 0, 0, 0, 0, 0, 0, 0, 1, 1, 1, 0, 0, 0, 0, 1, 0, 1, 1, 1, 1, 0, 1, 1, 0, 0, 0, 0, 1, 0, 0, 0, 0, 0, 0, 1, 0, 0, 1, 1, 0, 0, 0, 0, 1, 1, 1, 0, 0, 1, 0, 1, 1, 1, 0, 0, 1]\n",
      " \n",
      "Valores previstos: [0, 0, 0, 1, 0, 0, 0, 0, 1, 0, 0, 0, 0, 0, 1, 1, 0, 0, 0, 0, 0, 0, 0, 1, 1, 0, 0, 0, 0, 0, 1, 0, 1, 1, 1, 1, 0, 0, 0, 0, 0, 0, 0, 0, 0, 0, 0, 0, 0, 0, 0, 0, 0, 0, 0, 0, 0, 1, 0, 1, 1, 0, 0, 0, 1, 1, 0, 1, 0, 0, 0, 0, 0, 0, 0, 0, 0, 0, 0, 0, 0, 1, 0, 0, 0, 0, 1, 1, 1, 0, 0, 1, 0, 1, 1, 0, 0, 0, 1]\n",
      " \n",
      "Confusion Matrix : \n",
      " [[54  3]\n",
      " [20 22]]\n"
     ]
    },
    {
     "data": {
      "image/png": "[encoded data removed]",
      "text/plain": [
       "<Figure size 216x216 with 2 Axes>"
      ]
     },
     "metadata": {
      "needs_background": "light"
     },
     "output_type": "display_data"
    }
   ],
   "source": [
    "# Prevendo o modelo Regressão Logística\n",
    "previsao_modelo_regressao_logistica = modelo_regressao_logistica.predict(X_test)\n",
    "prediction = list(map(round, previsao_modelo_regressao_logistica)) \n",
    "\n",
    "# Imprimindo valores\n",
    "print('Valores dados:', list(y_test.values))\n",
    "print(' ')\n",
    "print('Valores previstos:', list(prediction)) \n",
    "\n",
    "# Observando a acurácia do nosso modelo de acordo com Regressão Logística\n",
    "metrics.accuracy_score(prediction, y_test)\n",
    "  \n",
    "# Matriz de confusão\n",
    "matriz_regressao_logistica = confusion_matrix(y_test, prediction)\n",
    "print(' ')\n",
    "print (\"Confusion Matrix : \\n\", matriz_regressao_logistica) \n",
    "# Para visualização:\n",
    "plt.figure(figsize = (3, 3))\n",
    "sn.heatmap(matriz_regressao_logistica, annot_kws = {\"size\": 10}, annot = True)\n",
    "plt.xlabel('Previsto pela Regressão Logística')\n",
    "plt.ylabel('Dados reais')\n",
    "plt.show()"
   ]
  },
  {
   "cell_type": "markdown",
   "metadata": {},
   "source": [
    "_Utilizando a biblioteca sklearn_"
   ]
  },
  {
   "cell_type": "code",
   "execution_count": 74,
   "metadata": {
    "scrolled": true
   },
   "outputs": [
    {
     "data": {
      "text/plain": [
       "LogisticRegression(C=1.0, class_weight=None, dual=False, fit_intercept=True,\n",
       "                   intercept_scaling=1, l1_ratio=None, max_iter=100,\n",
       "                   multi_class='auto', n_jobs=None, penalty='l2',\n",
       "                   random_state=None, solver='lbfgs', tol=0.0001, verbose=0,\n",
       "                   warm_start=False)"
      ]
     },
     "execution_count": 74,
     "metadata": {},
     "output_type": "execute_result"
    }
   ],
   "source": [
    "# Vamos importar as bibliotecas  do modelo Regressão Logística\n",
    "from sklearn.linear_model import LogisticRegression\n",
    "\n",
    "# Utilizando a função Regressão Logística com todas as features da base de dados\n",
    "modelo_regressao_logistica = LogisticRegression(solver='lbfgs', multi_class='auto')\n",
    "modelo_regressao_logistica.fit(X_train, y_train)"
   ]
  },
  {
   "cell_type": "code",
   "execution_count": 75,
   "metadata": {},
   "outputs": [
    {
     "data": {
      "text/html": [
       "<div>\n",
       "<style scoped>\n",
       "    .dataframe tbody tr th:only-of-type {\n",
       "        vertical-align: middle;\n",
       "    }\n",
       "\n",
       "    .dataframe tbody tr th {\n",
       "        vertical-align: top;\n",
       "    }\n",
       "\n",
       "    .dataframe thead th {\n",
       "        text-align: right;\n",
       "    }\n",
       "</style>\n",
       "<table border=\"1\" class=\"dataframe\">\n",
       "  <thead>\n",
       "    <tr style=\"text-align: right;\">\n",
       "      <th></th>\n",
       "      <th>Coeficientes</th>\n",
       "      <th>Features</th>\n",
       "    </tr>\n",
       "  </thead>\n",
       "  <tbody>\n",
       "    <tr>\n",
       "      <td>11</td>\n",
       "      <td>0.021432</td>\n",
       "      <td>time</td>\n",
       "    </tr>\n",
       "    <tr>\n",
       "      <td>0</td>\n",
       "      <td>0.009976</td>\n",
       "      <td>age</td>\n",
       "    </tr>\n",
       "    <tr>\n",
       "      <td>8</td>\n",
       "      <td>0.009390</td>\n",
       "      <td>serum_sodium</td>\n",
       "    </tr>\n",
       "    <tr>\n",
       "      <td>4</td>\n",
       "      <td>0.003059</td>\n",
       "      <td>ejection_fraction</td>\n",
       "    </tr>\n",
       "    <tr>\n",
       "      <td>7</td>\n",
       "      <td>0.000879</td>\n",
       "      <td>serum_creatinine</td>\n",
       "    </tr>\n",
       "    <tr>\n",
       "      <td>3</td>\n",
       "      <td>0.000051</td>\n",
       "      <td>diabetes</td>\n",
       "    </tr>\n",
       "    <tr>\n",
       "      <td>2</td>\n",
       "      <td>0.000051</td>\n",
       "      <td>creatinine_phosphokinase</td>\n",
       "    </tr>\n",
       "    <tr>\n",
       "      <td>5</td>\n",
       "      <td>0.000025</td>\n",
       "      <td>high_blood_pressure</td>\n",
       "    </tr>\n",
       "    <tr>\n",
       "      <td>1</td>\n",
       "      <td>0.000012</td>\n",
       "      <td>anaemia</td>\n",
       "    </tr>\n",
       "    <tr>\n",
       "      <td>10</td>\n",
       "      <td>0.000008</td>\n",
       "      <td>smoking</td>\n",
       "    </tr>\n",
       "    <tr>\n",
       "      <td>9</td>\n",
       "      <td>0.000006</td>\n",
       "      <td>sex</td>\n",
       "    </tr>\n",
       "    <tr>\n",
       "      <td>6</td>\n",
       "      <td>0.000002</td>\n",
       "      <td>platelets</td>\n",
       "    </tr>\n",
       "  </tbody>\n",
       "</table>\n",
       "</div>"
      ],
      "text/plain": [
       "    Coeficientes                  Features\n",
       "11      0.021432                      time\n",
       "0       0.009976                       age\n",
       "8       0.009390              serum_sodium\n",
       "4       0.003059         ejection_fraction\n",
       "7       0.000879          serum_creatinine\n",
       "3       0.000051                  diabetes\n",
       "2       0.000051  creatinine_phosphokinase\n",
       "5       0.000025       high_blood_pressure\n",
       "1       0.000012                   anaemia\n",
       "10      0.000008                   smoking\n",
       "9       0.000006                       sex\n",
       "6       0.000002                 platelets"
      ]
     },
     "execution_count": 75,
     "metadata": {},
     "output_type": "execute_result"
    }
   ],
   "source": [
    "# Imprimindo os coeficientes\n",
    "modelo_regressao_logistica.coef_[0]\n",
    "coef_absoluto_modelo_logistico = []\n",
    "for i in modelo_regressao_logistica.coef_[0]:\n",
    "    a = abs(i)\n",
    "    coef_absoluto_modelo_logistico.append(a)\n",
    "\n",
    "coef = pd.DataFrame(data = {'Coeficientes': coef_absoluto_modelo_logistico, 'Features': X_train.columns})\n",
    "coef.sort_values('Coeficientes', ascending = False)"
   ]
  },
  {
   "cell_type": "code",
   "execution_count": 76,
   "metadata": {
    "scrolled": false
   },
   "outputs": [
    {
     "name": "stdout",
     "output_type": "stream",
     "text": [
      "Valores dados: [0, 0, 1, 1, 0, 0, 1, 0, 1, 0, 0, 1, 1, 0, 0, 1, 0, 0, 1, 1, 0, 0, 0, 1, 1, 0, 0, 0, 1, 0, 1, 0, 0, 1, 1, 1, 1, 1, 0, 0, 1, 1, 0, 0, 0, 0, 0, 0, 0, 0, 1, 1, 1, 0, 0, 0, 0, 1, 0, 1, 1, 1, 1, 0, 1, 1, 0, 0, 0, 0, 1, 0, 0, 0, 0, 0, 0, 1, 0, 0, 1, 1, 0, 0, 0, 0, 1, 1, 1, 0, 0, 1, 0, 1, 1, 1, 0, 0, 1]\n",
      " \n",
      "Valores previstos: [0, 0, 0, 1, 0, 0, 0, 0, 1, 0, 0, 0, 0, 0, 1, 1, 0, 0, 0, 0, 0, 0, 0, 1, 1, 0, 0, 0, 0, 0, 1, 0, 1, 1, 1, 1, 0, 0, 0, 0, 0, 0, 0, 0, 0, 0, 0, 0, 0, 0, 0, 0, 0, 0, 0, 0, 0, 1, 0, 1, 1, 0, 0, 0, 1, 1, 0, 1, 0, 0, 0, 0, 0, 0, 0, 0, 0, 0, 0, 0, 0, 1, 0, 0, 0, 0, 1, 1, 1, 0, 0, 1, 0, 1, 1, 0, 0, 0, 1]\n",
      " \n",
      "Confusion Matrix : \n",
      " [[54  3]\n",
      " [20 22]]\n"
     ]
    },
    {
     "data": {
      "image/png": "[encoded data removed]",
      "text/plain": [
       "<Figure size 216x216 with 2 Axes>"
      ]
     },
     "metadata": {
      "needs_background": "light"
     },
     "output_type": "display_data"
    }
   ],
   "source": [
    "previsao_modelo_regressao_logistica = modelo_regressao_logistica.predict(X_test)\n",
    "\n",
    "# Imprimindo valores\n",
    "print('Valores dados:', list(y_test.values)) \n",
    "print(' ')\n",
    "print('Valores previstos:', list(previsao_modelo_regressao_logistica)) \n",
    "\n",
    "# Matriz de confusão\n",
    "matriz_regressao_logistica = confusion_matrix(y_test, previsao_modelo_regressao_logistica)\n",
    "print(' ')\n",
    "print (\"Confusion Matrix : \\n\", matriz_regressao_logistica) \n",
    "# Para visualização:\n",
    "plt.figure(figsize = (3, 3))\n",
    "sn.heatmap(matriz_regressao_logistica, annot_kws = {\"size\": 10}, annot = True)\n",
    "plt.xlabel('Previsto pela Regressão Logística')\n",
    "plt.ylabel('Dados reais')\n",
    "plt.show()"
   ]
  },
  {
   "cell_type": "markdown",
   "metadata": {},
   "source": [
    "Da matriz de confusão acima, podemos perceber que as cores mais claras estão na diagonal principal. Esses valores correspondem aos acertos do modelo, ou seja, quando o paciente sobreviveu ou morreu e foi classificado corretamente."
   ]
  },
  {
   "cell_type": "code",
   "execution_count": 78,
   "metadata": {},
   "outputs": [
    {
     "data": {
      "text/html": [
       "<div>\n",
       "<style scoped>\n",
       "    .dataframe tbody tr th:only-of-type {\n",
       "        vertical-align: middle;\n",
       "    }\n",
       "\n",
       "    .dataframe tbody tr th {\n",
       "        vertical-align: top;\n",
       "    }\n",
       "\n",
       "    .dataframe thead th {\n",
       "        text-align: right;\n",
       "    }\n",
       "</style>\n",
       "<table border=\"1\" class=\"dataframe\">\n",
       "  <thead>\n",
       "    <tr style=\"text-align: right;\">\n",
       "      <th>col_0</th>\n",
       "      <th>0</th>\n",
       "      <th>1</th>\n",
       "    </tr>\n",
       "    <tr>\n",
       "      <th>DEATH_EVENT</th>\n",
       "      <th></th>\n",
       "      <th></th>\n",
       "    </tr>\n",
       "  </thead>\n",
       "  <tbody>\n",
       "    <tr>\n",
       "      <td>0</td>\n",
       "      <td>0.947368</td>\n",
       "      <td>0.052632</td>\n",
       "    </tr>\n",
       "    <tr>\n",
       "      <td>1</td>\n",
       "      <td>0.476190</td>\n",
       "      <td>0.523810</td>\n",
       "    </tr>\n",
       "    <tr>\n",
       "      <td>All</td>\n",
       "      <td>0.747475</td>\n",
       "      <td>0.252525</td>\n",
       "    </tr>\n",
       "  </tbody>\n",
       "</table>\n",
       "</div>"
      ],
      "text/plain": [
       "col_0               0         1\n",
       "DEATH_EVENT                    \n",
       "0            0.947368  0.052632\n",
       "1            0.476190  0.523810\n",
       "All          0.747475  0.252525"
      ]
     },
     "execution_count": 78,
     "metadata": {},
     "output_type": "execute_result"
    }
   ],
   "source": [
    "# Tabela que mostra a comparação entre a nossa classificação e a classificação do classificador\n",
    "tabela_comparativa = pd.crosstab(y_test, previsao_modelo_regressao_logistica, margins = True, normalize = 'index')\n",
    "tabela_comparativa"
   ]
  },
  {
   "cell_type": "markdown",
   "metadata": {},
   "source": [
    "Na tabela comparativa acima, podemos perceber que, da mesma forma que os outros dois modelos, o classificador tem alta porcentagem de acerto quando classifica sobreviventes. Essa alta porcentagem pode ser observe inclusive na matriz de confusão plotada anteriormente."
   ]
  },
  {
   "cell_type": "code",
   "execution_count": 77,
   "metadata": {},
   "outputs": [
    {
     "name": "stdout",
     "output_type": "stream",
     "text": [
      "Acurácia do modelo:  0.7676767676767676\n"
     ]
    }
   ],
   "source": [
    "# Acurácia do modelo Regressão Logística\n",
    "print('Acurácia do modelo: ', accuracy_score(y_test, previsao_modelo_regressao_logistica))"
   ]
  },
  {
   "cell_type": "markdown",
   "metadata": {},
   "source": [
    "##### Refazendo os modelos com as features importantes"
   ]
  },
  {
   "cell_type": "markdown",
   "metadata": {},
   "source": [
    "Com os resultados anteriores, observamos quais eram as features que mais influenciavam na classificação do paciente em cada modelo. Dentre as mais comuns estão `time`, `serum_creatinine`, `ejection_fraction`, `age`. Assim, vamos refazer os modelos considerando apenas essas features."
   ]
  },
  {
   "cell_type": "code",
   "execution_count": 82,
   "metadata": {},
   "outputs": [],
   "source": [
    "#Definindo uma lista com as features importantes\n",
    "features_importantes = ['time', 'serum_creatinine', 'ejection_fraction', 'age']\n",
    "\n",
    "X_train_importantes = X_train.loc[:, features_importantes]\n",
    "X_test_importantes = X_test.loc[:, features_importantes]"
   ]
  },
  {
   "cell_type": "markdown",
   "metadata": {},
   "source": [
    "#### Random Forest"
   ]
  },
  {
   "cell_type": "code",
   "execution_count": 91,
   "metadata": {},
   "outputs": [
    {
     "name": "stdout",
     "output_type": "stream",
     "text": [
      "Valores dados: [0, 0, 1, 1, 0, 0, 1, 0, 1, 0, 0, 1, 1, 0, 0, 1, 0, 0, 1, 1, 0, 0, 0, 1, 1, 0, 0, 0, 1, 0, 1, 0, 0, 1, 1, 1, 1, 1, 0, 0, 1, 1, 0, 0, 0, 0, 0, 0, 0, 0, 1, 1, 1, 0, 0, 0, 0, 1, 0, 1, 1, 1, 1, 0, 1, 1, 0, 0, 0, 0, 1, 0, 0, 0, 0, 0, 0, 1, 0, 0, 1, 1, 0, 0, 0, 0, 1, 1, 1, 0, 0, 1, 0, 1, 1, 1, 0, 0, 1]\n",
      " \n",
      "Valores previstos: [1 0 0 1 0 0 0 0 1 0 0 0 0 0 1 0 0 0 0 0 1 1 1 1 1 0 0 0 0 0 1 0 1 1 1 1 0\n",
      " 0 0 0 1 1 0 0 0 0 0 0 0 0 1 0 0 0 0 0 0 1 0 1 1 1 0 0 1 1 0 1 0 0 1 0 0 0\n",
      " 1 0 0 1 0 0 0 1 0 0 0 0 0 1 1 0 0 1 0 1 1 0 0 0 1]\n",
      " \n",
      "Matriz de Confusão: \n",
      " [[49  8]\n",
      " [16 26]]\n",
      " \n"
     ]
    },
    {
     "data": {
      "image/png": "[encoded data removed]",
      "text/plain": [
       "<Figure size 216x216 with 2 Axes>"
      ]
     },
     "metadata": {
      "needs_background": "light"
     },
     "output_type": "display_data"
    }
   ],
   "source": [
    "# Utilizando o modelo Random Forest\n",
    "modelo_random_forest_importantes = RandomForestClassifier(n_estimators = 100)\n",
    "modelo_random_forest_importantes.fit(X_train_importantes, y_train)\n",
    "\n",
    "# Prevendo o modelo Random Forest\n",
    "previsao_modelo_forest_importantes = modelo_random_forest_importantes.predict(X_test_importantes)\n",
    "\n",
    "# Imprimindo valores\n",
    "print('Valores dados:', list(y_test.values)) \n",
    "print(' ')\n",
    "print('Valores previstos:', previsao_modelo_forest_importantes) \n",
    "\n",
    "# Matriz de confusão\n",
    "matriz_random_forest_importantes = confusion_matrix(y_test, previsao_modelo_forest_importantes)\n",
    "print(' ')\n",
    "print (\"Matriz de Confusão: \\n\", matriz_random_forest_importantes)\n",
    "print(' ')\n",
    "# Para visualização:\n",
    "plt.figure(figsize = (3, 3))\n",
    "sn.heatmap(matriz_random_forest_importantes, annot_kws = {\"size\": 10}, annot = True)\n",
    "plt.xlabel('Previsto pela Random Forest')\n",
    "plt.ylabel('Dados reais')\n",
    "plt.show()"
   ]
  },
  {
   "cell_type": "code",
   "execution_count": 92,
   "metadata": {},
   "outputs": [
    {
     "data": {
      "text/html": [
       "<div>\n",
       "<style scoped>\n",
       "    .dataframe tbody tr th:only-of-type {\n",
       "        vertical-align: middle;\n",
       "    }\n",
       "\n",
       "    .dataframe tbody tr th {\n",
       "        vertical-align: top;\n",
       "    }\n",
       "\n",
       "    .dataframe thead th {\n",
       "        text-align: right;\n",
       "    }\n",
       "</style>\n",
       "<table border=\"1\" class=\"dataframe\">\n",
       "  <thead>\n",
       "    <tr style=\"text-align: right;\">\n",
       "      <th>col_0</th>\n",
       "      <th>0</th>\n",
       "      <th>1</th>\n",
       "    </tr>\n",
       "    <tr>\n",
       "      <th>DEATH_EVENT</th>\n",
       "      <th></th>\n",
       "      <th></th>\n",
       "    </tr>\n",
       "  </thead>\n",
       "  <tbody>\n",
       "    <tr>\n",
       "      <td>0</td>\n",
       "      <td>0.859649</td>\n",
       "      <td>0.140351</td>\n",
       "    </tr>\n",
       "    <tr>\n",
       "      <td>1</td>\n",
       "      <td>0.380952</td>\n",
       "      <td>0.619048</td>\n",
       "    </tr>\n",
       "    <tr>\n",
       "      <td>All</td>\n",
       "      <td>0.656566</td>\n",
       "      <td>0.343434</td>\n",
       "    </tr>\n",
       "  </tbody>\n",
       "</table>\n",
       "</div>"
      ],
      "text/plain": [
       "col_0               0         1\n",
       "DEATH_EVENT                    \n",
       "0            0.859649  0.140351\n",
       "1            0.380952  0.619048\n",
       "All          0.656566  0.343434"
      ]
     },
     "execution_count": 92,
     "metadata": {},
     "output_type": "execute_result"
    }
   ],
   "source": [
    "# Tabela que mostra a comparação entre a nossa classificação e a classificação do classificador\n",
    "tabela_comparativa = pd.crosstab(y_test, previsao_modelo_forest_importantes, margins = True, normalize = 'index')\n",
    "tabela_comparativa"
   ]
  },
  {
   "cell_type": "markdown",
   "metadata": {},
   "source": [
    "Pela tabela comparativa, percebe-se que houve uma melhora ligeira na classificação dos pacientes que não sobreviveram quando consideramos apenas as features importantes. "
   ]
  },
  {
   "cell_type": "code",
   "execution_count": 93,
   "metadata": {},
   "outputs": [
    {
     "name": "stdout",
     "output_type": "stream",
     "text": [
      "Acurácia do modelo:  0.7575757575757576\n"
     ]
    }
   ],
   "source": [
    "# Acurácia do modelo Random Forest\n",
    "print('Acurácia do modelo: ', accuracy_score(y_test, previsao_modelo_forest_importantes))"
   ]
  },
  {
   "cell_type": "markdown",
   "metadata": {},
   "source": [
    "Observamos que a acurácia do modelo teve um pequeno aumento quando consideramos apenas as features importantes."
   ]
  },
  {
   "cell_type": "markdown",
   "metadata": {},
   "source": [
    "#### Regressão Logística"
   ]
  },
  {
   "cell_type": "code",
   "execution_count": 97,
   "metadata": {},
   "outputs": [
    {
     "name": "stdout",
     "output_type": "stream",
     "text": [
      "Valores dados: [0, 0, 1, 1, 0, 0, 1, 0, 1, 0, 0, 1, 1, 0, 0, 1, 0, 0, 1, 1, 0, 0, 0, 1, 1, 0, 0, 0, 1, 0, 1, 0, 0, 1, 1, 1, 1, 1, 0, 0, 1, 1, 0, 0, 0, 0, 0, 0, 0, 0, 1, 1, 1, 0, 0, 0, 0, 1, 0, 1, 1, 1, 1, 0, 1, 1, 0, 0, 0, 0, 1, 0, 0, 0, 0, 0, 0, 1, 0, 0, 1, 1, 0, 0, 0, 0, 1, 1, 1, 0, 0, 1, 0, 1, 1, 1, 0, 0, 1]\n",
      " \n",
      "Valores previstos: [0, 0, 0, 1, 0, 0, 1, 0, 1, 0, 0, 0, 0, 0, 0, 0, 0, 0, 0, 0, 0, 0, 0, 1, 1, 0, 0, 0, 0, 0, 1, 0, 1, 1, 1, 0, 0, 0, 0, 0, 1, 1, 0, 0, 1, 0, 0, 0, 0, 0, 1, 0, 1, 0, 0, 0, 0, 1, 0, 1, 1, 0, 0, 0, 1, 1, 0, 1, 0, 0, 1, 1, 0, 0, 0, 0, 0, 1, 0, 0, 0, 0, 0, 0, 0, 0, 1, 1, 1, 0, 0, 1, 0, 1, 1, 1, 0, 0, 1]\n",
      " \n",
      "Confusion Matrix: \n",
      " [[53  4]\n",
      " [15 27]]\n"
     ]
    },
    {
     "data": {
      "image/png": "[encoded data removed]",
      "text/plain": [
       "<Figure size 216x216 with 2 Axes>"
      ]
     },
     "metadata": {
      "needs_background": "light"
     },
     "output_type": "display_data"
    }
   ],
   "source": [
    "# Utilizando a função Regressão Logística com todas as features da base de dados\n",
    "modelo_regressao_logistica_importantes = LogisticRegression(solver='lbfgs', multi_class='auto')\n",
    "modelo_regressao_logistica_importantes.fit(X_train_importantes, y_train)\n",
    "\n",
    "previsao_modelo_regressao_logistica_importantes = modelo_regressao_logistica_importantes.predict(X_test_importantes)\n",
    "\n",
    "# Imprimindo valores\n",
    "print('Valores dados:', list(y_test.values)) \n",
    "print(' ')\n",
    "print('Valores previstos:', list(previsao_modelo_regressao_logistica_importantes)) \n",
    "\n",
    "# Observando a acurácia do nosso modelo de acordo com Regressão Logística\n",
    "metrics.accuracy_score(previsao_modelo_regressao_logistica_importantes, y_test)\n",
    "\n",
    "# confusion matrix \n",
    "matriz_regressao_logistica_importantes = confusion_matrix(y_test, previsao_modelo_regressao_logistica_importantes)\n",
    "print(' ')\n",
    "print (\"Confusion Matrix: \\n\", matriz_regressao_logistica_importantes)\n",
    "# Para visualização:\n",
    "plt.figure(figsize = (3, 3))\n",
    "sn.heatmap(matriz_random_forest_importantes, annot_kws = {\"size\": 10}, annot = True)\n",
    "plt.xlabel('Previsto pela Regressão Logística')\n",
    "plt.ylabel('Dados reais')\n",
    "plt.show()"
   ]
  },
  {
   "cell_type": "code",
   "execution_count": 98,
   "metadata": {},
   "outputs": [
    {
     "data": {
      "text/html": [
       "<div>\n",
       "<style scoped>\n",
       "    .dataframe tbody tr th:only-of-type {\n",
       "        vertical-align: middle;\n",
       "    }\n",
       "\n",
       "    .dataframe tbody tr th {\n",
       "        vertical-align: top;\n",
       "    }\n",
       "\n",
       "    .dataframe thead th {\n",
       "        text-align: right;\n",
       "    }\n",
       "</style>\n",
       "<table border=\"1\" class=\"dataframe\">\n",
       "  <thead>\n",
       "    <tr style=\"text-align: right;\">\n",
       "      <th>col_0</th>\n",
       "      <th>0</th>\n",
       "      <th>1</th>\n",
       "    </tr>\n",
       "    <tr>\n",
       "      <th>DEATH_EVENT</th>\n",
       "      <th></th>\n",
       "      <th></th>\n",
       "    </tr>\n",
       "  </thead>\n",
       "  <tbody>\n",
       "    <tr>\n",
       "      <td>0</td>\n",
       "      <td>0.929825</td>\n",
       "      <td>0.070175</td>\n",
       "    </tr>\n",
       "    <tr>\n",
       "      <td>1</td>\n",
       "      <td>0.357143</td>\n",
       "      <td>0.642857</td>\n",
       "    </tr>\n",
       "    <tr>\n",
       "      <td>All</td>\n",
       "      <td>0.686869</td>\n",
       "      <td>0.313131</td>\n",
       "    </tr>\n",
       "  </tbody>\n",
       "</table>\n",
       "</div>"
      ],
      "text/plain": [
       "col_0               0         1\n",
       "DEATH_EVENT                    \n",
       "0            0.929825  0.070175\n",
       "1            0.357143  0.642857\n",
       "All          0.686869  0.313131"
      ]
     },
     "execution_count": 98,
     "metadata": {},
     "output_type": "execute_result"
    }
   ],
   "source": [
    "# Tabela que mostra a comparação entre a nossa classificação e a classificação do classificador\n",
    "tabela_comparativa = pd.crosstab(y_test, previsao_modelo_regressao_logistica_importantes, margins = True, normalize = 'index')\n",
    "tabela_comparativa"
   ]
  },
  {
   "cell_type": "markdown",
   "metadata": {},
   "source": [
    "Da mesma forma que o modelo Random Forest, a classificação melhora relativamente para os pacientes que não sobreviveram."
   ]
  },
  {
   "cell_type": "code",
   "execution_count": 99,
   "metadata": {},
   "outputs": [
    {
     "name": "stdout",
     "output_type": "stream",
     "text": [
      "Acurácia do modelo:  0.8080808080808081\n"
     ]
    }
   ],
   "source": [
    "# Acurácia do modelo Regressão Logística\n",
    "print('Acurácia do modelo: ', accuracy_score(y_test, previsao_modelo_regressao_logistica_importantes))"
   ]
  },
  {
   "cell_type": "markdown",
   "metadata": {},
   "source": [
    "A acurácia do modelo da Regressão Logística quando consideramos apenas as features importantes é maior. "
   ]
  }
 ],
 "metadata": {
  "kernelspec": {
   "display_name": "Python 3",
   "language": "python",
   "name": "python3"
  },
  "language_info": {
   "codemirror_mode": {
    "name": "ipython",
    "version": 3
   },
   "file_extension": ".py",
   "mimetype": "text/x-python",
   "name": "python",
   "nbconvert_exporter": "python",
   "pygments_lexer": "ipython3",
   "version": "3.7.4"
  }
 },
 "nbformat": 4,
 "nbformat_minor": 2
}
